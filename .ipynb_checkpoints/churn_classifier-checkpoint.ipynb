{
 "cells": [
  {
   "cell_type": "markdown",
   "metadata": {
    "toc": true
   },
   "source": [
    "<h1>Table of Contents<span class=\"tocSkip\"></span></h1>\n",
    "<div class=\"toc\"><ul class=\"toc-item\"><li><span><a href=\"#Intro\" data-toc-modified-id=\"Intro-1\"><span class=\"toc-item-num\">1&nbsp;&nbsp;</span>Intro</a></span><ul class=\"toc-item\"><li><span><a href=\"#Problem-Statement\" data-toc-modified-id=\"Problem-Statement-1.1\"><span class=\"toc-item-num\">1.1&nbsp;&nbsp;</span>Problem Statement</a></span></li><li><span><a href=\"#Business-Value\" data-toc-modified-id=\"Business-Value-1.2\"><span class=\"toc-item-num\">1.2&nbsp;&nbsp;</span>Business Value</a></span></li><li><span><a href=\"#Customer-Churn\" data-toc-modified-id=\"Customer-Churn-1.3\"><span class=\"toc-item-num\">1.3&nbsp;&nbsp;</span>Customer Churn</a></span></li><li><span><a href=\"#Strategy\" data-toc-modified-id=\"Strategy-1.4\"><span class=\"toc-item-num\">1.4&nbsp;&nbsp;</span>Strategy</a></span></li></ul></li><li><span><a href=\"#Import-Data-&amp;-Packages\" data-toc-modified-id=\"Import-Data-&amp;-Packages-2\"><span class=\"toc-item-num\">2&nbsp;&nbsp;</span>Import Data &amp; Packages</a></span></li><li><span><a href=\"#EDA-&amp;-Cleaning\" data-toc-modified-id=\"EDA-&amp;-Cleaning-3\"><span class=\"toc-item-num\">3&nbsp;&nbsp;</span>EDA &amp; Cleaning</a></span><ul class=\"toc-item\"><li><span><a href=\"#Summary-Statistics\" data-toc-modified-id=\"Summary-Statistics-3.1\"><span class=\"toc-item-num\">3.1&nbsp;&nbsp;</span>Summary Statistics</a></span><ul class=\"toc-item\"><li><span><a href=\"#Charges-vs.-Customer-Service-Calls\" data-toc-modified-id=\"Charges-vs.-Customer-Service-Calls-3.1.1\"><span class=\"toc-item-num\">3.1.1&nbsp;&nbsp;</span>Charges vs. Customer Service Calls</a></span></li></ul></li><li><span><a href=\"#Normality-Check\" data-toc-modified-id=\"Normality-Check-3.2\"><span class=\"toc-item-num\">3.2&nbsp;&nbsp;</span>Normality Check</a></span></li><li><span><a href=\"#Correlation-Matrix\" data-toc-modified-id=\"Correlation-Matrix-3.3\"><span class=\"toc-item-num\">3.3&nbsp;&nbsp;</span>Correlation Matrix</a></span><ul class=\"toc-item\"><li><span><a href=\"#Minutes-vs.-Charges\" data-toc-modified-id=\"Minutes-vs.-Charges-3.3.1\"><span class=\"toc-item-num\">3.3.1&nbsp;&nbsp;</span>Minutes vs. Charges</a></span></li></ul></li><li><span><a href=\"#Categorical-Features\" data-toc-modified-id=\"Categorical-Features-3.4\"><span class=\"toc-item-num\">3.4&nbsp;&nbsp;</span>Categorical Features</a></span><ul class=\"toc-item\"><li><span><a href=\"#States\" data-toc-modified-id=\"States-3.4.1\"><span class=\"toc-item-num\">3.4.1&nbsp;&nbsp;</span>States</a></span></li><li><span><a href=\"#Area-Code\" data-toc-modified-id=\"Area-Code-3.4.2\"><span class=\"toc-item-num\">3.4.2&nbsp;&nbsp;</span>Area Code</a></span></li><li><span><a href=\"#Account-Length\" data-toc-modified-id=\"Account-Length-3.4.3\"><span class=\"toc-item-num\">3.4.3&nbsp;&nbsp;</span>Account Length</a></span></li><li><span><a href=\"#Churn:-Target-Variable\" data-toc-modified-id=\"Churn:-Target-Variable-3.4.4\"><span class=\"toc-item-num\">3.4.4&nbsp;&nbsp;</span>Churn: Target Variable</a></span></li></ul></li></ul></li><li><span><a href=\"#Pre-processing\" data-toc-modified-id=\"Pre-processing-4\"><span class=\"toc-item-num\">4&nbsp;&nbsp;</span>Pre-processing</a></span><ul class=\"toc-item\"><li><span><a href=\"#One-Hot-Encode-Categorical-Data\" data-toc-modified-id=\"One-Hot-Encode-Categorical-Data-4.1\"><span class=\"toc-item-num\">4.1&nbsp;&nbsp;</span>One-Hot-Encode Categorical Data</a></span></li><li><span><a href=\"#Separate-Target-&amp;-Predictor-Variables\" data-toc-modified-id=\"Separate-Target-&amp;-Predictor-Variables-4.2\"><span class=\"toc-item-num\">4.2&nbsp;&nbsp;</span>Separate Target &amp; Predictor Variables</a></span></li><li><span><a href=\"#Address-Class-Imbalance\" data-toc-modified-id=\"Address-Class-Imbalance-4.3\"><span class=\"toc-item-num\">4.3&nbsp;&nbsp;</span>Address Class Imbalance</a></span></li></ul></li><li><span><a href=\"#Baseline-Models\" data-toc-modified-id=\"Baseline-Models-5\"><span class=\"toc-item-num\">5&nbsp;&nbsp;</span>Baseline Models</a></span><ul class=\"toc-item\"><li><span><a href=\"#Logistic-Regression-Classifier\" data-toc-modified-id=\"Logistic-Regression-Classifier-5.1\"><span class=\"toc-item-num\">5.1&nbsp;&nbsp;</span>Logistic Regression Classifier</a></span><ul class=\"toc-item\"><li><span><a href=\"#Fit-Model-&amp;-Predict\" data-toc-modified-id=\"Fit-Model-&amp;-Predict-5.1.1\"><span class=\"toc-item-num\">5.1.1&nbsp;&nbsp;</span>Fit Model &amp; Predict</a></span></li></ul></li><li><span><a href=\"#KNN-Classifier\" data-toc-modified-id=\"KNN-Classifier-5.2\"><span class=\"toc-item-num\">5.2&nbsp;&nbsp;</span>KNN Classifier</a></span><ul class=\"toc-item\"><li><span><a href=\"#Fit-Model-&amp;-Predict\" data-toc-modified-id=\"Fit-Model-&amp;-Predict-5.2.1\"><span class=\"toc-item-num\">5.2.1&nbsp;&nbsp;</span>Fit Model &amp; Predict</a></span></li></ul></li><li><span><a href=\"#Bagging-Tree-Classifier\" data-toc-modified-id=\"Bagging-Tree-Classifier-5.3\"><span class=\"toc-item-num\">5.3&nbsp;&nbsp;</span>Bagging Tree Classifier</a></span><ul class=\"toc-item\"><li><span><a href=\"#Fit-Model-&amp;-Predict\" data-toc-modified-id=\"Fit-Model-&amp;-Predict-5.3.1\"><span class=\"toc-item-num\">5.3.1&nbsp;&nbsp;</span>Fit Model &amp; Predict</a></span></li></ul></li><li><span><a href=\"#Random-Forest-Classifier\" data-toc-modified-id=\"Random-Forest-Classifier-5.4\"><span class=\"toc-item-num\">5.4&nbsp;&nbsp;</span>Random Forest Classifier</a></span><ul class=\"toc-item\"><li><span><a href=\"#Cross-validation\" data-toc-modified-id=\"Cross-validation-5.4.1\"><span class=\"toc-item-num\">5.4.1&nbsp;&nbsp;</span>Cross-validation</a></span></li><li><span><a href=\"#Fit-Model-&amp;-Predict\" data-toc-modified-id=\"Fit-Model-&amp;-Predict-5.4.2\"><span class=\"toc-item-num\">5.4.2&nbsp;&nbsp;</span>Fit Model &amp; Predict</a></span></li></ul></li><li><span><a href=\"#SVC-Classifier\" data-toc-modified-id=\"SVC-Classifier-5.5\"><span class=\"toc-item-num\">5.5&nbsp;&nbsp;</span>SVC Classifier</a></span><ul class=\"toc-item\"><li><span><a href=\"#Fit-Model-&amp;-Predict\" data-toc-modified-id=\"Fit-Model-&amp;-Predict-5.5.1\"><span class=\"toc-item-num\">5.5.1&nbsp;&nbsp;</span>Fit Model &amp; Predict</a></span></li></ul></li><li><span><a href=\"#XGBoost-Classifier\" data-toc-modified-id=\"XGBoost-Classifier-5.6\"><span class=\"toc-item-num\">5.6&nbsp;&nbsp;</span>XGBoost Classifier</a></span><ul class=\"toc-item\"><li><span><a href=\"#Fit-Model-&amp;-Predict\" data-toc-modified-id=\"Fit-Model-&amp;-Predict-5.6.1\"><span class=\"toc-item-num\">5.6.1&nbsp;&nbsp;</span>Fit Model &amp; Predict</a></span></li><li><span><a href=\"#Feature-Ranking\" data-toc-modified-id=\"Feature-Ranking-5.6.2\"><span class=\"toc-item-num\">5.6.2&nbsp;&nbsp;</span>Feature Ranking</a></span></li></ul></li></ul></li><li><span><a href=\"#Accuracy-Metrics\" data-toc-modified-id=\"Accuracy-Metrics-6\"><span class=\"toc-item-num\">6&nbsp;&nbsp;</span>Accuracy Metrics</a></span><ul class=\"toc-item\"><li><span><a href=\"#Confusion-Matrices\" data-toc-modified-id=\"Confusion-Matrices-6.1\"><span class=\"toc-item-num\">6.1&nbsp;&nbsp;</span>Confusion Matrices</a></span></li><li><span><a href=\"#Classification-Reports\" data-toc-modified-id=\"Classification-Reports-6.2\"><span class=\"toc-item-num\">6.2&nbsp;&nbsp;</span>Classification Reports</a></span></li><li><span><a href=\"#ROC-Curves\" data-toc-modified-id=\"ROC-Curves-6.3\"><span class=\"toc-item-num\">6.3&nbsp;&nbsp;</span>ROC Curves</a></span></li><li><span><a href=\"#Accuracy-Scores\" data-toc-modified-id=\"Accuracy-Scores-6.4\"><span class=\"toc-item-num\">6.4&nbsp;&nbsp;</span>Accuracy Scores</a></span></li></ul></li><li><span><a href=\"#Hyperparameter-Tuning\" data-toc-modified-id=\"Hyperparameter-Tuning-7\"><span class=\"toc-item-num\">7&nbsp;&nbsp;</span>Hyperparameter Tuning</a></span><ul class=\"toc-item\"><li><span><a href=\"#Bagging-Classifier\" data-toc-modified-id=\"Bagging-Classifier-7.1\"><span class=\"toc-item-num\">7.1&nbsp;&nbsp;</span>Bagging Classifier</a></span><ul class=\"toc-item\"><li><span><a href=\"#Grid-Search\" data-toc-modified-id=\"Grid-Search-7.1.1\"><span class=\"toc-item-num\">7.1.1&nbsp;&nbsp;</span>Grid Search</a></span></li></ul></li><li><span><a href=\"#Random-Forest-Classifier\" data-toc-modified-id=\"Random-Forest-Classifier-7.2\"><span class=\"toc-item-num\">7.2&nbsp;&nbsp;</span>Random Forest Classifier</a></span><ul class=\"toc-item\"><li><span><a href=\"#Grid-Search\" data-toc-modified-id=\"Grid-Search-7.2.1\"><span class=\"toc-item-num\">7.2.1&nbsp;&nbsp;</span>Grid Search</a></span></li></ul></li><li><span><a href=\"#XGBoost-Classifier\" data-toc-modified-id=\"XGBoost-Classifier-7.3\"><span class=\"toc-item-num\">7.3&nbsp;&nbsp;</span>XGBoost Classifier</a></span></li></ul></li><li><span><a href=\"#Conclusion\" data-toc-modified-id=\"Conclusion-8\"><span class=\"toc-item-num\">8&nbsp;&nbsp;</span>Conclusion</a></span></li><li><span><a href=\"#Recommendations\" data-toc-modified-id=\"Recommendations-9\"><span class=\"toc-item-num\">9&nbsp;&nbsp;</span>Recommendations</a></span></li><li><span><a href=\"#Future-Work\" data-toc-modified-id=\"Future-Work-10\"><span class=\"toc-item-num\">10&nbsp;&nbsp;</span>Future Work</a></span></li></ul></div>"
   ]
  },
  {
   "cell_type": "markdown",
   "metadata": {},
   "source": [
    "## Intro\n",
    "\n",
    "### Problem Statement\n",
    "\n",
    "\n",
    "\n",
    "### Business Value\n",
    "\n",
    "\n",
    "\n",
    "### Customer Churn\n",
    "\n",
    "\n",
    "\n",
    "### Strategy\n",
    "\n",
    "We will create baseline models for 6 different classifiers and then tune the top 3 using GridSearchCV.\n",
    "\n",
    "We care mostly about the true positive rate. Since the cost of acquiring a customer is higher than the cost of retaining a customer, it is okay if we have some false positives. We also want to minimize false negatives. Therefore we will be optimizing for recall.\n",
    "\n",
    "The models we will be testing are:\n",
    "- Logistic Regression Classifier\n",
    "- k-Nearest Neighbors Classifier (KNN)\n",
    "- Bagging Tree Classifier (with Decision Trees)\n",
    "- Random Forest Classifier\n",
    "- Support Vector Classification Classifier (SVC)\n",
    "- XGBoost Classifier"
   ]
  },
  {
   "cell_type": "markdown",
   "metadata": {},
   "source": [
    "## Import Data & Packages"
   ]
  },
  {
   "cell_type": "code",
   "execution_count": 1,
   "metadata": {},
   "outputs": [
    {
     "name": "stderr",
     "output_type": "stream",
     "text": [
      "/opt/anaconda3/envs/learn-env/lib/python3.6/site-packages/sklearn/externals/six.py:31: FutureWarning: The module is deprecated in version 0.21 and will be removed in version 0.23 since we've dropped support for Python 2.7. Please rely on the official version of six (https://pypi.org/project/six/).\n",
      "  \"(https://pypi.org/project/six/).\", FutureWarning)\n",
      "/opt/anaconda3/envs/learn-env/lib/python3.6/site-packages/sklearn/utils/deprecation.py:144: FutureWarning: The sklearn.neighbors.base module is  deprecated in version 0.22 and will be removed in version 0.24. The corresponding classes / functions should instead be imported from sklearn.neighbors. Anything that cannot be imported from sklearn.neighbors is now part of the private API.\n",
      "  warnings.warn(message, FutureWarning)\n"
     ]
    }
   ],
   "source": [
    "### Import necessary libraries & packages ###\n",
    "\n",
    "import numpy as np\n",
    "import pandas as pd\n",
    "import seaborn as sns\n",
    "import matplotlib.pyplot as plt\n",
    "%matplotlib inline  \n",
    "\n",
    "from sklearn.model_selection import train_test_split, cross_val_score, GridSearchCV\n",
    "\n",
    "from sklearn.linear_model import LogisticRegression\n",
    "from sklearn.tree import DecisionTreeClassifier\n",
    "from sklearn.ensemble import BaggingClassifier, RandomForestClassifier\n",
    "from sklearn.neighbors import KNeighborsClassifier\n",
    "from sklearn.svm import LinearSVC\n",
    "import xgboost as xgb\n",
    "\n",
    "from sklearn.pipeline import Pipeline\n",
    "from sklearn.preprocessing import MinMaxScaler, StandardScaler\n",
    "from imblearn.over_sampling import SMOTE\n",
    "\n",
    "from sklearn.metrics import roc_curve, roc_auc_score, accuracy_score, recall_score, confusion_matrix, plot_confusion_matrix, classification_report\n",
    "\n",
    "import warnings\n",
    "warnings.filterwarnings(\"ignore\")"
   ]
  },
  {
   "cell_type": "code",
   "execution_count": 2,
   "metadata": {},
   "outputs": [
    {
     "data": {
      "text/html": [
       "<div>\n",
       "<style scoped>\n",
       "    .dataframe tbody tr th:only-of-type {\n",
       "        vertical-align: middle;\n",
       "    }\n",
       "\n",
       "    .dataframe tbody tr th {\n",
       "        vertical-align: top;\n",
       "    }\n",
       "\n",
       "    .dataframe thead th {\n",
       "        text-align: right;\n",
       "    }\n",
       "</style>\n",
       "<table border=\"1\" class=\"dataframe\">\n",
       "  <thead>\n",
       "    <tr style=\"text-align: right;\">\n",
       "      <th></th>\n",
       "      <th>state</th>\n",
       "      <th>account length</th>\n",
       "      <th>area code</th>\n",
       "      <th>phone number</th>\n",
       "      <th>international plan</th>\n",
       "      <th>voice mail plan</th>\n",
       "      <th>number vmail messages</th>\n",
       "      <th>total day minutes</th>\n",
       "      <th>total day calls</th>\n",
       "      <th>total day charge</th>\n",
       "      <th>...</th>\n",
       "      <th>total eve calls</th>\n",
       "      <th>total eve charge</th>\n",
       "      <th>total night minutes</th>\n",
       "      <th>total night calls</th>\n",
       "      <th>total night charge</th>\n",
       "      <th>total intl minutes</th>\n",
       "      <th>total intl calls</th>\n",
       "      <th>total intl charge</th>\n",
       "      <th>customer service calls</th>\n",
       "      <th>churn</th>\n",
       "    </tr>\n",
       "  </thead>\n",
       "  <tbody>\n",
       "    <tr>\n",
       "      <td>0</td>\n",
       "      <td>KS</td>\n",
       "      <td>128</td>\n",
       "      <td>415</td>\n",
       "      <td>382-4657</td>\n",
       "      <td>no</td>\n",
       "      <td>yes</td>\n",
       "      <td>25</td>\n",
       "      <td>265.1</td>\n",
       "      <td>110</td>\n",
       "      <td>45.07</td>\n",
       "      <td>...</td>\n",
       "      <td>99</td>\n",
       "      <td>16.78</td>\n",
       "      <td>244.7</td>\n",
       "      <td>91</td>\n",
       "      <td>11.01</td>\n",
       "      <td>10.0</td>\n",
       "      <td>3</td>\n",
       "      <td>2.70</td>\n",
       "      <td>1</td>\n",
       "      <td>False</td>\n",
       "    </tr>\n",
       "    <tr>\n",
       "      <td>1</td>\n",
       "      <td>OH</td>\n",
       "      <td>107</td>\n",
       "      <td>415</td>\n",
       "      <td>371-7191</td>\n",
       "      <td>no</td>\n",
       "      <td>yes</td>\n",
       "      <td>26</td>\n",
       "      <td>161.6</td>\n",
       "      <td>123</td>\n",
       "      <td>27.47</td>\n",
       "      <td>...</td>\n",
       "      <td>103</td>\n",
       "      <td>16.62</td>\n",
       "      <td>254.4</td>\n",
       "      <td>103</td>\n",
       "      <td>11.45</td>\n",
       "      <td>13.7</td>\n",
       "      <td>3</td>\n",
       "      <td>3.70</td>\n",
       "      <td>1</td>\n",
       "      <td>False</td>\n",
       "    </tr>\n",
       "    <tr>\n",
       "      <td>2</td>\n",
       "      <td>NJ</td>\n",
       "      <td>137</td>\n",
       "      <td>415</td>\n",
       "      <td>358-1921</td>\n",
       "      <td>no</td>\n",
       "      <td>no</td>\n",
       "      <td>0</td>\n",
       "      <td>243.4</td>\n",
       "      <td>114</td>\n",
       "      <td>41.38</td>\n",
       "      <td>...</td>\n",
       "      <td>110</td>\n",
       "      <td>10.30</td>\n",
       "      <td>162.6</td>\n",
       "      <td>104</td>\n",
       "      <td>7.32</td>\n",
       "      <td>12.2</td>\n",
       "      <td>5</td>\n",
       "      <td>3.29</td>\n",
       "      <td>0</td>\n",
       "      <td>False</td>\n",
       "    </tr>\n",
       "    <tr>\n",
       "      <td>3</td>\n",
       "      <td>OH</td>\n",
       "      <td>84</td>\n",
       "      <td>408</td>\n",
       "      <td>375-9999</td>\n",
       "      <td>yes</td>\n",
       "      <td>no</td>\n",
       "      <td>0</td>\n",
       "      <td>299.4</td>\n",
       "      <td>71</td>\n",
       "      <td>50.90</td>\n",
       "      <td>...</td>\n",
       "      <td>88</td>\n",
       "      <td>5.26</td>\n",
       "      <td>196.9</td>\n",
       "      <td>89</td>\n",
       "      <td>8.86</td>\n",
       "      <td>6.6</td>\n",
       "      <td>7</td>\n",
       "      <td>1.78</td>\n",
       "      <td>2</td>\n",
       "      <td>False</td>\n",
       "    </tr>\n",
       "    <tr>\n",
       "      <td>4</td>\n",
       "      <td>OK</td>\n",
       "      <td>75</td>\n",
       "      <td>415</td>\n",
       "      <td>330-6626</td>\n",
       "      <td>yes</td>\n",
       "      <td>no</td>\n",
       "      <td>0</td>\n",
       "      <td>166.7</td>\n",
       "      <td>113</td>\n",
       "      <td>28.34</td>\n",
       "      <td>...</td>\n",
       "      <td>122</td>\n",
       "      <td>12.61</td>\n",
       "      <td>186.9</td>\n",
       "      <td>121</td>\n",
       "      <td>8.41</td>\n",
       "      <td>10.1</td>\n",
       "      <td>3</td>\n",
       "      <td>2.73</td>\n",
       "      <td>3</td>\n",
       "      <td>False</td>\n",
       "    </tr>\n",
       "  </tbody>\n",
       "</table>\n",
       "<p>5 rows × 21 columns</p>\n",
       "</div>"
      ],
      "text/plain": [
       "  state  account length  area code phone number international plan  \\\n",
       "0    KS             128        415     382-4657                 no   \n",
       "1    OH             107        415     371-7191                 no   \n",
       "2    NJ             137        415     358-1921                 no   \n",
       "3    OH              84        408     375-9999                yes   \n",
       "4    OK              75        415     330-6626                yes   \n",
       "\n",
       "  voice mail plan  number vmail messages  total day minutes  total day calls  \\\n",
       "0             yes                     25              265.1              110   \n",
       "1             yes                     26              161.6              123   \n",
       "2              no                      0              243.4              114   \n",
       "3              no                      0              299.4               71   \n",
       "4              no                      0              166.7              113   \n",
       "\n",
       "   total day charge  ...  total eve calls  total eve charge  \\\n",
       "0             45.07  ...               99             16.78   \n",
       "1             27.47  ...              103             16.62   \n",
       "2             41.38  ...              110             10.30   \n",
       "3             50.90  ...               88              5.26   \n",
       "4             28.34  ...              122             12.61   \n",
       "\n",
       "   total night minutes  total night calls  total night charge  \\\n",
       "0                244.7                 91               11.01   \n",
       "1                254.4                103               11.45   \n",
       "2                162.6                104                7.32   \n",
       "3                196.9                 89                8.86   \n",
       "4                186.9                121                8.41   \n",
       "\n",
       "   total intl minutes  total intl calls  total intl charge  \\\n",
       "0                10.0                 3               2.70   \n",
       "1                13.7                 3               3.70   \n",
       "2                12.2                 5               3.29   \n",
       "3                 6.6                 7               1.78   \n",
       "4                10.1                 3               2.73   \n",
       "\n",
       "   customer service calls  churn  \n",
       "0                       1  False  \n",
       "1                       1  False  \n",
       "2                       0  False  \n",
       "3                       2  False  \n",
       "4                       3  False  \n",
       "\n",
       "[5 rows x 21 columns]"
      ]
     },
     "execution_count": 2,
     "metadata": {},
     "output_type": "execute_result"
    }
   ],
   "source": [
    "### Import Data ###\n",
    "data = pd.read_csv('telecom_churn_data.csv')\n",
    "df = pd.DataFrame(data)\n",
    "df.head()"
   ]
  },
  {
   "cell_type": "markdown",
   "metadata": {},
   "source": [
    "## EDA & Cleaning\n",
    "\n",
    "Let's take a look at what we're working with."
   ]
  },
  {
   "cell_type": "code",
   "execution_count": 3,
   "metadata": {},
   "outputs": [
    {
     "name": "stdout",
     "output_type": "stream",
     "text": [
      "<class 'pandas.core.frame.DataFrame'>\n",
      "RangeIndex: 3333 entries, 0 to 3332\n",
      "Data columns (total 21 columns):\n",
      "state                     3333 non-null object\n",
      "account length            3333 non-null int64\n",
      "area code                 3333 non-null int64\n",
      "phone number              3333 non-null object\n",
      "international plan        3333 non-null object\n",
      "voice mail plan           3333 non-null object\n",
      "number vmail messages     3333 non-null int64\n",
      "total day minutes         3333 non-null float64\n",
      "total day calls           3333 non-null int64\n",
      "total day charge          3333 non-null float64\n",
      "total eve minutes         3333 non-null float64\n",
      "total eve calls           3333 non-null int64\n",
      "total eve charge          3333 non-null float64\n",
      "total night minutes       3333 non-null float64\n",
      "total night calls         3333 non-null int64\n",
      "total night charge        3333 non-null float64\n",
      "total intl minutes        3333 non-null float64\n",
      "total intl calls          3333 non-null int64\n",
      "total intl charge         3333 non-null float64\n",
      "customer service calls    3333 non-null int64\n",
      "churn                     3333 non-null bool\n",
      "dtypes: bool(1), float64(8), int64(8), object(4)\n",
      "memory usage: 524.2+ KB\n"
     ]
    }
   ],
   "source": [
    "df.info()"
   ]
  },
  {
   "cell_type": "markdown",
   "metadata": {},
   "source": [
    "Let's keep area code and drop phone number. We can one-hot encode area code, however the phone numbers are high cardinality data and for our purposes they give a lot more detail (and require a lot more bandwidth) than we would like to work with.\n",
    "\n",
    "Those are the only objects other than state. We'll one-hot encode state also.\n",
    "\n",
    "Our target is churn, which is in boolean format.\n",
    "\n",
    "Looks great. Next we'll explore and clean the data if need be. \n",
    "\n"
   ]
  },
  {
   "cell_type": "code",
   "execution_count": 4,
   "metadata": {},
   "outputs": [
    {
     "data": {
      "text/plain": [
       "False"
      ]
     },
     "execution_count": 4,
     "metadata": {},
     "output_type": "execute_result"
    }
   ],
   "source": [
    "df.isnull().values.any()"
   ]
  },
  {
   "cell_type": "markdown",
   "metadata": {},
   "source": [
    "Great! Looks like there aren't any null values."
   ]
  },
  {
   "cell_type": "markdown",
   "metadata": {},
   "source": [
    "Let's go ahead and drop the rows we aren't going to be using for this analysis."
   ]
  },
  {
   "cell_type": "code",
   "execution_count": 5,
   "metadata": {},
   "outputs": [],
   "source": [
    "# Feature to drop\n",
    "drop = ['phone number']\n",
    "\n",
    "# Drop feature\n",
    "df = df.drop(drop,axis=1)"
   ]
  },
  {
   "cell_type": "markdown",
   "metadata": {},
   "source": [
    "### Summary Statistics"
   ]
  },
  {
   "cell_type": "code",
   "execution_count": 6,
   "metadata": {},
   "outputs": [
    {
     "data": {
      "text/html": [
       "<div>\n",
       "<style scoped>\n",
       "    .dataframe tbody tr th:only-of-type {\n",
       "        vertical-align: middle;\n",
       "    }\n",
       "\n",
       "    .dataframe tbody tr th {\n",
       "        vertical-align: top;\n",
       "    }\n",
       "\n",
       "    .dataframe thead th {\n",
       "        text-align: right;\n",
       "    }\n",
       "</style>\n",
       "<table border=\"1\" class=\"dataframe\">\n",
       "  <thead>\n",
       "    <tr style=\"text-align: right;\">\n",
       "      <th></th>\n",
       "      <th>account length</th>\n",
       "      <th>area code</th>\n",
       "      <th>number vmail messages</th>\n",
       "      <th>total day minutes</th>\n",
       "      <th>total day calls</th>\n",
       "      <th>total day charge</th>\n",
       "      <th>total eve minutes</th>\n",
       "      <th>total eve calls</th>\n",
       "      <th>total eve charge</th>\n",
       "      <th>total night minutes</th>\n",
       "      <th>total night calls</th>\n",
       "      <th>total night charge</th>\n",
       "      <th>total intl minutes</th>\n",
       "      <th>total intl calls</th>\n",
       "      <th>total intl charge</th>\n",
       "      <th>customer service calls</th>\n",
       "    </tr>\n",
       "  </thead>\n",
       "  <tbody>\n",
       "    <tr>\n",
       "      <td>count</td>\n",
       "      <td>3333.0</td>\n",
       "      <td>3333.0</td>\n",
       "      <td>3333.0</td>\n",
       "      <td>3333.0</td>\n",
       "      <td>3333.0</td>\n",
       "      <td>3333.0</td>\n",
       "      <td>3333.0</td>\n",
       "      <td>3333.0</td>\n",
       "      <td>3333.0</td>\n",
       "      <td>3333.0</td>\n",
       "      <td>3333.0</td>\n",
       "      <td>3333.0</td>\n",
       "      <td>3333.0</td>\n",
       "      <td>3333.0</td>\n",
       "      <td>3333.0</td>\n",
       "      <td>3333.0</td>\n",
       "    </tr>\n",
       "    <tr>\n",
       "      <td>mean</td>\n",
       "      <td>101.0</td>\n",
       "      <td>437.0</td>\n",
       "      <td>8.0</td>\n",
       "      <td>180.0</td>\n",
       "      <td>100.0</td>\n",
       "      <td>31.0</td>\n",
       "      <td>201.0</td>\n",
       "      <td>100.0</td>\n",
       "      <td>17.0</td>\n",
       "      <td>201.0</td>\n",
       "      <td>100.0</td>\n",
       "      <td>9.0</td>\n",
       "      <td>10.0</td>\n",
       "      <td>4.0</td>\n",
       "      <td>3.0</td>\n",
       "      <td>2.0</td>\n",
       "    </tr>\n",
       "    <tr>\n",
       "      <td>std</td>\n",
       "      <td>40.0</td>\n",
       "      <td>42.0</td>\n",
       "      <td>14.0</td>\n",
       "      <td>54.0</td>\n",
       "      <td>20.0</td>\n",
       "      <td>9.0</td>\n",
       "      <td>51.0</td>\n",
       "      <td>20.0</td>\n",
       "      <td>4.0</td>\n",
       "      <td>51.0</td>\n",
       "      <td>20.0</td>\n",
       "      <td>2.0</td>\n",
       "      <td>3.0</td>\n",
       "      <td>2.0</td>\n",
       "      <td>1.0</td>\n",
       "      <td>1.0</td>\n",
       "    </tr>\n",
       "    <tr>\n",
       "      <td>min</td>\n",
       "      <td>1.0</td>\n",
       "      <td>408.0</td>\n",
       "      <td>0.0</td>\n",
       "      <td>0.0</td>\n",
       "      <td>0.0</td>\n",
       "      <td>0.0</td>\n",
       "      <td>0.0</td>\n",
       "      <td>0.0</td>\n",
       "      <td>0.0</td>\n",
       "      <td>23.0</td>\n",
       "      <td>33.0</td>\n",
       "      <td>1.0</td>\n",
       "      <td>0.0</td>\n",
       "      <td>0.0</td>\n",
       "      <td>0.0</td>\n",
       "      <td>0.0</td>\n",
       "    </tr>\n",
       "    <tr>\n",
       "      <td>25%</td>\n",
       "      <td>74.0</td>\n",
       "      <td>408.0</td>\n",
       "      <td>0.0</td>\n",
       "      <td>144.0</td>\n",
       "      <td>87.0</td>\n",
       "      <td>24.0</td>\n",
       "      <td>167.0</td>\n",
       "      <td>87.0</td>\n",
       "      <td>14.0</td>\n",
       "      <td>167.0</td>\n",
       "      <td>87.0</td>\n",
       "      <td>8.0</td>\n",
       "      <td>8.0</td>\n",
       "      <td>3.0</td>\n",
       "      <td>2.0</td>\n",
       "      <td>1.0</td>\n",
       "    </tr>\n",
       "    <tr>\n",
       "      <td>50%</td>\n",
       "      <td>101.0</td>\n",
       "      <td>415.0</td>\n",
       "      <td>0.0</td>\n",
       "      <td>179.0</td>\n",
       "      <td>101.0</td>\n",
       "      <td>30.0</td>\n",
       "      <td>201.0</td>\n",
       "      <td>100.0</td>\n",
       "      <td>17.0</td>\n",
       "      <td>201.0</td>\n",
       "      <td>100.0</td>\n",
       "      <td>9.0</td>\n",
       "      <td>10.0</td>\n",
       "      <td>4.0</td>\n",
       "      <td>3.0</td>\n",
       "      <td>1.0</td>\n",
       "    </tr>\n",
       "    <tr>\n",
       "      <td>75%</td>\n",
       "      <td>127.0</td>\n",
       "      <td>510.0</td>\n",
       "      <td>20.0</td>\n",
       "      <td>216.0</td>\n",
       "      <td>114.0</td>\n",
       "      <td>37.0</td>\n",
       "      <td>235.0</td>\n",
       "      <td>114.0</td>\n",
       "      <td>20.0</td>\n",
       "      <td>235.0</td>\n",
       "      <td>113.0</td>\n",
       "      <td>11.0</td>\n",
       "      <td>12.0</td>\n",
       "      <td>6.0</td>\n",
       "      <td>3.0</td>\n",
       "      <td>2.0</td>\n",
       "    </tr>\n",
       "    <tr>\n",
       "      <td>max</td>\n",
       "      <td>243.0</td>\n",
       "      <td>510.0</td>\n",
       "      <td>51.0</td>\n",
       "      <td>351.0</td>\n",
       "      <td>165.0</td>\n",
       "      <td>60.0</td>\n",
       "      <td>364.0</td>\n",
       "      <td>170.0</td>\n",
       "      <td>31.0</td>\n",
       "      <td>395.0</td>\n",
       "      <td>175.0</td>\n",
       "      <td>18.0</td>\n",
       "      <td>20.0</td>\n",
       "      <td>20.0</td>\n",
       "      <td>5.0</td>\n",
       "      <td>9.0</td>\n",
       "    </tr>\n",
       "  </tbody>\n",
       "</table>\n",
       "</div>"
      ],
      "text/plain": [
       "       account length  area code  number vmail messages  total day minutes  \\\n",
       "count          3333.0     3333.0                 3333.0             3333.0   \n",
       "mean            101.0      437.0                    8.0              180.0   \n",
       "std              40.0       42.0                   14.0               54.0   \n",
       "min               1.0      408.0                    0.0                0.0   \n",
       "25%              74.0      408.0                    0.0              144.0   \n",
       "50%             101.0      415.0                    0.0              179.0   \n",
       "75%             127.0      510.0                   20.0              216.0   \n",
       "max             243.0      510.0                   51.0              351.0   \n",
       "\n",
       "       total day calls  total day charge  total eve minutes  total eve calls  \\\n",
       "count           3333.0            3333.0             3333.0           3333.0   \n",
       "mean             100.0              31.0              201.0            100.0   \n",
       "std               20.0               9.0               51.0             20.0   \n",
       "min                0.0               0.0                0.0              0.0   \n",
       "25%               87.0              24.0              167.0             87.0   \n",
       "50%              101.0              30.0              201.0            100.0   \n",
       "75%              114.0              37.0              235.0            114.0   \n",
       "max              165.0              60.0              364.0            170.0   \n",
       "\n",
       "       total eve charge  total night minutes  total night calls  \\\n",
       "count            3333.0               3333.0             3333.0   \n",
       "mean               17.0                201.0              100.0   \n",
       "std                 4.0                 51.0               20.0   \n",
       "min                 0.0                 23.0               33.0   \n",
       "25%                14.0                167.0               87.0   \n",
       "50%                17.0                201.0              100.0   \n",
       "75%                20.0                235.0              113.0   \n",
       "max                31.0                395.0              175.0   \n",
       "\n",
       "       total night charge  total intl minutes  total intl calls  \\\n",
       "count              3333.0              3333.0            3333.0   \n",
       "mean                  9.0                10.0               4.0   \n",
       "std                   2.0                 3.0               2.0   \n",
       "min                   1.0                 0.0               0.0   \n",
       "25%                   8.0                 8.0               3.0   \n",
       "50%                   9.0                10.0               4.0   \n",
       "75%                  11.0                12.0               6.0   \n",
       "max                  18.0                20.0              20.0   \n",
       "\n",
       "       total intl charge  customer service calls  \n",
       "count             3333.0                  3333.0  \n",
       "mean                 3.0                     2.0  \n",
       "std                  1.0                     1.0  \n",
       "min                  0.0                     0.0  \n",
       "25%                  2.0                     1.0  \n",
       "50%                  3.0                     1.0  \n",
       "75%                  3.0                     2.0  \n",
       "max                  5.0                     9.0  "
      ]
     },
     "execution_count": 6,
     "metadata": {},
     "output_type": "execute_result"
    }
   ],
   "source": [
    "# Summary Statistics\n",
    "df.describe().round()"
   ]
  },
  {
   "cell_type": "markdown",
   "metadata": {},
   "source": [
    "I'm curious to see if there's any relationship between customer service calls, charges, and churn. \n",
    "\n",
    "We'll be able to explore how each feature relates to churn when we do feature ranking. For now I want to see if there's a relationship between charges and customer service calls. "
   ]
  },
  {
   "cell_type": "markdown",
   "metadata": {},
   "source": [
    "#### Charges vs. Customer Service Calls"
   ]
  },
  {
   "cell_type": "code",
   "execution_count": 7,
   "metadata": {},
   "outputs": [
    {
     "data": {
      "image/png": "[encoded data removed]",
      "text/plain": [
       "<Figure size 432x288 with 1 Axes>"
      ]
     },
     "metadata": {
      "needs_background": "light"
     },
     "output_type": "display_data"
    }
   ],
   "source": [
    "# Create new feature 'total charges' \n",
    "df['total charges'] = df['total day charge'] + df['total eve charge'] + df['total intl charge']\n",
    "\n",
    "# Plot\n",
    "sns.regplot(df['customer service calls'], df['total charges']);"
   ]
  },
  {
   "cell_type": "markdown",
   "metadata": {},
   "source": [
    "It doesn't look like there's any direct relationship between charges and customer service calls. "
   ]
  },
  {
   "cell_type": "code",
   "execution_count": 8,
   "metadata": {},
   "outputs": [
    {
     "data": {
      "image/png": "[encoded data removed]",
      "text/plain": [
       "<Figure size 360x360 with 1 Axes>"
      ]
     },
     "metadata": {
      "needs_background": "light"
     },
     "output_type": "display_data"
    },
    {
     "data": {
      "image/png": "[encoded data removed]",
      "text/plain": [
       "<Figure size 360x360 with 1 Axes>"
      ]
     },
     "metadata": {
      "needs_background": "light"
     },
     "output_type": "display_data"
    },
    {
     "data": {
      "image/png": "[encoded data removed]",
      "text/plain": [
       "<Figure size 360x360 with 1 Axes>"
      ]
     },
     "metadata": {
      "needs_background": "light"
     },
     "output_type": "display_data"
    }
   ],
   "source": [
    "df.groupby([\"customer service calls\", \"churn\"]).size().unstack().plot(kind='bar', stacked=True, figsize=(5,5)) \n",
    "plt.show()\n",
    "\n",
    "df.groupby([\"voice mail plan\", \"churn\"]).size().unstack().plot(kind='bar', stacked=True, figsize=(5,5)) \n",
    "plt.show()\n",
    "\n",
    "df.groupby([\"international plan\", \"churn\"]).size().unstack().plot(kind='bar', stacked=True, figsize=(5,5)) \n",
    "plt.show()"
   ]
  },
  {
   "cell_type": "markdown",
   "metadata": {},
   "source": [
    "### Normality Check"
   ]
  },
  {
   "cell_type": "code",
   "execution_count": 9,
   "metadata": {},
   "outputs": [
    {
     "data": {
      "image/png": "[encoded data removed]",
      "text/plain": [
       "<Figure size 1440x1152 with 16 Axes>"
      ]
     },
     "metadata": {
      "needs_background": "light"
     },
     "output_type": "display_data"
    }
   ],
   "source": [
    "# Define which features are intergers/floats for histograms\n",
    "hist_cols = ['account length',\n",
    "             'area code',\n",
    "             'number vmail messages',\n",
    "             'total day minutes',\n",
    "             'total day calls',\n",
    "             'total day charge',\n",
    "             'total eve minutes',\n",
    "             'total eve calls',\n",
    "             'total eve charge',\n",
    "             'total night minutes',\n",
    "             'total night calls',\n",
    "             'total night charge',\n",
    "             'total intl minutes',\n",
    "             'total intl calls',\n",
    "             'total intl charge',\n",
    "             'customer service calls']\n",
    "\n",
    "# Define figure size & axis\n",
    "fig,ax = plt.subplots(figsize = (20,16))\n",
    "\n",
    "# Plot histograms\n",
    "df.hist(column=hist_cols,ax=ax);"
   ]
  },
  {
   "cell_type": "markdown",
   "metadata": {},
   "source": [
    "Some of these features are skewed, e.g. customer service calls, international calls and international charges. \n",
    "\n",
    "We can see some of these appear to be directly correlated, which makes sense such as calls, charges and minutes. E.g. total day calls, charges, and minutes, international calls, charges and minutes, and night calls, charges and minutes. \n",
    "\n",
    "Since ensemble methods work best when predictors are as independent as possible, we will probably just keep one of each of the three when creating our ensemble.\n",
    "\n",
    "Number of voicemail messages appears to be bimodal. We could bin them, but we'll see how the classifier goes and do so if necessary. "
   ]
  },
  {
   "cell_type": "markdown",
   "metadata": {},
   "source": [
    "### Correlation Matrix\n",
    "\n",
    "We want to see which features are correlated so we can remove redundant predictors."
   ]
  },
  {
   "cell_type": "code",
   "execution_count": 10,
   "metadata": {},
   "outputs": [
    {
     "data": {
      "text/html": [
       "<div>\n",
       "<style scoped>\n",
       "    .dataframe tbody tr th:only-of-type {\n",
       "        vertical-align: middle;\n",
       "    }\n",
       "\n",
       "    .dataframe tbody tr th {\n",
       "        vertical-align: top;\n",
       "    }\n",
       "\n",
       "    .dataframe thead th {\n",
       "        text-align: right;\n",
       "    }\n",
       "</style>\n",
       "<table border=\"1\" class=\"dataframe\">\n",
       "  <thead>\n",
       "    <tr style=\"text-align: right;\">\n",
       "      <th></th>\n",
       "      <th>account length</th>\n",
       "      <th>area code</th>\n",
       "      <th>number vmail messages</th>\n",
       "      <th>total day minutes</th>\n",
       "      <th>total day calls</th>\n",
       "      <th>total day charge</th>\n",
       "      <th>total eve minutes</th>\n",
       "      <th>total eve calls</th>\n",
       "      <th>total eve charge</th>\n",
       "      <th>total night minutes</th>\n",
       "      <th>total night calls</th>\n",
       "      <th>total night charge</th>\n",
       "      <th>total intl minutes</th>\n",
       "      <th>total intl calls</th>\n",
       "      <th>total intl charge</th>\n",
       "      <th>customer service calls</th>\n",
       "      <th>churn</th>\n",
       "      <th>total charges</th>\n",
       "    </tr>\n",
       "  </thead>\n",
       "  <tbody>\n",
       "    <tr>\n",
       "      <td>account length</td>\n",
       "      <td>True</td>\n",
       "      <td>False</td>\n",
       "      <td>False</td>\n",
       "      <td>False</td>\n",
       "      <td>False</td>\n",
       "      <td>False</td>\n",
       "      <td>False</td>\n",
       "      <td>False</td>\n",
       "      <td>False</td>\n",
       "      <td>False</td>\n",
       "      <td>False</td>\n",
       "      <td>False</td>\n",
       "      <td>False</td>\n",
       "      <td>False</td>\n",
       "      <td>False</td>\n",
       "      <td>False</td>\n",
       "      <td>False</td>\n",
       "      <td>False</td>\n",
       "    </tr>\n",
       "    <tr>\n",
       "      <td>area code</td>\n",
       "      <td>False</td>\n",
       "      <td>True</td>\n",
       "      <td>False</td>\n",
       "      <td>False</td>\n",
       "      <td>False</td>\n",
       "      <td>False</td>\n",
       "      <td>False</td>\n",
       "      <td>False</td>\n",
       "      <td>False</td>\n",
       "      <td>False</td>\n",
       "      <td>False</td>\n",
       "      <td>False</td>\n",
       "      <td>False</td>\n",
       "      <td>False</td>\n",
       "      <td>False</td>\n",
       "      <td>False</td>\n",
       "      <td>False</td>\n",
       "      <td>False</td>\n",
       "    </tr>\n",
       "    <tr>\n",
       "      <td>number vmail messages</td>\n",
       "      <td>False</td>\n",
       "      <td>False</td>\n",
       "      <td>True</td>\n",
       "      <td>False</td>\n",
       "      <td>False</td>\n",
       "      <td>False</td>\n",
       "      <td>False</td>\n",
       "      <td>False</td>\n",
       "      <td>False</td>\n",
       "      <td>False</td>\n",
       "      <td>False</td>\n",
       "      <td>False</td>\n",
       "      <td>False</td>\n",
       "      <td>False</td>\n",
       "      <td>False</td>\n",
       "      <td>False</td>\n",
       "      <td>False</td>\n",
       "      <td>False</td>\n",
       "    </tr>\n",
       "    <tr>\n",
       "      <td>total day minutes</td>\n",
       "      <td>False</td>\n",
       "      <td>False</td>\n",
       "      <td>False</td>\n",
       "      <td>True</td>\n",
       "      <td>False</td>\n",
       "      <td>True</td>\n",
       "      <td>False</td>\n",
       "      <td>False</td>\n",
       "      <td>False</td>\n",
       "      <td>False</td>\n",
       "      <td>False</td>\n",
       "      <td>False</td>\n",
       "      <td>False</td>\n",
       "      <td>False</td>\n",
       "      <td>False</td>\n",
       "      <td>False</td>\n",
       "      <td>False</td>\n",
       "      <td>True</td>\n",
       "    </tr>\n",
       "    <tr>\n",
       "      <td>total day calls</td>\n",
       "      <td>False</td>\n",
       "      <td>False</td>\n",
       "      <td>False</td>\n",
       "      <td>False</td>\n",
       "      <td>True</td>\n",
       "      <td>False</td>\n",
       "      <td>False</td>\n",
       "      <td>False</td>\n",
       "      <td>False</td>\n",
       "      <td>False</td>\n",
       "      <td>False</td>\n",
       "      <td>False</td>\n",
       "      <td>False</td>\n",
       "      <td>False</td>\n",
       "      <td>False</td>\n",
       "      <td>False</td>\n",
       "      <td>False</td>\n",
       "      <td>False</td>\n",
       "    </tr>\n",
       "    <tr>\n",
       "      <td>total day charge</td>\n",
       "      <td>False</td>\n",
       "      <td>False</td>\n",
       "      <td>False</td>\n",
       "      <td>True</td>\n",
       "      <td>False</td>\n",
       "      <td>True</td>\n",
       "      <td>False</td>\n",
       "      <td>False</td>\n",
       "      <td>False</td>\n",
       "      <td>False</td>\n",
       "      <td>False</td>\n",
       "      <td>False</td>\n",
       "      <td>False</td>\n",
       "      <td>False</td>\n",
       "      <td>False</td>\n",
       "      <td>False</td>\n",
       "      <td>False</td>\n",
       "      <td>True</td>\n",
       "    </tr>\n",
       "    <tr>\n",
       "      <td>total eve minutes</td>\n",
       "      <td>False</td>\n",
       "      <td>False</td>\n",
       "      <td>False</td>\n",
       "      <td>False</td>\n",
       "      <td>False</td>\n",
       "      <td>False</td>\n",
       "      <td>True</td>\n",
       "      <td>False</td>\n",
       "      <td>True</td>\n",
       "      <td>False</td>\n",
       "      <td>False</td>\n",
       "      <td>False</td>\n",
       "      <td>False</td>\n",
       "      <td>False</td>\n",
       "      <td>False</td>\n",
       "      <td>False</td>\n",
       "      <td>False</td>\n",
       "      <td>False</td>\n",
       "    </tr>\n",
       "    <tr>\n",
       "      <td>total eve calls</td>\n",
       "      <td>False</td>\n",
       "      <td>False</td>\n",
       "      <td>False</td>\n",
       "      <td>False</td>\n",
       "      <td>False</td>\n",
       "      <td>False</td>\n",
       "      <td>False</td>\n",
       "      <td>True</td>\n",
       "      <td>False</td>\n",
       "      <td>False</td>\n",
       "      <td>False</td>\n",
       "      <td>False</td>\n",
       "      <td>False</td>\n",
       "      <td>False</td>\n",
       "      <td>False</td>\n",
       "      <td>False</td>\n",
       "      <td>False</td>\n",
       "      <td>False</td>\n",
       "    </tr>\n",
       "    <tr>\n",
       "      <td>total eve charge</td>\n",
       "      <td>False</td>\n",
       "      <td>False</td>\n",
       "      <td>False</td>\n",
       "      <td>False</td>\n",
       "      <td>False</td>\n",
       "      <td>False</td>\n",
       "      <td>True</td>\n",
       "      <td>False</td>\n",
       "      <td>True</td>\n",
       "      <td>False</td>\n",
       "      <td>False</td>\n",
       "      <td>False</td>\n",
       "      <td>False</td>\n",
       "      <td>False</td>\n",
       "      <td>False</td>\n",
       "      <td>False</td>\n",
       "      <td>False</td>\n",
       "      <td>False</td>\n",
       "    </tr>\n",
       "    <tr>\n",
       "      <td>total night minutes</td>\n",
       "      <td>False</td>\n",
       "      <td>False</td>\n",
       "      <td>False</td>\n",
       "      <td>False</td>\n",
       "      <td>False</td>\n",
       "      <td>False</td>\n",
       "      <td>False</td>\n",
       "      <td>False</td>\n",
       "      <td>False</td>\n",
       "      <td>True</td>\n",
       "      <td>False</td>\n",
       "      <td>True</td>\n",
       "      <td>False</td>\n",
       "      <td>False</td>\n",
       "      <td>False</td>\n",
       "      <td>False</td>\n",
       "      <td>False</td>\n",
       "      <td>False</td>\n",
       "    </tr>\n",
       "    <tr>\n",
       "      <td>total night calls</td>\n",
       "      <td>False</td>\n",
       "      <td>False</td>\n",
       "      <td>False</td>\n",
       "      <td>False</td>\n",
       "      <td>False</td>\n",
       "      <td>False</td>\n",
       "      <td>False</td>\n",
       "      <td>False</td>\n",
       "      <td>False</td>\n",
       "      <td>False</td>\n",
       "      <td>True</td>\n",
       "      <td>False</td>\n",
       "      <td>False</td>\n",
       "      <td>False</td>\n",
       "      <td>False</td>\n",
       "      <td>False</td>\n",
       "      <td>False</td>\n",
       "      <td>False</td>\n",
       "    </tr>\n",
       "    <tr>\n",
       "      <td>total night charge</td>\n",
       "      <td>False</td>\n",
       "      <td>False</td>\n",
       "      <td>False</td>\n",
       "      <td>False</td>\n",
       "      <td>False</td>\n",
       "      <td>False</td>\n",
       "      <td>False</td>\n",
       "      <td>False</td>\n",
       "      <td>False</td>\n",
       "      <td>True</td>\n",
       "      <td>False</td>\n",
       "      <td>True</td>\n",
       "      <td>False</td>\n",
       "      <td>False</td>\n",
       "      <td>False</td>\n",
       "      <td>False</td>\n",
       "      <td>False</td>\n",
       "      <td>False</td>\n",
       "    </tr>\n",
       "    <tr>\n",
       "      <td>total intl minutes</td>\n",
       "      <td>False</td>\n",
       "      <td>False</td>\n",
       "      <td>False</td>\n",
       "      <td>False</td>\n",
       "      <td>False</td>\n",
       "      <td>False</td>\n",
       "      <td>False</td>\n",
       "      <td>False</td>\n",
       "      <td>False</td>\n",
       "      <td>False</td>\n",
       "      <td>False</td>\n",
       "      <td>False</td>\n",
       "      <td>True</td>\n",
       "      <td>False</td>\n",
       "      <td>True</td>\n",
       "      <td>False</td>\n",
       "      <td>False</td>\n",
       "      <td>False</td>\n",
       "    </tr>\n",
       "    <tr>\n",
       "      <td>total intl calls</td>\n",
       "      <td>False</td>\n",
       "      <td>False</td>\n",
       "      <td>False</td>\n",
       "      <td>False</td>\n",
       "      <td>False</td>\n",
       "      <td>False</td>\n",
       "      <td>False</td>\n",
       "      <td>False</td>\n",
       "      <td>False</td>\n",
       "      <td>False</td>\n",
       "      <td>False</td>\n",
       "      <td>False</td>\n",
       "      <td>False</td>\n",
       "      <td>True</td>\n",
       "      <td>False</td>\n",
       "      <td>False</td>\n",
       "      <td>False</td>\n",
       "      <td>False</td>\n",
       "    </tr>\n",
       "    <tr>\n",
       "      <td>total intl charge</td>\n",
       "      <td>False</td>\n",
       "      <td>False</td>\n",
       "      <td>False</td>\n",
       "      <td>False</td>\n",
       "      <td>False</td>\n",
       "      <td>False</td>\n",
       "      <td>False</td>\n",
       "      <td>False</td>\n",
       "      <td>False</td>\n",
       "      <td>False</td>\n",
       "      <td>False</td>\n",
       "      <td>False</td>\n",
       "      <td>True</td>\n",
       "      <td>False</td>\n",
       "      <td>True</td>\n",
       "      <td>False</td>\n",
       "      <td>False</td>\n",
       "      <td>False</td>\n",
       "    </tr>\n",
       "    <tr>\n",
       "      <td>customer service calls</td>\n",
       "      <td>False</td>\n",
       "      <td>False</td>\n",
       "      <td>False</td>\n",
       "      <td>False</td>\n",
       "      <td>False</td>\n",
       "      <td>False</td>\n",
       "      <td>False</td>\n",
       "      <td>False</td>\n",
       "      <td>False</td>\n",
       "      <td>False</td>\n",
       "      <td>False</td>\n",
       "      <td>False</td>\n",
       "      <td>False</td>\n",
       "      <td>False</td>\n",
       "      <td>False</td>\n",
       "      <td>True</td>\n",
       "      <td>False</td>\n",
       "      <td>False</td>\n",
       "    </tr>\n",
       "    <tr>\n",
       "      <td>churn</td>\n",
       "      <td>False</td>\n",
       "      <td>False</td>\n",
       "      <td>False</td>\n",
       "      <td>False</td>\n",
       "      <td>False</td>\n",
       "      <td>False</td>\n",
       "      <td>False</td>\n",
       "      <td>False</td>\n",
       "      <td>False</td>\n",
       "      <td>False</td>\n",
       "      <td>False</td>\n",
       "      <td>False</td>\n",
       "      <td>False</td>\n",
       "      <td>False</td>\n",
       "      <td>False</td>\n",
       "      <td>False</td>\n",
       "      <td>True</td>\n",
       "      <td>False</td>\n",
       "    </tr>\n",
       "    <tr>\n",
       "      <td>total charges</td>\n",
       "      <td>False</td>\n",
       "      <td>False</td>\n",
       "      <td>False</td>\n",
       "      <td>True</td>\n",
       "      <td>False</td>\n",
       "      <td>True</td>\n",
       "      <td>False</td>\n",
       "      <td>False</td>\n",
       "      <td>False</td>\n",
       "      <td>False</td>\n",
       "      <td>False</td>\n",
       "      <td>False</td>\n",
       "      <td>False</td>\n",
       "      <td>False</td>\n",
       "      <td>False</td>\n",
       "      <td>False</td>\n",
       "      <td>False</td>\n",
       "      <td>True</td>\n",
       "    </tr>\n",
       "  </tbody>\n",
       "</table>\n",
       "</div>"
      ],
      "text/plain": [
       "                        account length  area code  number vmail messages  \\\n",
       "account length                    True      False                  False   \n",
       "area code                        False       True                  False   \n",
       "number vmail messages            False      False                   True   \n",
       "total day minutes                False      False                  False   \n",
       "total day calls                  False      False                  False   \n",
       "total day charge                 False      False                  False   \n",
       "total eve minutes                False      False                  False   \n",
       "total eve calls                  False      False                  False   \n",
       "total eve charge                 False      False                  False   \n",
       "total night minutes              False      False                  False   \n",
       "total night calls                False      False                  False   \n",
       "total night charge               False      False                  False   \n",
       "total intl minutes               False      False                  False   \n",
       "total intl calls                 False      False                  False   \n",
       "total intl charge                False      False                  False   \n",
       "customer service calls           False      False                  False   \n",
       "churn                            False      False                  False   \n",
       "total charges                    False      False                  False   \n",
       "\n",
       "                        total day minutes  total day calls  total day charge  \\\n",
       "account length                      False            False             False   \n",
       "area code                           False            False             False   \n",
       "number vmail messages               False            False             False   \n",
       "total day minutes                    True            False              True   \n",
       "total day calls                     False             True             False   \n",
       "total day charge                     True            False              True   \n",
       "total eve minutes                   False            False             False   \n",
       "total eve calls                     False            False             False   \n",
       "total eve charge                    False            False             False   \n",
       "total night minutes                 False            False             False   \n",
       "total night calls                   False            False             False   \n",
       "total night charge                  False            False             False   \n",
       "total intl minutes                  False            False             False   \n",
       "total intl calls                    False            False             False   \n",
       "total intl charge                   False            False             False   \n",
       "customer service calls              False            False             False   \n",
       "churn                               False            False             False   \n",
       "total charges                        True            False              True   \n",
       "\n",
       "                        total eve minutes  total eve calls  total eve charge  \\\n",
       "account length                      False            False             False   \n",
       "area code                           False            False             False   \n",
       "number vmail messages               False            False             False   \n",
       "total day minutes                   False            False             False   \n",
       "total day calls                     False            False             False   \n",
       "total day charge                    False            False             False   \n",
       "total eve minutes                    True            False              True   \n",
       "total eve calls                     False             True             False   \n",
       "total eve charge                     True            False              True   \n",
       "total night minutes                 False            False             False   \n",
       "total night calls                   False            False             False   \n",
       "total night charge                  False            False             False   \n",
       "total intl minutes                  False            False             False   \n",
       "total intl calls                    False            False             False   \n",
       "total intl charge                   False            False             False   \n",
       "customer service calls              False            False             False   \n",
       "churn                               False            False             False   \n",
       "total charges                       False            False             False   \n",
       "\n",
       "                        total night minutes  total night calls  \\\n",
       "account length                        False              False   \n",
       "area code                             False              False   \n",
       "number vmail messages                 False              False   \n",
       "total day minutes                     False              False   \n",
       "total day calls                       False              False   \n",
       "total day charge                      False              False   \n",
       "total eve minutes                     False              False   \n",
       "total eve calls                       False              False   \n",
       "total eve charge                      False              False   \n",
       "total night minutes                    True              False   \n",
       "total night calls                     False               True   \n",
       "total night charge                     True              False   \n",
       "total intl minutes                    False              False   \n",
       "total intl calls                      False              False   \n",
       "total intl charge                     False              False   \n",
       "customer service calls                False              False   \n",
       "churn                                 False              False   \n",
       "total charges                         False              False   \n",
       "\n",
       "                        total night charge  total intl minutes  \\\n",
       "account length                       False               False   \n",
       "area code                            False               False   \n",
       "number vmail messages                False               False   \n",
       "total day minutes                    False               False   \n",
       "total day calls                      False               False   \n",
       "total day charge                     False               False   \n",
       "total eve minutes                    False               False   \n",
       "total eve calls                      False               False   \n",
       "total eve charge                     False               False   \n",
       "total night minutes                   True               False   \n",
       "total night calls                    False               False   \n",
       "total night charge                    True               False   \n",
       "total intl minutes                   False                True   \n",
       "total intl calls                     False               False   \n",
       "total intl charge                    False                True   \n",
       "customer service calls               False               False   \n",
       "churn                                False               False   \n",
       "total charges                        False               False   \n",
       "\n",
       "                        total intl calls  total intl charge  \\\n",
       "account length                     False              False   \n",
       "area code                          False              False   \n",
       "number vmail messages              False              False   \n",
       "total day minutes                  False              False   \n",
       "total day calls                    False              False   \n",
       "total day charge                   False              False   \n",
       "total eve minutes                  False              False   \n",
       "total eve calls                    False              False   \n",
       "total eve charge                   False              False   \n",
       "total night minutes                False              False   \n",
       "total night calls                  False              False   \n",
       "total night charge                 False              False   \n",
       "total intl minutes                 False               True   \n",
       "total intl calls                    True              False   \n",
       "total intl charge                  False               True   \n",
       "customer service calls             False              False   \n",
       "churn                              False              False   \n",
       "total charges                      False              False   \n",
       "\n",
       "                        customer service calls  churn  total charges  \n",
       "account length                           False  False          False  \n",
       "area code                                False  False          False  \n",
       "number vmail messages                    False  False          False  \n",
       "total day minutes                        False  False           True  \n",
       "total day calls                          False  False          False  \n",
       "total day charge                         False  False           True  \n",
       "total eve minutes                        False  False          False  \n",
       "total eve calls                          False  False          False  \n",
       "total eve charge                         False  False          False  \n",
       "total night minutes                      False  False          False  \n",
       "total night calls                        False  False          False  \n",
       "total night charge                       False  False          False  \n",
       "total intl minutes                       False  False          False  \n",
       "total intl calls                         False  False          False  \n",
       "total intl charge                        False  False          False  \n",
       "customer service calls                    True  False          False  \n",
       "churn                                    False   True          False  \n",
       "total charges                            False  False           True  "
      ]
     },
     "execution_count": 10,
     "metadata": {},
     "output_type": "execute_result"
    }
   ],
   "source": [
    "abs(df.corr())>0.75"
   ]
  },
  {
   "cell_type": "markdown",
   "metadata": {},
   "source": [
    "It seems the 'charge' categories are highly correlated with their respective 'minutes' categories, so let's go ahead and drop those.\n",
    "\n",
    "I'll print out the regression plots to make sure.\n",
    "\n",
    "#### Minutes vs. Charges"
   ]
  },
  {
   "cell_type": "code",
   "execution_count": 11,
   "metadata": {
    "scrolled": true
   },
   "outputs": [
    {
     "data": {
      "image/png": "[encoded data removed]",
      "text/plain": [
       "<Figure size 432x288 with 1 Axes>"
      ]
     },
     "metadata": {
      "needs_background": "light"
     },
     "output_type": "display_data"
    },
    {
     "data": {
      "image/png": "[encoded data removed]",
      "text/plain": [
       "<Figure size 432x288 with 1 Axes>"
      ]
     },
     "metadata": {
      "needs_background": "light"
     },
     "output_type": "display_data"
    },
    {
     "data": {
      "image/png": "[encoded data removed]",
      "text/plain": [
       "<Figure size 432x288 with 1 Axes>"
      ]
     },
     "metadata": {
      "needs_background": "light"
     },
     "output_type": "display_data"
    }
   ],
   "source": [
    "# Day\n",
    "sns.regplot(df['total day minutes'], df['total day charge'])\n",
    "plt.title('Day Minutes vs. Charges')\n",
    "plt.show()\n",
    "\n",
    "# Evening\n",
    "sns.regplot(df['total eve minutes'], df['total eve charge'])\n",
    "plt.title('Evening Minutes vs. Charges')\n",
    "plt.show()\n",
    "\n",
    "# International\n",
    "sns.regplot(df['total intl minutes'], df['total intl charge'])\n",
    "plt.title('Day Minutes vs. Charges')\n",
    "plt.show()"
   ]
  },
  {
   "cell_type": "markdown",
   "metadata": {},
   "source": [
    "It's pretty clear how strongly correlated these are, which makes sense. Let's go ahead and remove them. \n",
    "\n",
    "I'm also going to remove the column we added totaling the charges, as that would be correlated as well. "
   ]
  },
  {
   "cell_type": "code",
   "execution_count": 12,
   "metadata": {},
   "outputs": [],
   "source": [
    "# drop = ['total day charge','total eve charge','total intl charge', 'total charges']\n",
    "# df = df.drop(drop, axis=1)"
   ]
  },
  {
   "cell_type": "markdown",
   "metadata": {},
   "source": [
    "Testing w/ keeping charges instead of minutes. I want to see if feature importance ranking changes at all. "
   ]
  },
  {
   "cell_type": "code",
   "execution_count": 13,
   "metadata": {},
   "outputs": [],
   "source": [
    "drop = ['total day minutes','total eve minutes','total intl minutes'] #, 'total charges']\n",
    "df = df.drop(drop, axis=1)"
   ]
  },
  {
   "cell_type": "markdown",
   "metadata": {},
   "source": [
    "Let's take a look at the features that are categorical. "
   ]
  },
  {
   "cell_type": "markdown",
   "metadata": {},
   "source": [
    "### Categorical Features"
   ]
  },
  {
   "cell_type": "markdown",
   "metadata": {},
   "source": [
    "#### States"
   ]
  },
  {
   "cell_type": "code",
   "execution_count": 14,
   "metadata": {},
   "outputs": [
    {
     "data": {
      "text/plain": [
       "count     3333\n",
       "unique      51\n",
       "top         WV\n",
       "freq       106\n",
       "Name: state, dtype: object"
      ]
     },
     "execution_count": 14,
     "metadata": {},
     "output_type": "execute_result"
    }
   ],
   "source": [
    "# Summary Stastics\n",
    "df.state.describe()"
   ]
  },
  {
   "cell_type": "markdown",
   "metadata": {},
   "source": [
    "It looks like all states are represented, some more than others with West Virginia being the max at 106 out of 3333. \n",
    "\n",
    "Let's take a look at churn by state."
   ]
  },
  {
   "cell_type": "code",
   "execution_count": 15,
   "metadata": {},
   "outputs": [
    {
     "data": {
      "image/png": "[encoded data removed]",
      "text/plain": [
       "<Figure size 1080x360 with 1 Axes>"
      ]
     },
     "metadata": {
      "needs_background": "light"
     },
     "output_type": "display_data"
    }
   ],
   "source": [
    "df.groupby([\"state\", \"churn\"]).size().unstack().plot(kind='bar', stacked=True, figsize=(15,5)) \n",
    "plt.show()"
   ]
  },
  {
   "cell_type": "markdown",
   "metadata": {},
   "source": [
    "#### Area Code"
   ]
  },
  {
   "cell_type": "code",
   "execution_count": 16,
   "metadata": {},
   "outputs": [
    {
     "name": "stdout",
     "output_type": "stream",
     "text": [
      "Value Counts:\n",
      "415    1655\n",
      "510     840\n",
      "408     838\n",
      "Name: area code, dtype: int64\n"
     ]
    },
    {
     "data": {
      "image/png": "[encoded data removed]",
      "text/plain": [
       "<Figure size 360x360 with 1 Axes>"
      ]
     },
     "metadata": {
      "needs_background": "light"
     },
     "output_type": "display_data"
    }
   ],
   "source": [
    "# Print area code value counts\n",
    "print(\"Value Counts:\")\n",
    "print(df['area code'].value_counts())\n",
    "\n",
    "# Plot bar plot of area code value counts\n",
    "df.groupby([\"area code\", \"churn\"]).size().unstack().plot(kind='bar', stacked=True, figsize=(5,5)) \n",
    "plt.title('Customer Churn by Area Code')\n",
    "plt.xlabel('Area Code')\n",
    "plt.ylabel('Counts in Dataset')\n",
    "plt.show()"
   ]
  },
  {
   "cell_type": "markdown",
   "metadata": {},
   "source": [
    "It seems strange that with 51 states represented there are only 3 area codes. I did a little research, however this issue did not seem to be addressed anywhere online. \n",
    "\n",
    "A possibility is that people had gotten a cell phone number in one state and then moved to another state. I'm not sure how likely that is, however this does seem like a relatively small data set at 3333, so it could be possible. \n",
    "\n",
    "These area codes are all from Northern California in the San Francisco Bay Area:\n",
    "- 415: Greater San Francisco Bay area, San Francisco City & County, the majority of Marin County and a small portion of San Mateo County\n",
    "- 510: East Bay cities in Northern California including some cities in west Contra Costa and Alameda counties like Hayward and Fremont\n",
    "- 408: City of San Jose, as well as the Cities of Campbell, Cupertino, Gilroy, Los Gatos, Milpitas, Monte Sereno, Morgan Hill, Santa Clara, Saratoga, Sunnyvale, and a portion of Palo Alto\n",
    "\n",
    "Resources: \n",
    "- www.cpuc.ca.gov\n",
    "- www.ringcentral.com"
   ]
  },
  {
   "cell_type": "markdown",
   "metadata": {},
   "source": [
    "#### Account Length"
   ]
  },
  {
   "cell_type": "markdown",
   "metadata": {},
   "source": [
    "I'm curious to see if account length is related to churn. As customers who have been with a company longer are known to be more loyal. Let's see."
   ]
  },
  {
   "cell_type": "code",
   "execution_count": 17,
   "metadata": {},
   "outputs": [
    {
     "name": "stdout",
     "output_type": "stream",
     "text": [
      "Summary Statistics for Account Length: \n",
      "\n",
      "count    3333.0\n",
      "mean      101.0\n",
      "std        40.0\n",
      "min         1.0\n",
      "25%        74.0\n",
      "50%       101.0\n",
      "75%       127.0\n",
      "max       243.0\n",
      "Name: account length, dtype: float64\n",
      "\n",
      "\n"
     ]
    },
    {
     "data": {
      "image/png": "[encoded data removed]",
      "text/plain": [
       "<Figure size 432x288 with 1 Axes>"
      ]
     },
     "metadata": {
      "needs_background": "light"
     },
     "output_type": "display_data"
    }
   ],
   "source": [
    "# Print account length summary statistics\n",
    "print(f\"Summary Statistics for Account Length: \\n\")\n",
    "print(df['account length'].describe().round())\n",
    "print(\"\\n\")\n",
    "\n",
    "# Separate churned from didn't churn\n",
    "churn_df_true = df[df['churn'] == True] \n",
    "churn_df_false = df[df['churn'] == False]\n",
    "\n",
    "# Plot distribution plot of account length\n",
    "sns.distplot(churn_df_true['account length'], label='churned')\n",
    "sns.distplot(churn_df_false['account length'], label=f\"didn't churn\")\n",
    "plt.title('Account Length')\n",
    "plt.xlabel('Account Length')\n",
    "plt.ylabel('Frequency')\n",
    "plt.legend();"
   ]
  },
  {
   "cell_type": "markdown",
   "metadata": {},
   "source": [
    "There does not appear to be a relationship between churn and account length, as we can see by the overlapping frequency distribusions. \n",
    "\n",
    "The dataset did not provide a unit description for account length. No other kernels addressed it either. I did a little research online and did not find further information about this unit length. "
   ]
  },
  {
   "cell_type": "markdown",
   "metadata": {},
   "source": [
    "#### Churn: Target Variable\n",
    "\n",
    "Let's explore our target variable, churn. "
   ]
  },
  {
   "cell_type": "code",
   "execution_count": 18,
   "metadata": {},
   "outputs": [
    {
     "name": "stdout",
     "output_type": "stream",
     "text": [
      "Counts: \n",
      "False    2850\n",
      "True      483\n",
      "Name: churn, dtype: int64 \n",
      "\n",
      "Normalized: \n",
      "False    0.86\n",
      "True     0.14\n",
      "Name: churn, dtype: float64 \n",
      "\n"
     ]
    },
    {
     "data": {
      "image/png": "[encoded data removed]",
      "text/plain": [
       "<Figure size 432x288 with 1 Axes>"
      ]
     },
     "metadata": {
      "needs_background": "light"
     },
     "output_type": "display_data"
    }
   ],
   "source": [
    "# Print Value Counts\n",
    "print(f\"Counts: \\n{df.churn.value_counts()} \\n\")\n",
    "\n",
    "# Print Normalized Value Counts\n",
    "print(f\"Normalized: \\n{df.churn.value_counts(normalize=True).round(2)} \\n\")\n",
    "\n",
    "# Plot Value Counts\n",
    "sns.countplot(df['churn'])\n",
    "plt.title('Churn vs. Non-Churn Counts')\n",
    "plt.xlabel('Churn')\n",
    "plt.ylabel('Counts')\n",
    "plt.show()"
   ]
  },
  {
   "cell_type": "markdown",
   "metadata": {},
   "source": [
    "We can see there is a class imbalance here, so we'll want to address that by balancing the classes. We'll use SMOTE further down to accomplish this. "
   ]
  },
  {
   "cell_type": "markdown",
   "metadata": {},
   "source": [
    "## Pre-processing"
   ]
  },
  {
   "cell_type": "markdown",
   "metadata": {},
   "source": [
    "### One-Hot-Encode Categorical Data\n",
    "\n",
    "I'm using pd.get_dummies to one-hot-encode the categorical data. An alternative would be to use sklearn's OneHotEncoder or LabelEncoder.\n",
    "\n",
    "I previously ran the models with all 51 states one-hot-encoded. I then dropped them and re-ran the models. They performed much better without the state data. So we're going to leave them dropped here, right we one-hot-encode our categorical data."
   ]
  },
  {
   "cell_type": "code",
   "execution_count": 19,
   "metadata": {},
   "outputs": [
    {
     "data": {
      "text/html": [
       "<div>\n",
       "<style scoped>\n",
       "    .dataframe tbody tr th:only-of-type {\n",
       "        vertical-align: middle;\n",
       "    }\n",
       "\n",
       "    .dataframe tbody tr th {\n",
       "        vertical-align: top;\n",
       "    }\n",
       "\n",
       "    .dataframe thead th {\n",
       "        text-align: right;\n",
       "    }\n",
       "</style>\n",
       "<table border=\"1\" class=\"dataframe\">\n",
       "  <thead>\n",
       "    <tr style=\"text-align: right;\">\n",
       "      <th></th>\n",
       "      <th>account length</th>\n",
       "      <th>area code</th>\n",
       "      <th>number vmail messages</th>\n",
       "      <th>total day calls</th>\n",
       "      <th>total day charge</th>\n",
       "      <th>total eve calls</th>\n",
       "      <th>total eve charge</th>\n",
       "      <th>total night minutes</th>\n",
       "      <th>total night calls</th>\n",
       "      <th>total night charge</th>\n",
       "      <th>total intl calls</th>\n",
       "      <th>total intl charge</th>\n",
       "      <th>customer service calls</th>\n",
       "      <th>churn</th>\n",
       "      <th>total charges</th>\n",
       "      <th>international plan_yes</th>\n",
       "      <th>voice mail plan_yes</th>\n",
       "    </tr>\n",
       "  </thead>\n",
       "  <tbody>\n",
       "    <tr>\n",
       "      <td>0</td>\n",
       "      <td>128</td>\n",
       "      <td>415</td>\n",
       "      <td>25</td>\n",
       "      <td>110</td>\n",
       "      <td>45.07</td>\n",
       "      <td>99</td>\n",
       "      <td>16.78</td>\n",
       "      <td>244.7</td>\n",
       "      <td>91</td>\n",
       "      <td>11.01</td>\n",
       "      <td>3</td>\n",
       "      <td>2.70</td>\n",
       "      <td>1</td>\n",
       "      <td>False</td>\n",
       "      <td>64.55</td>\n",
       "      <td>0</td>\n",
       "      <td>1</td>\n",
       "    </tr>\n",
       "    <tr>\n",
       "      <td>1</td>\n",
       "      <td>107</td>\n",
       "      <td>415</td>\n",
       "      <td>26</td>\n",
       "      <td>123</td>\n",
       "      <td>27.47</td>\n",
       "      <td>103</td>\n",
       "      <td>16.62</td>\n",
       "      <td>254.4</td>\n",
       "      <td>103</td>\n",
       "      <td>11.45</td>\n",
       "      <td>3</td>\n",
       "      <td>3.70</td>\n",
       "      <td>1</td>\n",
       "      <td>False</td>\n",
       "      <td>47.79</td>\n",
       "      <td>0</td>\n",
       "      <td>1</td>\n",
       "    </tr>\n",
       "    <tr>\n",
       "      <td>2</td>\n",
       "      <td>137</td>\n",
       "      <td>415</td>\n",
       "      <td>0</td>\n",
       "      <td>114</td>\n",
       "      <td>41.38</td>\n",
       "      <td>110</td>\n",
       "      <td>10.30</td>\n",
       "      <td>162.6</td>\n",
       "      <td>104</td>\n",
       "      <td>7.32</td>\n",
       "      <td>5</td>\n",
       "      <td>3.29</td>\n",
       "      <td>0</td>\n",
       "      <td>False</td>\n",
       "      <td>54.97</td>\n",
       "      <td>0</td>\n",
       "      <td>0</td>\n",
       "    </tr>\n",
       "    <tr>\n",
       "      <td>3</td>\n",
       "      <td>84</td>\n",
       "      <td>408</td>\n",
       "      <td>0</td>\n",
       "      <td>71</td>\n",
       "      <td>50.90</td>\n",
       "      <td>88</td>\n",
       "      <td>5.26</td>\n",
       "      <td>196.9</td>\n",
       "      <td>89</td>\n",
       "      <td>8.86</td>\n",
       "      <td>7</td>\n",
       "      <td>1.78</td>\n",
       "      <td>2</td>\n",
       "      <td>False</td>\n",
       "      <td>57.94</td>\n",
       "      <td>1</td>\n",
       "      <td>0</td>\n",
       "    </tr>\n",
       "    <tr>\n",
       "      <td>4</td>\n",
       "      <td>75</td>\n",
       "      <td>415</td>\n",
       "      <td>0</td>\n",
       "      <td>113</td>\n",
       "      <td>28.34</td>\n",
       "      <td>122</td>\n",
       "      <td>12.61</td>\n",
       "      <td>186.9</td>\n",
       "      <td>121</td>\n",
       "      <td>8.41</td>\n",
       "      <td>3</td>\n",
       "      <td>2.73</td>\n",
       "      <td>3</td>\n",
       "      <td>False</td>\n",
       "      <td>43.68</td>\n",
       "      <td>1</td>\n",
       "      <td>0</td>\n",
       "    </tr>\n",
       "  </tbody>\n",
       "</table>\n",
       "</div>"
      ],
      "text/plain": [
       "   account length  area code  number vmail messages  total day calls  \\\n",
       "0             128        415                     25              110   \n",
       "1             107        415                     26              123   \n",
       "2             137        415                      0              114   \n",
       "3              84        408                      0               71   \n",
       "4              75        415                      0              113   \n",
       "\n",
       "   total day charge  total eve calls  total eve charge  total night minutes  \\\n",
       "0             45.07               99             16.78                244.7   \n",
       "1             27.47              103             16.62                254.4   \n",
       "2             41.38              110             10.30                162.6   \n",
       "3             50.90               88              5.26                196.9   \n",
       "4             28.34              122             12.61                186.9   \n",
       "\n",
       "   total night calls  total night charge  total intl calls  total intl charge  \\\n",
       "0                 91               11.01                 3               2.70   \n",
       "1                103               11.45                 3               3.70   \n",
       "2                104                7.32                 5               3.29   \n",
       "3                 89                8.86                 7               1.78   \n",
       "4                121                8.41                 3               2.73   \n",
       "\n",
       "   customer service calls  churn  total charges  international plan_yes  \\\n",
       "0                       1  False          64.55                       0   \n",
       "1                       1  False          47.79                       0   \n",
       "2                       0  False          54.97                       0   \n",
       "3                       2  False          57.94                       1   \n",
       "4                       3  False          43.68                       1   \n",
       "\n",
       "   voice mail plan_yes  \n",
       "0                    1  \n",
       "1                    1  \n",
       "2                    0  \n",
       "3                    0  \n",
       "4                    0  "
      ]
     },
     "execution_count": 19,
     "metadata": {},
     "output_type": "execute_result"
    }
   ],
   "source": [
    "# Drop states\n",
    "drop = ['state']\n",
    "df = df.drop(drop, axis=1)\n",
    "\n",
    "# One-hot-encode with pd.get_dumies\n",
    "df = pd.get_dummies(df,drop_first=True)\n",
    "\n",
    "# Take a look\n",
    "df.head()"
   ]
  },
  {
   "cell_type": "markdown",
   "metadata": {},
   "source": [
    "Looks good. "
   ]
  },
  {
   "cell_type": "markdown",
   "metadata": {},
   "source": [
    "### Separate Target & Predictor Variables\n",
    "\n",
    "Now we're going to separate out the target variable from the predictor variables and train-test split."
   ]
  },
  {
   "cell_type": "code",
   "execution_count": 20,
   "metadata": {},
   "outputs": [],
   "source": [
    "# Define X and y variables\n",
    "y = df['churn']\n",
    "X = df.drop(['churn'], axis=1)\n",
    "\n",
    "# Define Random State\n",
    "seed = 20\n",
    "\n",
    "# Split the data into training and test sets\n",
    "X_train, X_test, y_train, y_test = train_test_split(X, y, test_size=0.25, random_state=seed)"
   ]
  },
  {
   "cell_type": "markdown",
   "metadata": {},
   "source": [
    "### Address Class Imbalance\n",
    "\n",
    "Address the class imbalance using SMOTE to synthetically oversample the minority class."
   ]
  },
  {
   "cell_type": "code",
   "execution_count": 21,
   "metadata": {},
   "outputs": [
    {
     "name": "stdout",
     "output_type": "stream",
     "text": [
      "False    2136\n",
      "True      363\n",
      "Name: churn, dtype: int64\n",
      "\n",
      "True     2136\n",
      "False    2136\n",
      "dtype: int64\n"
     ]
    }
   ],
   "source": [
    "# Previous original class distribution\n",
    "print(y_train.value_counts())\n",
    "\n",
    "# Fit SMOTE to training data\n",
    "smote = SMOTE()\n",
    "X_train_resampled, y_train_resampled = smote.fit_sample(X_train, y_train)\n",
    "\n",
    "# Preview synthetic sample class distribution\n",
    "print(f\"\\n{pd.Series(y_train_resampled).value_counts()}\") "
   ]
  },
  {
   "cell_type": "markdown",
   "metadata": {},
   "source": [
    "We can see the classes are now balanced. Looks good. Now let's go ahead and start modeling...\n",
    "\n",
    "## Baseline Models\n",
    "\n",
    "We'll build our baseline models first and then tune the top 3 performing models.\n",
    "\n",
    "Since some classifiers require different processing, I'm going to process each classifier separately. For example:\n",
    "- XGBoost doesn't take data that has been processed by the class balancing technique we used, SMOTE, and requires values only to be used. \n",
    "- Some of our classifiers calculate our y_score using 'predict_proba', while others use 'decision_function'. \n",
    "- While our data does not require normalization or scaling, our KNN classifier does. \n",
    "\n",
    "For these reasons I chose to run each classifier separately.\n",
    "\n",
    "We will store the relevant metrics from each classifier in a list together for later use."
   ]
  },
  {
   "cell_type": "code",
   "execution_count": 22,
   "metadata": {},
   "outputs": [],
   "source": [
    "# Empty list to store classifier data\n",
    "clf_df = []"
   ]
  },
  {
   "cell_type": "markdown",
   "metadata": {},
   "source": [
    "### Logistic Regression Classifier\n",
    "\n",
    "#### Fit Model & Predict"
   ]
  },
  {
   "cell_type": "code",
   "execution_count": 23,
   "metadata": {},
   "outputs": [],
   "source": [
    "# Instantiate and fit model\n",
    "logreg = LogisticRegression(random_state=seed) \n",
    "logreg.fit(X_train_resampled, y_train_resampled)\n",
    "\n",
    "# Predict on the test set\n",
    "y_pred_logreg = logreg.predict(X_test)\n",
    "\n",
    "# Check false positive and true positive rates\n",
    "y_score_logreg = logreg.decision_function(X_test)\n",
    "fpr_logreg, tpr_logreg, thresholds_logreg = roc_curve(y_test, y_score_logreg)\n",
    "\n",
    "lrc = ['Logistic Regression',\n",
    "       logreg,\n",
    "       y_pred_logreg,\n",
    "       y_score_logreg,\n",
    "       accuracy_score(y_test, y_pred_logreg),\n",
    "       roc_auc_score(y_test, y_pred_logreg),\n",
    "       recall_score(y_test, y_pred_logreg),\n",
    "       fpr_logreg,\n",
    "       tpr_logreg]\n",
    "\n",
    "clf_df.append(lrc)"
   ]
  },
  {
   "cell_type": "markdown",
   "metadata": {},
   "source": [
    "### KNN Classifier\n",
    "\n",
    "#### Fit Model & Predict\n",
    "\n",
    "Although we don't need to for the other models, we're going to normalize the data for KNN so that all data are on the same scale. "
   ]
  },
  {
   "cell_type": "code",
   "execution_count": 24,
   "metadata": {},
   "outputs": [],
   "source": [
    "# Instantiate and fit model\n",
    "knn_pipe = Pipeline([('mms', MinMaxScaler()), \n",
    "                 ('knn', KNeighborsClassifier())])\n",
    "knn_pipe.fit(X_train_resampled, y_train_resampled)\n",
    "\n",
    "# Predict on the test set\n",
    "y_pred_knn = knn_pipe.predict(X_test)\n",
    "\n",
    "# Check false positive and true positive rates\n",
    "y_score_knn = knn_pipe.predict_proba(X_test)\n",
    "fpr_knn, tpr_knn, thresholds_knn = roc_curve(y_test, y_score_knn[:, 1])\n",
    "\n",
    "knnc = ['K-Nearest Neighbors',\n",
    "       knn_pipe,\n",
    "       y_pred_knn,\n",
    "       y_score_knn,\n",
    "       accuracy_score(y_test, y_pred_knn),\n",
    "       roc_auc_score(y_test, y_pred_knn),\n",
    "       recall_score(y_test, y_pred_knn),\n",
    "       fpr_knn,\n",
    "       tpr_knn]\n",
    "\n",
    "clf_df.append(knnc)"
   ]
  },
  {
   "cell_type": "markdown",
   "metadata": {},
   "source": [
    "### Bagging Tree Classifier\n",
    "\n",
    "#### Fit Model & Predict"
   ]
  },
  {
   "cell_type": "code",
   "execution_count": 25,
   "metadata": {},
   "outputs": [],
   "source": [
    "# Instantiate Classifier\n",
    "bag_clf = BaggingClassifier(\n",
    "    DecisionTreeClassifier(),\n",
    "    random_state=seed)\n",
    "\n",
    "# Build Model\n",
    "bag_clf.fit(X_train_resampled, y_train_resampled)\n",
    "\n",
    "# Predict on the Test Set\n",
    "y_pred_bag = bag_clf.predict(X_test)\n",
    "\n",
    "# Check false positive and true positive rates\n",
    "y_score_bag = bag_clf.predict_proba(X_test)\n",
    "fpr_bag, tpr_bag, thresholds_bag = roc_curve(y_test, y_score_bag[:, 1])\n",
    "\n",
    "bagc = ['Bagging Decision Tree',\n",
    "       bag_clf,\n",
    "       y_pred_bag,\n",
    "       y_score_bag,\n",
    "       accuracy_score(y_test, y_pred_bag),\n",
    "       roc_auc_score(y_test, y_pred_bag),\n",
    "       recall_score(y_test, y_pred_bag),\n",
    "       fpr_bag,\n",
    "       tpr_bag]\n",
    "\n",
    "clf_df.append(bagc)"
   ]
  },
  {
   "cell_type": "markdown",
   "metadata": {},
   "source": [
    "### Random Forest Classifier"
   ]
  },
  {
   "cell_type": "markdown",
   "metadata": {},
   "source": [
    "#### Cross-validation\n",
    "\n",
    "I'm curious to test different values of crossvalidation k-folds to see if a higher value results in a higher accuracy score."
   ]
  },
  {
   "cell_type": "code",
   "execution_count": 26,
   "metadata": {},
   "outputs": [
    {
     "name": "stdout",
     "output_type": "stream",
     "text": [
      "Mean Cross Validation Score for cv=3: 95.74%\n",
      "Mean Cross Validation Score for cv=6: 95.74%\n",
      "Mean Cross Validation Score for cv=10: 95.95%\n"
     ]
    }
   ],
   "source": [
    "cv_vals = [3,6,10]\n",
    "\n",
    "for cv_val in cv_vals:\n",
    "    rf_clf = RandomForestClassifier(random_state=seed)\n",
    "    mean_rf_cv_score = np.mean(cross_val_score(rf_clf, \n",
    "                                               X_train_resampled, \n",
    "                                               y_train_resampled, \n",
    "                                               cv=cv_val))\n",
    "\n",
    "    print(f\"Mean Cross Validation Score for cv={cv_val}: {mean_rf_cv_score :.2%}\")"
   ]
  },
  {
   "cell_type": "markdown",
   "metadata": {},
   "source": [
    "We can see that a higher cross-validation k-fold does result in higher accuracy. It may not be enough to warrant choosing higher cv values when we get to GridSearchCV, however it's good to know.  \n",
    "\n",
    "#### Fit Model & Predict"
   ]
  },
  {
   "cell_type": "code",
   "execution_count": 27,
   "metadata": {},
   "outputs": [],
   "source": [
    "# Instantiate Model\n",
    "rnd_clf = RandomForestClassifier(random_state=seed)\n",
    "\n",
    "# Fit Model\n",
    "rnd_clf.fit(X_train_resampled, y_train_resampled)\n",
    "\n",
    "# Predict on the test set\n",
    "y_pred_rf = rnd_clf.predict(X_test)\n",
    "\n",
    "# Check false positive and true positive rates\n",
    "y_score_rf = rnd_clf.predict_proba(X_test)\n",
    "fpr_rf, tpr_rf, thresholds_rf = roc_curve(y_test, y_score_rf[:, 1])\n",
    "\n",
    "rfc = ['Random Forest',\n",
    "       rnd_clf,\n",
    "       y_pred_rf,\n",
    "       y_score_rf,\n",
    "       accuracy_score(y_test, y_pred_rf),\n",
    "       roc_auc_score(y_test, y_pred_rf),\n",
    "       recall_score(y_test, y_pred_rf),\n",
    "       fpr_rf,\n",
    "       tpr_rf]\n",
    "\n",
    "clf_df.append(rfc)"
   ]
  },
  {
   "cell_type": "markdown",
   "metadata": {},
   "source": [
    "### SVC Classifier\n",
    "\n",
    "#### Fit Model & Predict"
   ]
  },
  {
   "cell_type": "code",
   "execution_count": 28,
   "metadata": {},
   "outputs": [],
   "source": [
    "# Instatiate classifier\n",
    "svc_clf = LinearSVC(random_state=seed) \n",
    "\n",
    "# Fit model\n",
    "svc_clf.fit = svc_clf.fit(X_train_resampled, y_train_resampled)\n",
    "\n",
    "# Predict on train & test sets\n",
    "y_pred_svc = svc_clf.predict(X_test)\n",
    "\n",
    "# Check false positive and true positive rates\n",
    "y_score_svc = svc_clf.decision_function(X_test)\n",
    "fpr_svc, tpr_svc, thresholds_svc = roc_curve(y_test,y_score_svc)\n",
    "\n",
    "svcc = ['Linear SVC',\n",
    "       svc_clf,\n",
    "       y_pred_svc, \n",
    "       y_score_svc,\n",
    "       accuracy_score(y_test, y_pred_svc),\n",
    "       roc_auc_score(y_test, y_pred_svc),\n",
    "       recall_score(y_test, y_pred_svc),\n",
    "       fpr_svc,\n",
    "       tpr_svc]\n",
    "\n",
    "clf_df.append(svcc)"
   ]
  },
  {
   "cell_type": "markdown",
   "metadata": {},
   "source": [
    "### XGBoost Classifier\n",
    "\n",
    "#### Fit Model & Predict\n",
    "\n",
    "XGBoost was returning an error that the feature names did not match. In order to rectify this, I had to split just the values without headers. So I resplit the data here using the same random state number and test size. "
   ]
  },
  {
   "cell_type": "code",
   "execution_count": 29,
   "metadata": {},
   "outputs": [],
   "source": [
    "# Instatiate classifier\n",
    "xgb_clf = xgb.XGBClassifier(random_state=seed) \n",
    "\n",
    "# Splitting with X & y in np.array format for xgboost\n",
    "X_train_xgb, X_test_xgb, y_train_xgb, y_test_xgb = train_test_split(X.values, y.values, test_size=0.25, random_state=seed)\n",
    "\n",
    "# Fit SMOTE to training data\n",
    "smote = SMOTE()\n",
    "X_train_resampled_xgb, y_train_resampled_xgb = smote.fit_sample(X_train_xgb, y_train_xgb)\n",
    "\n",
    "# Fit model\n",
    "xgb_clf.fit = xgb_clf.fit(X_train_resampled_xgb, y_train_resampled_xgb)\n",
    "\n",
    "# Predict on train & test sets\n",
    "y_pred_xgb = xgb_clf.predict(X_test_xgb)\n",
    "\n",
    "# Check false positive and true positive rates\n",
    "y_score_xgb = xgb_clf.predict_proba(X_test_xgb)\n",
    "fpr_xgb, tpr_xgb, thresholds_xgb = roc_curve(y_test_xgb,y_score_xgb[:, 1])\n",
    "\n",
    "xgbc = ['XGBoost',\n",
    "       xgb_clf,\n",
    "       y_pred_xgb, \n",
    "       y_score_xgb,\n",
    "       accuracy_score(y_test, y_pred_xgb),\n",
    "       roc_auc_score(y_test, y_pred_xgb),\n",
    "       recall_score(y_test, y_pred_xgb),\n",
    "       fpr_xgb,\n",
    "       tpr_xgb]\n",
    "\n",
    "clf_df.append(xgbc)"
   ]
  },
  {
   "cell_type": "markdown",
   "metadata": {},
   "source": [
    "#### Feature Ranking\n",
    "\n",
    "We're going to plot the feature importance ranking, so we can see which features are most important to our classification of a customer's likelihood to churn."
   ]
  },
  {
   "cell_type": "code",
   "execution_count": 30,
   "metadata": {
    "scrolled": true
   },
   "outputs": [
    {
     "data": {
      "image/png": "[encoded data removed]",
      "text/plain": [
       "<Figure size 864x720 with 1 Axes>"
      ]
     },
     "metadata": {
      "needs_background": "light"
     },
     "output_type": "display_data"
    }
   ],
   "source": [
    "# Create a function to output our feature importance plot\n",
    "def feat_rank(xgb_clf,X):\n",
    "    '''\n",
    "    Input XGBoost fitted classifier and X: dataframe of features \n",
    "    \n",
    "    Returns ranked feature importance plot\n",
    "    '''\n",
    "\n",
    "    # We want to add back our column names to our feature importances\n",
    "    ft_rank = pd.Series(xgb_clf.feature_importances_, index = X.columns)\n",
    "\n",
    "    # Sort ascending\n",
    "    ft_rank = ft_rank.sort_values(ascending = True)\n",
    "\n",
    "    # Plot\n",
    "    ft_rank.plot(kind='barh', width=.75, edgecolor = \"black\", figsize=(12,10), fontsize=18)\n",
    "    plt.title('Feature Importance Ranking', fontsize=22)\n",
    "\n",
    "    return plt.show()\n",
    "\n",
    "# P\n",
    "feat_rank(xgb_clf,X)"
   ]
  },
  {
   "cell_type": "markdown",
   "metadata": {},
   "source": [
    "We'll now see how well our baseline model performed by printing out our scores and then taking a look at our ROC curve.\n",
    "\n",
    "We're going to create a couple functions to expedite this process, and we will repeat for each of our models we're going to be testing."
   ]
  },
  {
   "cell_type": "code",
   "execution_count": 31,
   "metadata": {},
   "outputs": [],
   "source": [
    "# Convert our classifier list to pandas dataframe\n",
    "clf_df = pd.DataFrame(clf_df, columns=['clf',\n",
    "                                       'model',\n",
    "                                       'y_pred',\n",
    "                                       'y_score',\n",
    "                                       'accuracy',\n",
    "                                       'roc_auc',\n",
    "                                       'recall',\n",
    "                                       'fpr',\n",
    "                                       'tpr'])"
   ]
  },
  {
   "cell_type": "markdown",
   "metadata": {},
   "source": [
    "## Accuracy Metrics\n",
    "\n",
    "### Confusion Matrices\n",
    "\n",
    "Let's go ahead and take a look at the confusion matrices for each model. Our goal is to maximize true positives and minimize false negatives, so we'll pay the most attention to the bottom row of each confustion matrix.\n",
    "\n",
    "We want the bottom left number to be low and the bottom right number to be high.\n",
    "\n",
    "While we can accept false positives, we don't necessarily want that number to be super high either. Depending on the targeting campaign it could be costly and unnecessary to target too many customers who are unlikely to churn. "
   ]
  },
  {
   "cell_type": "code",
   "execution_count": 33,
   "metadata": {},
   "outputs": [
    {
     "name": "stdout",
     "output_type": "stream",
     "text": [
      "Logistic Regression:\n",
      "\n"
     ]
    },
    {
     "data": {
      "image/png": "[encoded data removed]",
      "text/plain": [
       "<Figure size 432x288 with 2 Axes>"
      ]
     },
     "metadata": {
      "needs_background": "light"
     },
     "output_type": "display_data"
    },
    {
     "name": "stdout",
     "output_type": "stream",
     "text": [
      "K-Nearest Neighbors:\n",
      "\n"
     ]
    },
    {
     "data": {
      "image/png": "[encoded data removed]",
      "text/plain": [
       "<Figure size 432x288 with 2 Axes>"
      ]
     },
     "metadata": {
      "needs_background": "light"
     },
     "output_type": "display_data"
    },
    {
     "name": "stdout",
     "output_type": "stream",
     "text": [
      "Bagging Decision Tree:\n",
      "\n"
     ]
    },
    {
     "data": {
      "image/png": "[encoded data removed]",
      "text/plain": [
       "<Figure size 432x288 with 2 Axes>"
      ]
     },
     "metadata": {
      "needs_background": "light"
     },
     "output_type": "display_data"
    },
    {
     "name": "stdout",
     "output_type": "stream",
     "text": [
      "Random Forest:\n",
      "\n"
     ]
    },
    {
     "data": {
      "image/png": "[encoded data removed]",
      "text/plain": [
       "<Figure size 432x288 with 2 Axes>"
      ]
     },
     "metadata": {
      "needs_background": "light"
     },
     "output_type": "display_data"
    },
    {
     "name": "stdout",
     "output_type": "stream",
     "text": [
      "Linear SVC:\n",
      "\n"
     ]
    },
    {
     "data": {
      "image/png": "[encoded data removed]",
      "text/plain": [
       "<Figure size 432x288 with 2 Axes>"
      ]
     },
     "metadata": {
      "needs_background": "light"
     },
     "output_type": "display_data"
    },
    {
     "name": "stdout",
     "output_type": "stream",
     "text": [
      "XGBoost:\n",
      "\n"
     ]
    },
    {
     "data": {
      "image/png": "[encoded data removed]",
      "text/plain": [
       "<Figure size 432x288 with 2 Axes>"
      ]
     },
     "metadata": {
      "needs_background": "light"
     },
     "output_type": "display_data"
    }
   ],
   "source": [
    "# Print out normalized confusion matrices \n",
    "for i in clf_df.index:\n",
    "    print(clf_df['clf'][i] + \":\\n\")\n",
    "    if clf_df['clf'][i] != 'XGBoost':\n",
    "        plot_confusion_matrix(clf_df['model'][i], X_test, y_test,cmap='Blues',normalize='true')\n",
    "        plt.show()\n",
    "    elif clf_df['clf'][i] == 'XGBoost':\n",
    "        plot_confusion_matrix(clf_df['model'][i], X_test_xgb, y_test_xgb,cmap='Blues',normalize='true')\n",
    "        plt.show()"
   ]
  },
  {
   "cell_type": "markdown",
   "metadata": {},
   "source": [
    "We can see that Random Forest and XGBoost did the best. Linear SVC did really well with maximizing true positives and minimizing false negatives, however the false positives were pretty high at 63%. \n",
    "\n",
    "Picking a third, Bagging Tree would be third. It didn't do as well as the others, however it may be able to be optimized. We'll see when we get to GridSearchCV.\n",
    "\n",
    "Let's take a look at the Classification Reports.\n",
    "\n",
    "### Classification Reports"
   ]
  },
  {
   "cell_type": "code",
   "execution_count": 34,
   "metadata": {},
   "outputs": [
    {
     "name": "stdout",
     "output_type": "stream",
     "text": [
      "Logistic Regression: \n",
      "\n",
      "              precision    recall  f1-score   support\n",
      "\n",
      "       False       0.94      0.71      0.81       714\n",
      "        True       0.30      0.74      0.43       120\n",
      "\n",
      "    accuracy                           0.71       834\n",
      "   macro avg       0.62      0.72      0.62       834\n",
      "weighted avg       0.85      0.71      0.75       834\n",
      "\n",
      "K-Nearest Neighbors: \n",
      "\n",
      "              precision    recall  f1-score   support\n",
      "\n",
      "       False       0.96      0.84      0.90       714\n",
      "        True       0.45      0.78      0.57       120\n",
      "\n",
      "    accuracy                           0.83       834\n",
      "   macro avg       0.71      0.81      0.73       834\n",
      "weighted avg       0.89      0.83      0.85       834\n",
      "\n",
      "Bagging Decision Tree: \n",
      "\n",
      "              precision    recall  f1-score   support\n",
      "\n",
      "       False       0.97      0.97      0.97       714\n",
      "        True       0.84      0.82      0.83       120\n",
      "\n",
      "    accuracy                           0.95       834\n",
      "   macro avg       0.90      0.90      0.90       834\n",
      "weighted avg       0.95      0.95      0.95       834\n",
      "\n",
      "Random Forest: \n",
      "\n",
      "              precision    recall  f1-score   support\n",
      "\n",
      "       False       0.97      0.97      0.97       714\n",
      "        True       0.85      0.82      0.84       120\n",
      "\n",
      "    accuracy                           0.95       834\n",
      "   macro avg       0.91      0.90      0.90       834\n",
      "weighted avg       0.95      0.95      0.95       834\n",
      "\n",
      "Linear SVC: \n",
      "\n",
      "              precision    recall  f1-score   support\n",
      "\n",
      "       False       0.97      0.70      0.81       714\n",
      "        True       0.33      0.88      0.48       120\n",
      "\n",
      "    accuracy                           0.73       834\n",
      "   macro avg       0.65      0.79      0.65       834\n",
      "weighted avg       0.88      0.73      0.77       834\n",
      "\n",
      "XGBoost: \n",
      "\n",
      "              precision    recall  f1-score   support\n",
      "\n",
      "       False       0.97      0.98      0.98       714\n",
      "        True       0.88      0.82      0.85       120\n",
      "\n",
      "    accuracy                           0.96       834\n",
      "   macro avg       0.93      0.90      0.91       834\n",
      "weighted avg       0.96      0.96      0.96       834\n",
      "\n"
     ]
    }
   ],
   "source": [
    "# Print out classification reports \n",
    "for i in clf_df.index:\n",
    "    print(clf_df['clf'][i] + \": \\n\")\n",
    "    if clf_df['clf'][i] != 'XGBoost':\n",
    "        print(classification_report(y_test, clf_df['y_pred'][i]))\n",
    "    elif clf_df['clf'][i] == 'XGBoost':\n",
    "        print(classification_report(y_test_xgb, clf_df['y_pred'][i]))    "
   ]
  },
  {
   "cell_type": "markdown",
   "metadata": {},
   "source": [
    "Again, we want to maximize recall, yet still have good accuracy. We can see here that XGBoost and Random Forest perform the best. \n",
    "\n",
    "Bagging Tree did pretty well too, which makes sense as it's an ensemble method, but not as well as the others. We can probably tune it to perform better, but we'll see when we get there. "
   ]
  },
  {
   "cell_type": "markdown",
   "metadata": {},
   "source": [
    "### ROC Curves"
   ]
  },
  {
   "cell_type": "markdown",
   "metadata": {},
   "source": [
    "Let's go ahead and plot all of our classifier ROC curves together, so we can see which ones seem to be performing the best."
   ]
  },
  {
   "cell_type": "code",
   "execution_count": 35,
   "metadata": {},
   "outputs": [
    {
     "data": {
      "image/png": "[encoded data removed]",
      "text/plain": [
       "<Figure size 720x576 with 1 Axes>"
      ]
     },
     "metadata": {},
     "output_type": "display_data"
    }
   ],
   "source": [
    "### Plot ROC Curves ###\n",
    "\n",
    "# Style\n",
    "plt.style.use('seaborn')\n",
    "sns.set_context('talk')\n",
    "\n",
    "plt.figure(figsize=(10,8))\n",
    "\n",
    "# Plot each curve\n",
    "for i in clf_df.index:\n",
    "    plt.plot(clf_df['fpr'][i], \n",
    "             clf_df['tpr'][i], \n",
    "             linestyle='-', \n",
    "             lw=3, \n",
    "             label=(f\"{clf_df['clf'][i]} - AUC: \" + \"{:.2f}\".format(clf_df['roc_auc'][i])))\n",
    "\n",
    "# Plot threshold\n",
    "plt.plot([0, 1], [0, 1], color='grey', lw=3, linestyle='--')\n",
    "plt.xlim([-0.01, 1.0])\n",
    "plt.ylim([0.0, 1.01])\n",
    "\n",
    "# Title & axis labels\n",
    "plt.title('ROC Curves')\n",
    "plt.xlabel('False Positive Rate')\n",
    "plt.ylabel('True Positive rate')\n",
    "plt.legend(loc='best')\n",
    "\n",
    "# Save figure\n",
    "plt.savefig('ROC',dpi=300)\n",
    "\n",
    "plt.show()"
   ]
  },
  {
   "cell_type": "markdown",
   "metadata": {},
   "source": [
    "We can see here that our top three classifers we identified also have the highest AUC.\n",
    "\n",
    "Let's take a look at a table of all of our scores together.\n",
    "\n",
    "### Accuracy Scores"
   ]
  },
  {
   "cell_type": "code",
   "execution_count": 36,
   "metadata": {},
   "outputs": [
    {
     "data": {
      "text/html": [
       "<style  type=\"text/css\" >\n",
       "</style><table id=\"T_ae996ba4_c893_11ea_8aa2_a45e60c3eab7\" ><thead>    <tr>        <th class=\"col_heading level0 col0\" >Classifier</th>        <th class=\"col_heading level0 col1\" >Accuracy</th>        <th class=\"col_heading level0 col2\" >AUC</th>        <th class=\"col_heading level0 col3\" >Recall</th>    </tr></thead><tbody>\n",
       "                <tr>\n",
       "                                <td id=\"T_ae996ba4_c893_11ea_8aa2_a45e60c3eab7row0_col0\" class=\"data row0 col0\" >XGBoost</td>\n",
       "                        <td id=\"T_ae996ba4_c893_11ea_8aa2_a45e60c3eab7row0_col1\" class=\"data row0 col1\" >0.96</td>\n",
       "                        <td id=\"T_ae996ba4_c893_11ea_8aa2_a45e60c3eab7row0_col2\" class=\"data row0 col2\" >0.90</td>\n",
       "                        <td id=\"T_ae996ba4_c893_11ea_8aa2_a45e60c3eab7row0_col3\" class=\"data row0 col3\" >0.82</td>\n",
       "            </tr>\n",
       "            <tr>\n",
       "                                <td id=\"T_ae996ba4_c893_11ea_8aa2_a45e60c3eab7row1_col0\" class=\"data row1 col0\" >Random Forest</td>\n",
       "                        <td id=\"T_ae996ba4_c893_11ea_8aa2_a45e60c3eab7row1_col1\" class=\"data row1 col1\" >0.95</td>\n",
       "                        <td id=\"T_ae996ba4_c893_11ea_8aa2_a45e60c3eab7row1_col2\" class=\"data row1 col2\" >0.90</td>\n",
       "                        <td id=\"T_ae996ba4_c893_11ea_8aa2_a45e60c3eab7row1_col3\" class=\"data row1 col3\" >0.82</td>\n",
       "            </tr>\n",
       "            <tr>\n",
       "                                <td id=\"T_ae996ba4_c893_11ea_8aa2_a45e60c3eab7row2_col0\" class=\"data row2 col0\" >Bagging Decision Tree</td>\n",
       "                        <td id=\"T_ae996ba4_c893_11ea_8aa2_a45e60c3eab7row2_col1\" class=\"data row2 col1\" >0.95</td>\n",
       "                        <td id=\"T_ae996ba4_c893_11ea_8aa2_a45e60c3eab7row2_col2\" class=\"data row2 col2\" >0.90</td>\n",
       "                        <td id=\"T_ae996ba4_c893_11ea_8aa2_a45e60c3eab7row2_col3\" class=\"data row2 col3\" >0.82</td>\n",
       "            </tr>\n",
       "            <tr>\n",
       "                                <td id=\"T_ae996ba4_c893_11ea_8aa2_a45e60c3eab7row3_col0\" class=\"data row3 col0\" >K-Nearest Neighbors</td>\n",
       "                        <td id=\"T_ae996ba4_c893_11ea_8aa2_a45e60c3eab7row3_col1\" class=\"data row3 col1\" >0.83</td>\n",
       "                        <td id=\"T_ae996ba4_c893_11ea_8aa2_a45e60c3eab7row3_col2\" class=\"data row3 col2\" >0.81</td>\n",
       "                        <td id=\"T_ae996ba4_c893_11ea_8aa2_a45e60c3eab7row3_col3\" class=\"data row3 col3\" >0.78</td>\n",
       "            </tr>\n",
       "            <tr>\n",
       "                                <td id=\"T_ae996ba4_c893_11ea_8aa2_a45e60c3eab7row4_col0\" class=\"data row4 col0\" >Linear SVC</td>\n",
       "                        <td id=\"T_ae996ba4_c893_11ea_8aa2_a45e60c3eab7row4_col1\" class=\"data row4 col1\" >0.73</td>\n",
       "                        <td id=\"T_ae996ba4_c893_11ea_8aa2_a45e60c3eab7row4_col2\" class=\"data row4 col2\" >0.79</td>\n",
       "                        <td id=\"T_ae996ba4_c893_11ea_8aa2_a45e60c3eab7row4_col3\" class=\"data row4 col3\" >0.88</td>\n",
       "            </tr>\n",
       "            <tr>\n",
       "                                <td id=\"T_ae996ba4_c893_11ea_8aa2_a45e60c3eab7row5_col0\" class=\"data row5 col0\" >Logistic Regression</td>\n",
       "                        <td id=\"T_ae996ba4_c893_11ea_8aa2_a45e60c3eab7row5_col1\" class=\"data row5 col1\" >0.71</td>\n",
       "                        <td id=\"T_ae996ba4_c893_11ea_8aa2_a45e60c3eab7row5_col2\" class=\"data row5 col2\" >0.72</td>\n",
       "                        <td id=\"T_ae996ba4_c893_11ea_8aa2_a45e60c3eab7row5_col3\" class=\"data row5 col3\" >0.74</td>\n",
       "            </tr>\n",
       "    </tbody></table>"
      ],
      "text/plain": [
       "<pandas.io.formats.style.Styler at 0x11b5d2278>"
      ]
     },
     "execution_count": 36,
     "metadata": {},
     "output_type": "execute_result"
    }
   ],
   "source": [
    "# Create dataframe of accuracy scores\n",
    "cols = ['clf','accuracy','roc_auc','recall']\n",
    "acc_scores = clf_df[cols]\n",
    "\n",
    "# Sort\n",
    "acc_scores = acc_scores.sort_values(by=['accuracy'], ascending=False)\n",
    "\n",
    "# Round to two decimal places\n",
    "cols = ['accuracy','roc_auc','recall']\n",
    "acc_scores[cols] = acc_scores[cols].applymap(lambda x: \"{:.2f}\".format(x))\n",
    "\n",
    "# Give it a new index\n",
    "acc_scores.columns = ['Classifier', 'Accuracy', 'AUC', 'Recall']\n",
    "\n",
    "# Drop index\n",
    "acc_scores = acc_scores.style.hide_index()\n",
    "acc_scores"
   ]
  },
  {
   "cell_type": "markdown",
   "metadata": {},
   "source": [
    "Let's go ahead and tune our identified top performing classifiers:\n",
    "- Random Forest\n",
    "- XGBoost\n",
    "- Bagging Decision Tree"
   ]
  },
  {
   "cell_type": "markdown",
   "metadata": {},
   "source": [
    "## Hyperparameter Tuning\n",
    "\n",
    "We're now going to tune the hyperparameters of our top 3 performing models to see if we can improve them. I'm going to use GridSearchCV to search for the best values for our hyperparamters, and I'm going to tune for highest recall score.\n",
    "\n",
    "We're going to store the relevant metrics from each classifier in a list together like we did before."
   ]
  },
  {
   "cell_type": "code",
   "execution_count": 44,
   "metadata": {},
   "outputs": [],
   "source": [
    "# Empty list to store classifier data\n",
    "clf_df_best = []"
   ]
  },
  {
   "cell_type": "markdown",
   "metadata": {},
   "source": [
    "### Bagging Classifier\n",
    "\n",
    "We will now create a Bagging Classifier of Decision Trees.\n",
    "\n",
    "#### Grid Search"
   ]
  },
  {
   "cell_type": "code",
   "execution_count": 54,
   "metadata": {},
   "outputs": [],
   "source": [
    "# Define Function to Conduct Grid Search\n",
    "def grid_search(params, clf, X_train, y_train, cv=5, scoring='accuracy'):\n",
    "    '''\n",
    "    Conducts gridsearch using GridSearchCV\n",
    "    \n",
    "    Inputs:\n",
    "        params: parameter grid in GridSearchCV dictionary format\n",
    "        clf: classifier \n",
    "        cv: k-folds for crossvalidation\n",
    "        scoring: scoring metric for optimization\n",
    "            'accuracy','recall','precision','f1'\n",
    "            \n",
    "    Returns:\n",
    "        Best score for training accuracy\n",
    "        Optimal parameters for model\n",
    "    '''\n",
    "    clf_grid_search = GridSearchCV(clf,\n",
    "                                  param_grid=params,\n",
    "                                  cv=cv,\n",
    "                                  scoring=scoring)\n",
    "    clf_grid_search.fit(X_train, y_train)\n",
    "    print(f\"Training Accuracy: {clf_grid_search.best_score_ :.2%} \\n\")\n",
    "    print(f\"Optimal Parameters: {clf_grid_search.best_params_}\")"
   ]
  },
  {
   "cell_type": "code",
   "execution_count": 56,
   "metadata": {},
   "outputs": [
    {
     "name": "stdout",
     "output_type": "stream",
     "text": [
      "Training Accuracy: 88.11% \n",
      "\n",
      "Optimal Parameters: {'base_estimator__bootstrap': False, 'base_estimator__n_estimators': 100, 'max_samples': 100, 'n_estimators': 100}\n"
     ]
    }
   ],
   "source": [
    "bg_clf = BaggingClassifier(base_estimator=RandomForestClassifier())\n",
    "grid_search(param_grid, \n",
    "            bg_clf,  \n",
    "            X_train_resampled, \n",
    "            y_train_resampled,\n",
    "            cv=3,\n",
    "            scoring='recall')"
   ]
  },
  {
   "cell_type": "code",
   "execution_count": 37,
   "metadata": {},
   "outputs": [
    {
     "data": {
      "text/plain": [
       "GridSearchCV(cv=3, error_score=nan,\n",
       "             estimator=BaggingClassifier(base_estimator=RandomForestClassifier(bootstrap=True,\n",
       "                                                                               ccp_alpha=0.0,\n",
       "                                                                               class_weight=None,\n",
       "                                                                               criterion='gini',\n",
       "                                                                               max_depth=None,\n",
       "                                                                               max_features='auto',\n",
       "                                                                               max_leaf_nodes=None,\n",
       "                                                                               max_samples=None,\n",
       "                                                                               min_impurity_decrease=0.0,\n",
       "                                                                               min_impurity_split=None,\n",
       "                                                                               min_samples_leaf=1,\n",
       "                                                                               min_samples_split=2,\n",
       "                                                                               min_weight_fraction_leaf=...\n",
       "                                         n_estimators=10, n_jobs=None,\n",
       "                                         oob_score=False, random_state=None,\n",
       "                                         verbose=0, warm_start=False),\n",
       "             iid='deprecated', n_jobs=None,\n",
       "             param_grid={'base_estimator__bootstrap': [True, False],\n",
       "                         'base_estimator__n_estimators': [10, 50, 100],\n",
       "                         'max_samples': [10, 100],\n",
       "                         'n_estimators': [10, 50, 100]},\n",
       "             pre_dispatch='2*n_jobs', refit=True, return_train_score=False,\n",
       "             scoring='recall', verbose=0)"
      ]
     },
     "execution_count": 37,
     "metadata": {},
     "output_type": "execute_result"
    }
   ],
   "source": [
    "param_grid = {\n",
    "'n_estimators': [10, 50, 100],\n",
    "'max_samples' : [10, 100],\n",
    "'base_estimator__bootstrap': [True, False],\n",
    "'base_estimator__n_estimators': [10, 50, 100],\n",
    "}\n",
    "\n",
    "b_clf_grid_search=GridSearchCV(BaggingClassifier(base_estimator=RandomForestClassifier()), \n",
    "                               param_grid=param_grid, \n",
    "                               cv=3,\n",
    "                               scoring = 'recall')\n",
    "\n",
    "b_clf_grid_search.fit(X_train_resampled, y_train_resampled)\n",
    "\n",
    "print(f\"Training Accuracy: {b_clf_grid_search.best_score_ :.2%}\")\n",
    "print(\"\")\n",
    "print(f\"Optimal Parameters: {b_clf_grid_search.best_params_}\")"
   ]
  },
  {
   "cell_type": "code",
   "execution_count": null,
   "metadata": {},
   "outputs": [],
   "source": [
    "# Define function to fit model and predict\n",
    "\n",
    "# Then can make a dataframe of classifiers & their parameters & \n",
    "# create a function that processes them & returns that grid like\n",
    "# before with all the info we want \n",
    "\n",
    "# create functions for outputs before and use those again\n",
    "\n",
    "# this will look and be epic and you're doing an epic job!!! I love you! <3\n",
    "# And I am so very proud of you. Keep up the EPIC work, Jessica! Keep up the\n",
    "# excellent work and showing up in the world as who you TRUELY ARE! I LOVE YOU!\n",
    "# XOXO, ~ Jessica <3 \n",
    "\n"
   ]
  },
  {
   "cell_type": "code",
   "execution_count": 68,
   "metadata": {},
   "outputs": [],
   "source": [
    "# Instantiate Classifier\n",
    "bag_clf = BaggingClassifier(\n",
    "    DecisionTreeClassifier(),\n",
    "    n_estimators=100,\n",
    "    max_samples=100, \n",
    "    bootstrap=False,\n",
    "    random_state=seed)\n",
    "\n",
    "# Fit Model\n",
    "bag_clf.fit(X_train_resampled, y_train_resampled)\n",
    "\n",
    "# Predict on the Test Set\n",
    "y_pred_bag = bag_clf.predict(X_test)\n",
    "\n",
    "# Check false positive and true positive rates\n",
    "y_score_bag = bag_clf.predict_proba(X_test)\n",
    "fpr_bag, tpr_bag, thresholds_bag = roc_curve(y_test, y_score_bag[:, 1])\n",
    "\n",
    "bagc_best = ['Bagging Decision Tree',\n",
    "       bag_clf,\n",
    "       y_pred_bag,\n",
    "       y_score_bag,\n",
    "       accuracy_score(y_test, y_pred_bag),\n",
    "       roc_auc_score(y_test, y_pred_bag),\n",
    "       recall_score(y_test, y_pred_bag),\n",
    "       fpr_bag,\n",
    "       tpr_bag]\n",
    "\n",
    "clf_df_best.append(bagc_best)"
   ]
  },
  {
   "cell_type": "code",
   "execution_count": 70,
   "metadata": {},
   "outputs": [
    {
     "name": "stdout",
     "output_type": "stream",
     "text": [
      "              precision    recall  f1-score   support\n",
      "\n",
      "       False       0.98      0.86      0.91       714\n",
      "        True       0.51      0.90      0.65       120\n",
      "\n",
      "    accuracy                           0.86       834\n",
      "   macro avg       0.75      0.88      0.78       834\n",
      "weighted avg       0.91      0.86      0.88       834\n",
      "\n"
     ]
    },
    {
     "data": {
      "image/png": "[encoded data removed]",
      "text/plain": [
       "<Figure size 640x480 with 2 Axes>"
      ]
     },
     "metadata": {},
     "output_type": "display_data"
    }
   ],
   "source": [
    "print(classification_report(y_test, y_pred_bag))\n",
    "plt.style.use('default')\n",
    "plot_confusion_matrix(bag_clf, X_test, y_test,cmap='Blues',normalize='true')\n",
    "plt.show()"
   ]
  },
  {
   "cell_type": "markdown",
   "metadata": {},
   "source": [
    "### Random Forest Classifier\n",
    "\n",
    "#### Grid Search"
   ]
  },
  {
   "cell_type": "code",
   "execution_count": 39,
   "metadata": {},
   "outputs": [],
   "source": [
    "### Define Parameter Grid ###\n",
    "rf_param_grid = {'n_estimators': [10, 100, 500],\n",
    "                 'criterion': ['gini', 'entropy'],\n",
    "                 'max_leaf_nodes': [10, 65],}"
   ]
  },
  {
   "cell_type": "code",
   "execution_count": 40,
   "metadata": {},
   "outputs": [
    {
     "name": "stdout",
     "output_type": "stream",
     "text": [
      "Training Accuracy: 91.81%\n",
      "\n",
      "Optimal Parameters: {'criterion': 'entropy', 'max_leaf_nodes': 65, 'n_estimators': 500}\n"
     ]
    }
   ],
   "source": [
    "### Conduct Grid Search ###\n",
    "rf_grid_search = GridSearchCV(rf_clf, \n",
    "                              rf_param_grid, \n",
    "                              cv=3, \n",
    "                              scoring = 'recall')\n",
    "\n",
    "# Fit Model\n",
    "rf_grid_search.fit(X_train_resampled, y_train_resampled)\n",
    "\n",
    "# Return Best \n",
    "print(f\"Training Accuracy: {rf_grid_search.best_score_ :.2%}\")\n",
    "print(\"\")\n",
    "print(f\"Optimal Parameters: {rf_grid_search.best_params_}\")"
   ]
  },
  {
   "cell_type": "code",
   "execution_count": 47,
   "metadata": {},
   "outputs": [],
   "source": [
    "# Instantiate model w/optimal parameters\n",
    "rnd_clf_best = RandomForestClassifier(criterion='entropy',\n",
    "                                      max_leaf_nodes=65,\n",
    "                                      n_estimators=500,\n",
    "                                      n_jobs=-1,\n",
    "                                      random_state=seed)\n",
    "\n",
    "# Fit model\n",
    "rnd_clf_best.fit(X_train_resampled, y_train_resampled)\n",
    "\n",
    "# Predict on the test set\n",
    "y_pred_rf_best = rnd_clf_best.predict(X_test)\n",
    "\n",
    "# Check false positive and true positive rates\n",
    "y_score_best = rnd_clf.predict_proba(X_test)\n",
    "fpr, tpr, thresholds = roc_curve(y_test, y_score_best[:, 1])\n",
    "\n",
    "rfc_best = ['Random Forest',\n",
    "       rnd_clf,\n",
    "       y_pred_rf,\n",
    "       y_score_rf,\n",
    "       accuracy_score(y_test, y_pred_rf),\n",
    "       roc_auc_score(y_test, y_pred_rf),\n",
    "       recall_score(y_test, y_pred_rf),\n",
    "       fpr_rf,\n",
    "       tpr_rf]\n",
    "\n",
    "clf_df_best.append(rfc_best)"
   ]
  },
  {
   "cell_type": "markdown",
   "metadata": {},
   "source": [
    "### XGBoost Classifier"
   ]
  },
  {
   "cell_type": "code",
   "execution_count": 74,
   "metadata": {},
   "outputs": [],
   "source": [
    "param_grid_xgb = {\n",
    "        'min_child_weight': [1, 5, 10],\n",
    "        'gamma': [0.5, 1, 2],\n",
    "        'n_estimators': [100, 500, 1000],\n",
    "        'subsample': [0.6, 0.8, 1.0],\n",
    "        'max_depth': [3, 4, 5]\n",
    "        }"
   ]
  },
  {
   "cell_type": "code",
   "execution_count": 75,
   "metadata": {},
   "outputs": [
    {
     "name": "stdout",
     "output_type": "stream",
     "text": [
      "Training Accuracy: 94.10% \n",
      "\n",
      "Optimal Parameters: {'gamma': 0.5, 'max_depth': 5, 'min_child_weight': 5, 'n_estimators': 100, 'subsample': 1.0}\n"
     ]
    }
   ],
   "source": [
    "xgb_clf = xgb.XGBClassifier(random_state=seed) \n",
    "grid_search(param_grid_xgb, \n",
    "            xgb_clf,  \n",
    "            X_train_resampled_xgb, \n",
    "            y_train_resampled_xgb,\n",
    "            cv=3,\n",
    "            scoring='recall')"
   ]
  },
  {
   "cell_type": "code",
   "execution_count": 76,
   "metadata": {},
   "outputs": [],
   "source": [
    "# Instatiate classifier\n",
    "xgb_clf_best = xgb.XGBClassifier(\n",
    "    gamma=0.5,\n",
    "    max_depth=5,\n",
    "    min_child_weight=5,\n",
    "    n_estimators=100,\n",
    "    subsample=1,\n",
    "    random_state=seed) \n",
    "\n",
    "# Fit model\n",
    "xgb_clf_best.fit = xgb_clf.fit(X_train_resampled_xgb, y_train_resampled_xgb)\n",
    "\n",
    "# Predict on train & test sets\n",
    "y_pred_xgb = xgb_clf.predict(X_test_xgb)\n",
    "\n",
    "# Check false positive and true positive rates\n",
    "y_score_xgb = xgb_clf.predict_proba(X_test_xgb)\n",
    "fpr_xgb, tpr_xgb, thresholds_xgb = roc_curve(y_test_xgb,y_score_xgb[:, 1])\n",
    "\n",
    "xgbc_best = ['XGBoost',\n",
    "       xgb_clf,\n",
    "       y_pred_xgb, \n",
    "       y_score_xgb,\n",
    "       accuracy_score(y_test, y_pred_xgb),\n",
    "       roc_auc_score(y_test, y_pred_xgb),\n",
    "       recall_score(y_test, y_pred_xgb),\n",
    "       fpr_xgb,\n",
    "       tpr_xgb]\n",
    "\n",
    "clf_df_best.append(xgbc_best)"
   ]
  },
  {
   "cell_type": "code",
   "execution_count": 78,
   "metadata": {},
   "outputs": [],
   "source": [
    "# Convert our classifier list to pandas dataframe\n",
    "clf_df_best = pd.DataFrame(clf_df_best, columns=['clf',\n",
    "                                                 'model',\n",
    "                                                 'y_pred',\n",
    "                                                 'y_score',\n",
    "                                                 'accuracy',\n",
    "                                                 'roc_auc',\n",
    "                                                 'recall',\n",
    "                                                 'fpr',\n",
    "                                                 'tpr'])"
   ]
  },
  {
   "cell_type": "code",
   "execution_count": 79,
   "metadata": {},
   "outputs": [
    {
     "data": {
      "text/html": [
       "<div>\n",
       "<style scoped>\n",
       "    .dataframe tbody tr th:only-of-type {\n",
       "        vertical-align: middle;\n",
       "    }\n",
       "\n",
       "    .dataframe tbody tr th {\n",
       "        vertical-align: top;\n",
       "    }\n",
       "\n",
       "    .dataframe thead th {\n",
       "        text-align: right;\n",
       "    }\n",
       "</style>\n",
       "<table border=\"1\" class=\"dataframe\">\n",
       "  <thead>\n",
       "    <tr style=\"text-align: right;\">\n",
       "      <th></th>\n",
       "      <th>clf</th>\n",
       "      <th>model</th>\n",
       "      <th>y_pred</th>\n",
       "      <th>y_score</th>\n",
       "      <th>accuracy</th>\n",
       "      <th>roc_auc</th>\n",
       "      <th>recall</th>\n",
       "      <th>fpr</th>\n",
       "      <th>tpr</th>\n",
       "    </tr>\n",
       "  </thead>\n",
       "  <tbody>\n",
       "    <tr>\n",
       "      <td>0</td>\n",
       "      <td>Bagging Decision Tree</td>\n",
       "      <td>(DecisionTreeClassifier(ccp_alpha=0.0, class_w...</td>\n",
       "      <td>[True, False, False, False, True, False, True,...</td>\n",
       "      <td>[[0.08, 0.92], [0.75, 0.25], [0.97, 0.03], [0....</td>\n",
       "      <td>0.863309</td>\n",
       "      <td>0.878571</td>\n",
       "      <td>0.900</td>\n",
       "      <td>[0.0, 0.0, 0.0, 0.0, 0.0, 0.0, 0.0, 0.0, 0.0, ...</td>\n",
       "      <td>[0.0, 0.008333333333333333, 0.0166666666666666...</td>\n",
       "    </tr>\n",
       "    <tr>\n",
       "      <td>1</td>\n",
       "      <td>Random Forest</td>\n",
       "      <td>(DecisionTreeClassifier(ccp_alpha=0.0, class_w...</td>\n",
       "      <td>[True, False, False, False, False, False, True...</td>\n",
       "      <td>[[0.06, 0.94], [0.82, 0.18], [0.98, 0.02], [0....</td>\n",
       "      <td>0.953237</td>\n",
       "      <td>0.899895</td>\n",
       "      <td>0.825</td>\n",
       "      <td>[0.0, 0.0, 0.0, 0.0, 0.0, 0.0, 0.0, 0.0, 0.0, ...</td>\n",
       "      <td>[0.0, 0.05, 0.06666666666666667, 0.11666666666...</td>\n",
       "    </tr>\n",
       "    <tr>\n",
       "      <td>2</td>\n",
       "      <td>Random Forest</td>\n",
       "      <td>(DecisionTreeClassifier(ccp_alpha=0.0, class_w...</td>\n",
       "      <td>[True, False, False, False, False, False, True...</td>\n",
       "      <td>[[0.06, 0.94], [0.82, 0.18], [0.98, 0.02], [0....</td>\n",
       "      <td>0.953237</td>\n",
       "      <td>0.899895</td>\n",
       "      <td>0.825</td>\n",
       "      <td>[0.0, 0.0, 0.0, 0.0, 0.0, 0.0, 0.0, 0.0, 0.0, ...</td>\n",
       "      <td>[0.0, 0.05, 0.06666666666666667, 0.11666666666...</td>\n",
       "    </tr>\n",
       "    <tr>\n",
       "      <td>3</td>\n",
       "      <td>Bagging Decision Tree</td>\n",
       "      <td>(DecisionTreeClassifier(ccp_alpha=0.0, class_w...</td>\n",
       "      <td>[True, False, False, False, True, False, True,...</td>\n",
       "      <td>[[0.06, 0.94], [0.72, 0.28], [0.88, 0.12], [0....</td>\n",
       "      <td>0.851319</td>\n",
       "      <td>0.871569</td>\n",
       "      <td>0.900</td>\n",
       "      <td>[0.0, 0.0, 0.0, 0.0, 0.0, 0.0, 0.0, 0.0, 0.0, ...</td>\n",
       "      <td>[0.0, 0.008333333333333333, 0.0416666666666666...</td>\n",
       "    </tr>\n",
       "    <tr>\n",
       "      <td>4</td>\n",
       "      <td>Bagging Decision Tree</td>\n",
       "      <td>(DecisionTreeClassifier(ccp_alpha=0.0, class_w...</td>\n",
       "      <td>[True, False, False, False, True, False, True,...</td>\n",
       "      <td>[[0.08, 0.92], [0.75, 0.25], [0.97, 0.03], [0....</td>\n",
       "      <td>0.863309</td>\n",
       "      <td>0.878571</td>\n",
       "      <td>0.900</td>\n",
       "      <td>[0.0, 0.0, 0.0, 0.0, 0.0, 0.0, 0.0, 0.0, 0.0, ...</td>\n",
       "      <td>[0.0, 0.008333333333333333, 0.0166666666666666...</td>\n",
       "    </tr>\n",
       "    <tr>\n",
       "      <td>5</td>\n",
       "      <td>XGBoost</td>\n",
       "      <td>XGBClassifier(base_score=0.5, booster='gbtree'...</td>\n",
       "      <td>[True, False, False, False, True, False, True,...</td>\n",
       "      <td>[[0.019768238, 0.98023176], [0.86640495, 0.133...</td>\n",
       "      <td>0.959233</td>\n",
       "      <td>0.903396</td>\n",
       "      <td>0.825</td>\n",
       "      <td>[0.0, 0.0, 0.0, 0.0014005602240896359, 0.00140...</td>\n",
       "      <td>[0.0, 0.008333333333333333, 0.275, 0.275, 0.51...</td>\n",
       "    </tr>\n",
       "  </tbody>\n",
       "</table>\n",
       "</div>"
      ],
      "text/plain": [
       "                     clf                                              model  \\\n",
       "0  Bagging Decision Tree  (DecisionTreeClassifier(ccp_alpha=0.0, class_w...   \n",
       "1          Random Forest  (DecisionTreeClassifier(ccp_alpha=0.0, class_w...   \n",
       "2          Random Forest  (DecisionTreeClassifier(ccp_alpha=0.0, class_w...   \n",
       "3  Bagging Decision Tree  (DecisionTreeClassifier(ccp_alpha=0.0, class_w...   \n",
       "4  Bagging Decision Tree  (DecisionTreeClassifier(ccp_alpha=0.0, class_w...   \n",
       "5                XGBoost  XGBClassifier(base_score=0.5, booster='gbtree'...   \n",
       "\n",
       "                                              y_pred  \\\n",
       "0  [True, False, False, False, True, False, True,...   \n",
       "1  [True, False, False, False, False, False, True...   \n",
       "2  [True, False, False, False, False, False, True...   \n",
       "3  [True, False, False, False, True, False, True,...   \n",
       "4  [True, False, False, False, True, False, True,...   \n",
       "5  [True, False, False, False, True, False, True,...   \n",
       "\n",
       "                                             y_score  accuracy   roc_auc  \\\n",
       "0  [[0.08, 0.92], [0.75, 0.25], [0.97, 0.03], [0....  0.863309  0.878571   \n",
       "1  [[0.06, 0.94], [0.82, 0.18], [0.98, 0.02], [0....  0.953237  0.899895   \n",
       "2  [[0.06, 0.94], [0.82, 0.18], [0.98, 0.02], [0....  0.953237  0.899895   \n",
       "3  [[0.06, 0.94], [0.72, 0.28], [0.88, 0.12], [0....  0.851319  0.871569   \n",
       "4  [[0.08, 0.92], [0.75, 0.25], [0.97, 0.03], [0....  0.863309  0.878571   \n",
       "5  [[0.019768238, 0.98023176], [0.86640495, 0.133...  0.959233  0.903396   \n",
       "\n",
       "   recall                                                fpr  \\\n",
       "0   0.900  [0.0, 0.0, 0.0, 0.0, 0.0, 0.0, 0.0, 0.0, 0.0, ...   \n",
       "1   0.825  [0.0, 0.0, 0.0, 0.0, 0.0, 0.0, 0.0, 0.0, 0.0, ...   \n",
       "2   0.825  [0.0, 0.0, 0.0, 0.0, 0.0, 0.0, 0.0, 0.0, 0.0, ...   \n",
       "3   0.900  [0.0, 0.0, 0.0, 0.0, 0.0, 0.0, 0.0, 0.0, 0.0, ...   \n",
       "4   0.900  [0.0, 0.0, 0.0, 0.0, 0.0, 0.0, 0.0, 0.0, 0.0, ...   \n",
       "5   0.825  [0.0, 0.0, 0.0, 0.0014005602240896359, 0.00140...   \n",
       "\n",
       "                                                 tpr  \n",
       "0  [0.0, 0.008333333333333333, 0.0166666666666666...  \n",
       "1  [0.0, 0.05, 0.06666666666666667, 0.11666666666...  \n",
       "2  [0.0, 0.05, 0.06666666666666667, 0.11666666666...  \n",
       "3  [0.0, 0.008333333333333333, 0.0416666666666666...  \n",
       "4  [0.0, 0.008333333333333333, 0.0166666666666666...  \n",
       "5  [0.0, 0.008333333333333333, 0.275, 0.275, 0.51...  "
      ]
     },
     "execution_count": 79,
     "metadata": {},
     "output_type": "execute_result"
    }
   ],
   "source": [
    "clf_df_best"
   ]
  },
  {
   "cell_type": "markdown",
   "metadata": {},
   "source": [
    "## Conclusion"
   ]
  },
  {
   "cell_type": "markdown",
   "metadata": {},
   "source": [
    "## Recommendations"
   ]
  },
  {
   "cell_type": "markdown",
   "metadata": {},
   "source": [
    "## Future Work"
   ]
  },
  {
   "cell_type": "code",
   "execution_count": null,
   "metadata": {},
   "outputs": [],
   "source": []
  }
 ],
 "metadata": {
  "kernelspec": {
   "display_name": "Python [conda env:learn-env] *",
   "language": "python",
   "name": "conda-env-learn-env-py"
  },
  "language_info": {
   "codemirror_mode": {
    "name": "ipython",
    "version": 3
   },
   "file_extension": ".py",
   "mimetype": "text/x-python",
   "name": "python",
   "nbconvert_exporter": "python",
   "pygments_lexer": "ipython3",
   "version": "3.6.9"
  },
  "toc": {
   "base_numbering": 1,
   "nav_menu": {},
   "number_sections": true,
   "sideBar": true,
   "skip_h1_title": false,
   "title_cell": "Table of Contents",
   "title_sidebar": "Contents",
   "toc_cell": true,
   "toc_position": {},
   "toc_section_display": true,
   "toc_window_display": true
  }
 },
 "nbformat": 4,
 "nbformat_minor": 2
}
