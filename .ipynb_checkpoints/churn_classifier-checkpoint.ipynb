{
 "cells": [
  {
   "cell_type": "markdown",
   "metadata": {
    "toc": true
   },
   "source": [
    "<h1>Table of Contents<span class=\"tocSkip\"></span></h1>\n",
    "<div class=\"toc\"><ul class=\"toc-item\"><li><span><a href=\"#Intro\" data-toc-modified-id=\"Intro-1\"><span class=\"toc-item-num\">1&nbsp;&nbsp;</span>Intro</a></span><ul class=\"toc-item\"><li><span><a href=\"#Problem-Statement\" data-toc-modified-id=\"Problem-Statement-1.1\"><span class=\"toc-item-num\">1.1&nbsp;&nbsp;</span>Problem Statement</a></span></li><li><span><a href=\"#Customer-Churn\" data-toc-modified-id=\"Customer-Churn-1.2\"><span class=\"toc-item-num\">1.2&nbsp;&nbsp;</span>Customer Churn</a></span></li><li><span><a href=\"#Business-Value\" data-toc-modified-id=\"Business-Value-1.3\"><span class=\"toc-item-num\">1.3&nbsp;&nbsp;</span>Business Value</a></span></li><li><span><a href=\"#Strategy\" data-toc-modified-id=\"Strategy-1.4\"><span class=\"toc-item-num\">1.4&nbsp;&nbsp;</span>Strategy</a></span></li></ul></li><li><span><a href=\"#Import-Data-&amp;-Packages\" data-toc-modified-id=\"Import-Data-&amp;-Packages-2\"><span class=\"toc-item-num\">2&nbsp;&nbsp;</span>Import Data &amp; Packages</a></span></li><li><span><a href=\"#EDA-&amp;-Cleaning\" data-toc-modified-id=\"EDA-&amp;-Cleaning-3\"><span class=\"toc-item-num\">3&nbsp;&nbsp;</span>EDA &amp; Cleaning</a></span><ul class=\"toc-item\"><li><span><a href=\"#Summary-Statistics\" data-toc-modified-id=\"Summary-Statistics-3.1\"><span class=\"toc-item-num\">3.1&nbsp;&nbsp;</span>Summary Statistics</a></span><ul class=\"toc-item\"><li><span><a href=\"#Charges-vs.-Customer-Service-Calls\" data-toc-modified-id=\"Charges-vs.-Customer-Service-Calls-3.1.1\"><span class=\"toc-item-num\">3.1.1&nbsp;&nbsp;</span>Charges vs. Customer Service Calls</a></span></li></ul></li><li><span><a href=\"#Normality-Check\" data-toc-modified-id=\"Normality-Check-3.2\"><span class=\"toc-item-num\">3.2&nbsp;&nbsp;</span>Normality Check</a></span></li><li><span><a href=\"#Correlation-Matrix\" data-toc-modified-id=\"Correlation-Matrix-3.3\"><span class=\"toc-item-num\">3.3&nbsp;&nbsp;</span>Correlation Matrix</a></span><ul class=\"toc-item\"><li><span><a href=\"#Minutes-vs.-Charges\" data-toc-modified-id=\"Minutes-vs.-Charges-3.3.1\"><span class=\"toc-item-num\">3.3.1&nbsp;&nbsp;</span>Minutes vs. Charges</a></span></li></ul></li><li><span><a href=\"#Categorical-Features\" data-toc-modified-id=\"Categorical-Features-3.4\"><span class=\"toc-item-num\">3.4&nbsp;&nbsp;</span>Categorical Features</a></span><ul class=\"toc-item\"><li><span><a href=\"#States\" data-toc-modified-id=\"States-3.4.1\"><span class=\"toc-item-num\">3.4.1&nbsp;&nbsp;</span>States</a></span></li><li><span><a href=\"#Area-Code\" data-toc-modified-id=\"Area-Code-3.4.2\"><span class=\"toc-item-num\">3.4.2&nbsp;&nbsp;</span>Area Code</a></span></li><li><span><a href=\"#Account-Length\" data-toc-modified-id=\"Account-Length-3.4.3\"><span class=\"toc-item-num\">3.4.3&nbsp;&nbsp;</span>Account Length</a></span></li><li><span><a href=\"#Churn:-Target-Variable\" data-toc-modified-id=\"Churn:-Target-Variable-3.4.4\"><span class=\"toc-item-num\">3.4.4&nbsp;&nbsp;</span>Churn: Target Variable</a></span></li></ul></li></ul></li><li><span><a href=\"#Pre-processing\" data-toc-modified-id=\"Pre-processing-4\"><span class=\"toc-item-num\">4&nbsp;&nbsp;</span>Pre-processing</a></span><ul class=\"toc-item\"><li><span><a href=\"#One-Hot-Encode-Categorical-Data\" data-toc-modified-id=\"One-Hot-Encode-Categorical-Data-4.1\"><span class=\"toc-item-num\">4.1&nbsp;&nbsp;</span>One-Hot-Encode Categorical Data</a></span></li><li><span><a href=\"#Separate-Target-&amp;-Predictor-Variables\" data-toc-modified-id=\"Separate-Target-&amp;-Predictor-Variables-4.2\"><span class=\"toc-item-num\">4.2&nbsp;&nbsp;</span>Separate Target &amp; Predictor Variables</a></span></li><li><span><a href=\"#Address-Class-Imbalance\" data-toc-modified-id=\"Address-Class-Imbalance-4.3\"><span class=\"toc-item-num\">4.3&nbsp;&nbsp;</span>Address Class Imbalance</a></span></li></ul></li><li><span><a href=\"#Modeling\" data-toc-modified-id=\"Modeling-5\"><span class=\"toc-item-num\">5&nbsp;&nbsp;</span>Modeling</a></span><ul class=\"toc-item\"><li><span><a href=\"#Logistic-Regression-Classifier\" data-toc-modified-id=\"Logistic-Regression-Classifier-5.1\"><span class=\"toc-item-num\">5.1&nbsp;&nbsp;</span>Logistic Regression Classifier</a></span><ul class=\"toc-item\"><li><span><a href=\"#Fit-Model-&amp;-Predict\" data-toc-modified-id=\"Fit-Model-&amp;-Predict-5.1.1\"><span class=\"toc-item-num\">5.1.1&nbsp;&nbsp;</span>Fit Model &amp; Predict</a></span></li><li><span><a href=\"#Confusion-Matrix-&amp;-Accuracy-Scores\" data-toc-modified-id=\"Confusion-Matrix-&amp;-Accuracy-Scores-5.1.2\"><span class=\"toc-item-num\">5.1.2&nbsp;&nbsp;</span>Confusion Matrix &amp; Accuracy Scores</a></span></li><li><span><a href=\"#ROC-Curve\" data-toc-modified-id=\"ROC-Curve-5.1.3\"><span class=\"toc-item-num\">5.1.3&nbsp;&nbsp;</span>ROC Curve</a></span></li></ul></li><li><span><a href=\"#KNN-Classifier\" data-toc-modified-id=\"KNN-Classifier-5.2\"><span class=\"toc-item-num\">5.2&nbsp;&nbsp;</span>KNN Classifier</a></span><ul class=\"toc-item\"><li><span><a href=\"#Fit-Model-&amp;-Predict\" data-toc-modified-id=\"Fit-Model-&amp;-Predict-5.2.1\"><span class=\"toc-item-num\">5.2.1&nbsp;&nbsp;</span>Fit Model &amp; Predict</a></span></li><li><span><a href=\"#Confusion-Matrix-&amp;-Accuracy-Scores\" data-toc-modified-id=\"Confusion-Matrix-&amp;-Accuracy-Scores-5.2.2\"><span class=\"toc-item-num\">5.2.2&nbsp;&nbsp;</span>Confusion Matrix &amp; Accuracy Scores</a></span></li><li><span><a href=\"#ROC-Curve\" data-toc-modified-id=\"ROC-Curve-5.2.3\"><span class=\"toc-item-num\">5.2.3&nbsp;&nbsp;</span>ROC Curve</a></span></li></ul></li><li><span><a href=\"#Bagging-Tree-Classifier\" data-toc-modified-id=\"Bagging-Tree-Classifier-5.3\"><span class=\"toc-item-num\">5.3&nbsp;&nbsp;</span>Bagging Tree Classifier</a></span><ul class=\"toc-item\"><li><span><a href=\"#Fit-Model-&amp;-Predict\" data-toc-modified-id=\"Fit-Model-&amp;-Predict-5.3.1\"><span class=\"toc-item-num\">5.3.1&nbsp;&nbsp;</span>Fit Model &amp; Predict</a></span></li><li><span><a href=\"#Confusion-Matrix-&amp;-Accuracy-Scores\" data-toc-modified-id=\"Confusion-Matrix-&amp;-Accuracy-Scores-5.3.2\"><span class=\"toc-item-num\">5.3.2&nbsp;&nbsp;</span>Confusion Matrix &amp; Accuracy Scores</a></span></li><li><span><a href=\"#ROC-Curve\" data-toc-modified-id=\"ROC-Curve-5.3.3\"><span class=\"toc-item-num\">5.3.3&nbsp;&nbsp;</span>ROC Curve</a></span></li></ul></li><li><span><a href=\"#Random-Forest-Classifier\" data-toc-modified-id=\"Random-Forest-Classifier-5.4\"><span class=\"toc-item-num\">5.4&nbsp;&nbsp;</span>Random Forest Classifier</a></span><ul class=\"toc-item\"><li><span><a href=\"#Cross-validation\" data-toc-modified-id=\"Cross-validation-5.4.1\"><span class=\"toc-item-num\">5.4.1&nbsp;&nbsp;</span>Cross-validation</a></span></li><li><span><a href=\"#Fit-Model-&amp;-Predict\" data-toc-modified-id=\"Fit-Model-&amp;-Predict-5.4.2\"><span class=\"toc-item-num\">5.4.2&nbsp;&nbsp;</span>Fit Model &amp; Predict</a></span></li><li><span><a href=\"#Confusion-Matrix-&amp;-Accuracy-Scores\" data-toc-modified-id=\"Confusion-Matrix-&amp;-Accuracy-Scores-5.4.3\"><span class=\"toc-item-num\">5.4.3&nbsp;&nbsp;</span>Confusion Matrix &amp; Accuracy Scores</a></span></li><li><span><a href=\"#ROC-Curve\" data-toc-modified-id=\"ROC-Curve-5.4.4\"><span class=\"toc-item-num\">5.4.4&nbsp;&nbsp;</span>ROC Curve</a></span></li></ul></li><li><span><a href=\"#SVC-Classifier\" data-toc-modified-id=\"SVC-Classifier-5.5\"><span class=\"toc-item-num\">5.5&nbsp;&nbsp;</span>SVC Classifier</a></span><ul class=\"toc-item\"><li><span><a href=\"#Fit-Model-&amp;-Predict\" data-toc-modified-id=\"Fit-Model-&amp;-Predict-5.5.1\"><span class=\"toc-item-num\">5.5.1&nbsp;&nbsp;</span>Fit Model &amp; Predict</a></span></li><li><span><a href=\"#Confusion-Matrix-&amp;-Classification-Report\" data-toc-modified-id=\"Confusion-Matrix-&amp;-Classification-Report-5.5.2\"><span class=\"toc-item-num\">5.5.2&nbsp;&nbsp;</span>Confusion Matrix &amp; Classification Report</a></span></li><li><span><a href=\"#ROC-Curve\" data-toc-modified-id=\"ROC-Curve-5.5.3\"><span class=\"toc-item-num\">5.5.3&nbsp;&nbsp;</span>ROC Curve</a></span></li></ul></li><li><span><a href=\"#XGBoost-Classifier\" data-toc-modified-id=\"XGBoost-Classifier-5.6\"><span class=\"toc-item-num\">5.6&nbsp;&nbsp;</span>XGBoost Classifier</a></span><ul class=\"toc-item\"><li><span><a href=\"#Fit-Model-&amp;-Predict\" data-toc-modified-id=\"Fit-Model-&amp;-Predict-5.6.1\"><span class=\"toc-item-num\">5.6.1&nbsp;&nbsp;</span>Fit Model &amp; Predict</a></span></li><li><span><a href=\"#Confusion-Matrix-&amp;-Accuracy-Scores\" data-toc-modified-id=\"Confusion-Matrix-&amp;-Accuracy-Scores-5.6.2\"><span class=\"toc-item-num\">5.6.2&nbsp;&nbsp;</span>Confusion Matrix &amp; Accuracy Scores</a></span></li><li><span><a href=\"#ROC-Curve\" data-toc-modified-id=\"ROC-Curve-5.6.3\"><span class=\"toc-item-num\">5.6.3&nbsp;&nbsp;</span>ROC Curve</a></span></li><li><span><a href=\"#Feature-Ranking\" data-toc-modified-id=\"Feature-Ranking-5.6.4\"><span class=\"toc-item-num\">5.6.4&nbsp;&nbsp;</span>Feature Ranking</a></span></li></ul></li><li><span><a href=\"#Conclusion-for-Baseline-Classifiers\" data-toc-modified-id=\"Conclusion-for-Baseline-Classifiers-5.7\"><span class=\"toc-item-num\">5.7&nbsp;&nbsp;</span>Conclusion for Baseline Classifiers</a></span></li></ul></li><li><span><a href=\"#Hyperparameter-Tuning\" data-toc-modified-id=\"Hyperparameter-Tuning-6\"><span class=\"toc-item-num\">6&nbsp;&nbsp;</span>Hyperparameter Tuning</a></span><ul class=\"toc-item\"><li><span><a href=\"#Bagging-Classifier\" data-toc-modified-id=\"Bagging-Classifier-6.1\"><span class=\"toc-item-num\">6.1&nbsp;&nbsp;</span>Bagging Classifier</a></span><ul class=\"toc-item\"><li><span><a href=\"#Grid-Search\" data-toc-modified-id=\"Grid-Search-6.1.1\"><span class=\"toc-item-num\">6.1.1&nbsp;&nbsp;</span>Grid Search</a></span></li></ul></li><li><span><a href=\"#Random-Forest-Classifier\" data-toc-modified-id=\"Random-Forest-Classifier-6.2\"><span class=\"toc-item-num\">6.2&nbsp;&nbsp;</span>Random Forest Classifier</a></span><ul class=\"toc-item\"><li><span><a href=\"#Grid-Search\" data-toc-modified-id=\"Grid-Search-6.2.1\"><span class=\"toc-item-num\">6.2.1&nbsp;&nbsp;</span>Grid Search</a></span></li></ul></li><li><span><a href=\"#XGBoost-Classifier\" data-toc-modified-id=\"XGBoost-Classifier-6.3\"><span class=\"toc-item-num\">6.3&nbsp;&nbsp;</span>XGBoost Classifier</a></span></li></ul></li><li><span><a href=\"#Conclusion\" data-toc-modified-id=\"Conclusion-7\"><span class=\"toc-item-num\">7&nbsp;&nbsp;</span>Conclusion</a></span></li><li><span><a href=\"#Recommendations\" data-toc-modified-id=\"Recommendations-8\"><span class=\"toc-item-num\">8&nbsp;&nbsp;</span>Recommendations</a></span></li><li><span><a href=\"#Future-Work\" data-toc-modified-id=\"Future-Work-9\"><span class=\"toc-item-num\">9&nbsp;&nbsp;</span>Future Work</a></span></li></ul></div>"
   ]
  },
  {
   "cell_type": "markdown",
   "metadata": {},
   "source": [
    "## Intro\n",
    "\n",
    "### Problem Statement\n",
    "\n",
    "\n",
    "\n",
    "### Customer Churn\n",
    "\n",
    "\n",
    "\n",
    "### Business Value\n",
    "\n",
    "\n",
    "\n",
    "### Strategy\n",
    "\n",
    "We will create baseline models for 6 different classifiers and then tune the top 3 using GridSearchCV.\n",
    "\n",
    "We care mostly about the true positive rate. Since the cost of acquiring a customer is higher than the cost of retaining a customer, it is okay if we have some false positives. We also want to minimize false negatives. Therefore we will be optimizing for recall.\n",
    "\n",
    "The models we will be testing are:\n",
    "- Logistic Regression Classifier\n",
    "- k-Nearest Neighbors Classifier (KNN)\n",
    "- Bagging Tree Classifier (with Decision Trees)\n",
    "- Random Forest Classifier\n",
    "- Support Vector Classification Classifier (SVC)\n",
    "- XGBoost Classifier"
   ]
  },
  {
   "cell_type": "markdown",
   "metadata": {},
   "source": [
    "## Import Data & Packages"
   ]
  },
  {
   "cell_type": "code",
   "execution_count": 1,
   "metadata": {},
   "outputs": [
    {
     "data": {
      "text/html": [
       "<div>\n",
       "<style scoped>\n",
       "    .dataframe tbody tr th:only-of-type {\n",
       "        vertical-align: middle;\n",
       "    }\n",
       "\n",
       "    .dataframe tbody tr th {\n",
       "        vertical-align: top;\n",
       "    }\n",
       "\n",
       "    .dataframe thead th {\n",
       "        text-align: right;\n",
       "    }\n",
       "</style>\n",
       "<table border=\"1\" class=\"dataframe\">\n",
       "  <thead>\n",
       "    <tr style=\"text-align: right;\">\n",
       "      <th></th>\n",
       "      <th>state</th>\n",
       "      <th>account length</th>\n",
       "      <th>area code</th>\n",
       "      <th>phone number</th>\n",
       "      <th>international plan</th>\n",
       "      <th>voice mail plan</th>\n",
       "      <th>number vmail messages</th>\n",
       "      <th>total day minutes</th>\n",
       "      <th>total day calls</th>\n",
       "      <th>total day charge</th>\n",
       "      <th>...</th>\n",
       "      <th>total eve calls</th>\n",
       "      <th>total eve charge</th>\n",
       "      <th>total night minutes</th>\n",
       "      <th>total night calls</th>\n",
       "      <th>total night charge</th>\n",
       "      <th>total intl minutes</th>\n",
       "      <th>total intl calls</th>\n",
       "      <th>total intl charge</th>\n",
       "      <th>customer service calls</th>\n",
       "      <th>churn</th>\n",
       "    </tr>\n",
       "  </thead>\n",
       "  <tbody>\n",
       "    <tr>\n",
       "      <td>0</td>\n",
       "      <td>KS</td>\n",
       "      <td>128</td>\n",
       "      <td>415</td>\n",
       "      <td>382-4657</td>\n",
       "      <td>no</td>\n",
       "      <td>yes</td>\n",
       "      <td>25</td>\n",
       "      <td>265.1</td>\n",
       "      <td>110</td>\n",
       "      <td>45.07</td>\n",
       "      <td>...</td>\n",
       "      <td>99</td>\n",
       "      <td>16.78</td>\n",
       "      <td>244.7</td>\n",
       "      <td>91</td>\n",
       "      <td>11.01</td>\n",
       "      <td>10.0</td>\n",
       "      <td>3</td>\n",
       "      <td>2.70</td>\n",
       "      <td>1</td>\n",
       "      <td>False</td>\n",
       "    </tr>\n",
       "    <tr>\n",
       "      <td>1</td>\n",
       "      <td>OH</td>\n",
       "      <td>107</td>\n",
       "      <td>415</td>\n",
       "      <td>371-7191</td>\n",
       "      <td>no</td>\n",
       "      <td>yes</td>\n",
       "      <td>26</td>\n",
       "      <td>161.6</td>\n",
       "      <td>123</td>\n",
       "      <td>27.47</td>\n",
       "      <td>...</td>\n",
       "      <td>103</td>\n",
       "      <td>16.62</td>\n",
       "      <td>254.4</td>\n",
       "      <td>103</td>\n",
       "      <td>11.45</td>\n",
       "      <td>13.7</td>\n",
       "      <td>3</td>\n",
       "      <td>3.70</td>\n",
       "      <td>1</td>\n",
       "      <td>False</td>\n",
       "    </tr>\n",
       "    <tr>\n",
       "      <td>2</td>\n",
       "      <td>NJ</td>\n",
       "      <td>137</td>\n",
       "      <td>415</td>\n",
       "      <td>358-1921</td>\n",
       "      <td>no</td>\n",
       "      <td>no</td>\n",
       "      <td>0</td>\n",
       "      <td>243.4</td>\n",
       "      <td>114</td>\n",
       "      <td>41.38</td>\n",
       "      <td>...</td>\n",
       "      <td>110</td>\n",
       "      <td>10.30</td>\n",
       "      <td>162.6</td>\n",
       "      <td>104</td>\n",
       "      <td>7.32</td>\n",
       "      <td>12.2</td>\n",
       "      <td>5</td>\n",
       "      <td>3.29</td>\n",
       "      <td>0</td>\n",
       "      <td>False</td>\n",
       "    </tr>\n",
       "    <tr>\n",
       "      <td>3</td>\n",
       "      <td>OH</td>\n",
       "      <td>84</td>\n",
       "      <td>408</td>\n",
       "      <td>375-9999</td>\n",
       "      <td>yes</td>\n",
       "      <td>no</td>\n",
       "      <td>0</td>\n",
       "      <td>299.4</td>\n",
       "      <td>71</td>\n",
       "      <td>50.90</td>\n",
       "      <td>...</td>\n",
       "      <td>88</td>\n",
       "      <td>5.26</td>\n",
       "      <td>196.9</td>\n",
       "      <td>89</td>\n",
       "      <td>8.86</td>\n",
       "      <td>6.6</td>\n",
       "      <td>7</td>\n",
       "      <td>1.78</td>\n",
       "      <td>2</td>\n",
       "      <td>False</td>\n",
       "    </tr>\n",
       "    <tr>\n",
       "      <td>4</td>\n",
       "      <td>OK</td>\n",
       "      <td>75</td>\n",
       "      <td>415</td>\n",
       "      <td>330-6626</td>\n",
       "      <td>yes</td>\n",
       "      <td>no</td>\n",
       "      <td>0</td>\n",
       "      <td>166.7</td>\n",
       "      <td>113</td>\n",
       "      <td>28.34</td>\n",
       "      <td>...</td>\n",
       "      <td>122</td>\n",
       "      <td>12.61</td>\n",
       "      <td>186.9</td>\n",
       "      <td>121</td>\n",
       "      <td>8.41</td>\n",
       "      <td>10.1</td>\n",
       "      <td>3</td>\n",
       "      <td>2.73</td>\n",
       "      <td>3</td>\n",
       "      <td>False</td>\n",
       "    </tr>\n",
       "  </tbody>\n",
       "</table>\n",
       "<p>5 rows × 21 columns</p>\n",
       "</div>"
      ],
      "text/plain": [
       "  state  account length  area code phone number international plan  \\\n",
       "0    KS             128        415     382-4657                 no   \n",
       "1    OH             107        415     371-7191                 no   \n",
       "2    NJ             137        415     358-1921                 no   \n",
       "3    OH              84        408     375-9999                yes   \n",
       "4    OK              75        415     330-6626                yes   \n",
       "\n",
       "  voice mail plan  number vmail messages  total day minutes  total day calls  \\\n",
       "0             yes                     25              265.1              110   \n",
       "1             yes                     26              161.6              123   \n",
       "2              no                      0              243.4              114   \n",
       "3              no                      0              299.4               71   \n",
       "4              no                      0              166.7              113   \n",
       "\n",
       "   total day charge  ...  total eve calls  total eve charge  \\\n",
       "0             45.07  ...               99             16.78   \n",
       "1             27.47  ...              103             16.62   \n",
       "2             41.38  ...              110             10.30   \n",
       "3             50.90  ...               88              5.26   \n",
       "4             28.34  ...              122             12.61   \n",
       "\n",
       "   total night minutes  total night calls  total night charge  \\\n",
       "0                244.7                 91               11.01   \n",
       "1                254.4                103               11.45   \n",
       "2                162.6                104                7.32   \n",
       "3                196.9                 89                8.86   \n",
       "4                186.9                121                8.41   \n",
       "\n",
       "   total intl minutes  total intl calls  total intl charge  \\\n",
       "0                10.0                 3               2.70   \n",
       "1                13.7                 3               3.70   \n",
       "2                12.2                 5               3.29   \n",
       "3                 6.6                 7               1.78   \n",
       "4                10.1                 3               2.73   \n",
       "\n",
       "   customer service calls  churn  \n",
       "0                       1  False  \n",
       "1                       1  False  \n",
       "2                       0  False  \n",
       "3                       2  False  \n",
       "4                       3  False  \n",
       "\n",
       "[5 rows x 21 columns]"
      ]
     },
     "execution_count": 1,
     "metadata": {},
     "output_type": "execute_result"
    }
   ],
   "source": [
    "### Import necessary libraries & packages ###\n",
    "\n",
    "import numpy as np\n",
    "import pandas as pd\n",
    "import seaborn as sns\n",
    "import matplotlib.pyplot as plt\n",
    "%matplotlib inline  \n",
    "\n",
    "from sklearn.model_selection import train_test_split, cross_val_score, GridSearchCV\n",
    "\n",
    "from sklearn.linear_model import LogisticRegression\n",
    "from sklearn.tree import DecisionTreeClassifier\n",
    "from sklearn.ensemble import BaggingClassifier, RandomForestClassifier\n",
    "from sklearn.neighbors import KNeighborsClassifier\n",
    "from sklearn.svm import LinearSVC\n",
    "import xgboost as xgb\n",
    "\n",
    "from sklearn.pipeline import Pipeline\n",
    "from sklearn.preprocessing import MinMaxScaler, StandardScaler\n",
    "from imblearn.over_sampling import SMOTE\n",
    "\n",
    "from sklearn.metrics import roc_curve, roc_auc_score, accuracy_score, recall_score, confusion_matrix, classification_report\n",
    "\n",
    "import warnings\n",
    "warnings.filterwarnings(\"ignore\")\n",
    "\n",
    "### Import Data ###\n",
    "data = pd.read_csv('telecom_churn_data.csv')\n",
    "df = pd.DataFrame(data)\n",
    "df.head()"
   ]
  },
  {
   "cell_type": "markdown",
   "metadata": {},
   "source": [
    "## EDA & Cleaning\n",
    "\n",
    "Let's take a look at what we're working with."
   ]
  },
  {
   "cell_type": "code",
   "execution_count": 2,
   "metadata": {},
   "outputs": [
    {
     "name": "stdout",
     "output_type": "stream",
     "text": [
      "<class 'pandas.core.frame.DataFrame'>\n",
      "RangeIndex: 3333 entries, 0 to 3332\n",
      "Data columns (total 21 columns):\n",
      "state                     3333 non-null object\n",
      "account length            3333 non-null int64\n",
      "area code                 3333 non-null int64\n",
      "phone number              3333 non-null object\n",
      "international plan        3333 non-null object\n",
      "voice mail plan           3333 non-null object\n",
      "number vmail messages     3333 non-null int64\n",
      "total day minutes         3333 non-null float64\n",
      "total day calls           3333 non-null int64\n",
      "total day charge          3333 non-null float64\n",
      "total eve minutes         3333 non-null float64\n",
      "total eve calls           3333 non-null int64\n",
      "total eve charge          3333 non-null float64\n",
      "total night minutes       3333 non-null float64\n",
      "total night calls         3333 non-null int64\n",
      "total night charge        3333 non-null float64\n",
      "total intl minutes        3333 non-null float64\n",
      "total intl calls          3333 non-null int64\n",
      "total intl charge         3333 non-null float64\n",
      "customer service calls    3333 non-null int64\n",
      "churn                     3333 non-null bool\n",
      "dtypes: bool(1), float64(8), int64(8), object(4)\n",
      "memory usage: 524.2+ KB\n"
     ]
    }
   ],
   "source": [
    "df.info()"
   ]
  },
  {
   "cell_type": "markdown",
   "metadata": {},
   "source": [
    "Let's keep area code and drop phone number. We can one-hot encode area code, however the phone numbers are high cardinality data and for our purposes they give a lot more detail (and require a lot more bandwidth) than we would like to work with.\n",
    "\n",
    "Those are the only objects other than state. We'll one-hot encode state also.\n",
    "\n",
    "Our target is churn, which is in boolean format.\n",
    "\n",
    "Looks great. Next we'll explore and clean the data if need be. \n",
    "\n"
   ]
  },
  {
   "cell_type": "code",
   "execution_count": 3,
   "metadata": {},
   "outputs": [
    {
     "data": {
      "text/plain": [
       "False"
      ]
     },
     "execution_count": 3,
     "metadata": {},
     "output_type": "execute_result"
    }
   ],
   "source": [
    "df.isnull().values.any()"
   ]
  },
  {
   "cell_type": "markdown",
   "metadata": {},
   "source": [
    "Great! Looks like there aren't any null values."
   ]
  },
  {
   "cell_type": "markdown",
   "metadata": {},
   "source": [
    "Let's go ahead and drop the rows we aren't going to be using for this analysis."
   ]
  },
  {
   "cell_type": "code",
   "execution_count": 4,
   "metadata": {},
   "outputs": [],
   "source": [
    "# Feature to drop\n",
    "drop = ['phone number']\n",
    "\n",
    "# Drop feature\n",
    "df = df.drop(drop,axis=1)"
   ]
  },
  {
   "cell_type": "markdown",
   "metadata": {},
   "source": [
    "### Summary Statistics"
   ]
  },
  {
   "cell_type": "code",
   "execution_count": 5,
   "metadata": {},
   "outputs": [
    {
     "data": {
      "text/html": [
       "<div>\n",
       "<style scoped>\n",
       "    .dataframe tbody tr th:only-of-type {\n",
       "        vertical-align: middle;\n",
       "    }\n",
       "\n",
       "    .dataframe tbody tr th {\n",
       "        vertical-align: top;\n",
       "    }\n",
       "\n",
       "    .dataframe thead th {\n",
       "        text-align: right;\n",
       "    }\n",
       "</style>\n",
       "<table border=\"1\" class=\"dataframe\">\n",
       "  <thead>\n",
       "    <tr style=\"text-align: right;\">\n",
       "      <th></th>\n",
       "      <th>account length</th>\n",
       "      <th>area code</th>\n",
       "      <th>number vmail messages</th>\n",
       "      <th>total day minutes</th>\n",
       "      <th>total day calls</th>\n",
       "      <th>total day charge</th>\n",
       "      <th>total eve minutes</th>\n",
       "      <th>total eve calls</th>\n",
       "      <th>total eve charge</th>\n",
       "      <th>total night minutes</th>\n",
       "      <th>total night calls</th>\n",
       "      <th>total night charge</th>\n",
       "      <th>total intl minutes</th>\n",
       "      <th>total intl calls</th>\n",
       "      <th>total intl charge</th>\n",
       "      <th>customer service calls</th>\n",
       "    </tr>\n",
       "  </thead>\n",
       "  <tbody>\n",
       "    <tr>\n",
       "      <td>count</td>\n",
       "      <td>3333.0</td>\n",
       "      <td>3333.0</td>\n",
       "      <td>3333.0</td>\n",
       "      <td>3333.0</td>\n",
       "      <td>3333.0</td>\n",
       "      <td>3333.0</td>\n",
       "      <td>3333.0</td>\n",
       "      <td>3333.0</td>\n",
       "      <td>3333.0</td>\n",
       "      <td>3333.0</td>\n",
       "      <td>3333.0</td>\n",
       "      <td>3333.0</td>\n",
       "      <td>3333.0</td>\n",
       "      <td>3333.0</td>\n",
       "      <td>3333.0</td>\n",
       "      <td>3333.0</td>\n",
       "    </tr>\n",
       "    <tr>\n",
       "      <td>mean</td>\n",
       "      <td>101.0</td>\n",
       "      <td>437.0</td>\n",
       "      <td>8.0</td>\n",
       "      <td>180.0</td>\n",
       "      <td>100.0</td>\n",
       "      <td>31.0</td>\n",
       "      <td>201.0</td>\n",
       "      <td>100.0</td>\n",
       "      <td>17.0</td>\n",
       "      <td>201.0</td>\n",
       "      <td>100.0</td>\n",
       "      <td>9.0</td>\n",
       "      <td>10.0</td>\n",
       "      <td>4.0</td>\n",
       "      <td>3.0</td>\n",
       "      <td>2.0</td>\n",
       "    </tr>\n",
       "    <tr>\n",
       "      <td>std</td>\n",
       "      <td>40.0</td>\n",
       "      <td>42.0</td>\n",
       "      <td>14.0</td>\n",
       "      <td>54.0</td>\n",
       "      <td>20.0</td>\n",
       "      <td>9.0</td>\n",
       "      <td>51.0</td>\n",
       "      <td>20.0</td>\n",
       "      <td>4.0</td>\n",
       "      <td>51.0</td>\n",
       "      <td>20.0</td>\n",
       "      <td>2.0</td>\n",
       "      <td>3.0</td>\n",
       "      <td>2.0</td>\n",
       "      <td>1.0</td>\n",
       "      <td>1.0</td>\n",
       "    </tr>\n",
       "    <tr>\n",
       "      <td>min</td>\n",
       "      <td>1.0</td>\n",
       "      <td>408.0</td>\n",
       "      <td>0.0</td>\n",
       "      <td>0.0</td>\n",
       "      <td>0.0</td>\n",
       "      <td>0.0</td>\n",
       "      <td>0.0</td>\n",
       "      <td>0.0</td>\n",
       "      <td>0.0</td>\n",
       "      <td>23.0</td>\n",
       "      <td>33.0</td>\n",
       "      <td>1.0</td>\n",
       "      <td>0.0</td>\n",
       "      <td>0.0</td>\n",
       "      <td>0.0</td>\n",
       "      <td>0.0</td>\n",
       "    </tr>\n",
       "    <tr>\n",
       "      <td>25%</td>\n",
       "      <td>74.0</td>\n",
       "      <td>408.0</td>\n",
       "      <td>0.0</td>\n",
       "      <td>144.0</td>\n",
       "      <td>87.0</td>\n",
       "      <td>24.0</td>\n",
       "      <td>167.0</td>\n",
       "      <td>87.0</td>\n",
       "      <td>14.0</td>\n",
       "      <td>167.0</td>\n",
       "      <td>87.0</td>\n",
       "      <td>8.0</td>\n",
       "      <td>8.0</td>\n",
       "      <td>3.0</td>\n",
       "      <td>2.0</td>\n",
       "      <td>1.0</td>\n",
       "    </tr>\n",
       "    <tr>\n",
       "      <td>50%</td>\n",
       "      <td>101.0</td>\n",
       "      <td>415.0</td>\n",
       "      <td>0.0</td>\n",
       "      <td>179.0</td>\n",
       "      <td>101.0</td>\n",
       "      <td>30.0</td>\n",
       "      <td>201.0</td>\n",
       "      <td>100.0</td>\n",
       "      <td>17.0</td>\n",
       "      <td>201.0</td>\n",
       "      <td>100.0</td>\n",
       "      <td>9.0</td>\n",
       "      <td>10.0</td>\n",
       "      <td>4.0</td>\n",
       "      <td>3.0</td>\n",
       "      <td>1.0</td>\n",
       "    </tr>\n",
       "    <tr>\n",
       "      <td>75%</td>\n",
       "      <td>127.0</td>\n",
       "      <td>510.0</td>\n",
       "      <td>20.0</td>\n",
       "      <td>216.0</td>\n",
       "      <td>114.0</td>\n",
       "      <td>37.0</td>\n",
       "      <td>235.0</td>\n",
       "      <td>114.0</td>\n",
       "      <td>20.0</td>\n",
       "      <td>235.0</td>\n",
       "      <td>113.0</td>\n",
       "      <td>11.0</td>\n",
       "      <td>12.0</td>\n",
       "      <td>6.0</td>\n",
       "      <td>3.0</td>\n",
       "      <td>2.0</td>\n",
       "    </tr>\n",
       "    <tr>\n",
       "      <td>max</td>\n",
       "      <td>243.0</td>\n",
       "      <td>510.0</td>\n",
       "      <td>51.0</td>\n",
       "      <td>351.0</td>\n",
       "      <td>165.0</td>\n",
       "      <td>60.0</td>\n",
       "      <td>364.0</td>\n",
       "      <td>170.0</td>\n",
       "      <td>31.0</td>\n",
       "      <td>395.0</td>\n",
       "      <td>175.0</td>\n",
       "      <td>18.0</td>\n",
       "      <td>20.0</td>\n",
       "      <td>20.0</td>\n",
       "      <td>5.0</td>\n",
       "      <td>9.0</td>\n",
       "    </tr>\n",
       "  </tbody>\n",
       "</table>\n",
       "</div>"
      ],
      "text/plain": [
       "       account length  area code  number vmail messages  total day minutes  \\\n",
       "count          3333.0     3333.0                 3333.0             3333.0   \n",
       "mean            101.0      437.0                    8.0              180.0   \n",
       "std              40.0       42.0                   14.0               54.0   \n",
       "min               1.0      408.0                    0.0                0.0   \n",
       "25%              74.0      408.0                    0.0              144.0   \n",
       "50%             101.0      415.0                    0.0              179.0   \n",
       "75%             127.0      510.0                   20.0              216.0   \n",
       "max             243.0      510.0                   51.0              351.0   \n",
       "\n",
       "       total day calls  total day charge  total eve minutes  total eve calls  \\\n",
       "count           3333.0            3333.0             3333.0           3333.0   \n",
       "mean             100.0              31.0              201.0            100.0   \n",
       "std               20.0               9.0               51.0             20.0   \n",
       "min                0.0               0.0                0.0              0.0   \n",
       "25%               87.0              24.0              167.0             87.0   \n",
       "50%              101.0              30.0              201.0            100.0   \n",
       "75%              114.0              37.0              235.0            114.0   \n",
       "max              165.0              60.0              364.0            170.0   \n",
       "\n",
       "       total eve charge  total night minutes  total night calls  \\\n",
       "count            3333.0               3333.0             3333.0   \n",
       "mean               17.0                201.0              100.0   \n",
       "std                 4.0                 51.0               20.0   \n",
       "min                 0.0                 23.0               33.0   \n",
       "25%                14.0                167.0               87.0   \n",
       "50%                17.0                201.0              100.0   \n",
       "75%                20.0                235.0              113.0   \n",
       "max                31.0                395.0              175.0   \n",
       "\n",
       "       total night charge  total intl minutes  total intl calls  \\\n",
       "count              3333.0              3333.0            3333.0   \n",
       "mean                  9.0                10.0               4.0   \n",
       "std                   2.0                 3.0               2.0   \n",
       "min                   1.0                 0.0               0.0   \n",
       "25%                   8.0                 8.0               3.0   \n",
       "50%                   9.0                10.0               4.0   \n",
       "75%                  11.0                12.0               6.0   \n",
       "max                  18.0                20.0              20.0   \n",
       "\n",
       "       total intl charge  customer service calls  \n",
       "count             3333.0                  3333.0  \n",
       "mean                 3.0                     2.0  \n",
       "std                  1.0                     1.0  \n",
       "min                  0.0                     0.0  \n",
       "25%                  2.0                     1.0  \n",
       "50%                  3.0                     1.0  \n",
       "75%                  3.0                     2.0  \n",
       "max                  5.0                     9.0  "
      ]
     },
     "execution_count": 5,
     "metadata": {},
     "output_type": "execute_result"
    }
   ],
   "source": [
    "# Summary Statistics\n",
    "df.describe().round()"
   ]
  },
  {
   "cell_type": "markdown",
   "metadata": {},
   "source": [
    "I'm curious to see if there's any relationship between customer service calls, charges, and churn. \n",
    "\n",
    "We'll be able to explore how each feature relates to churn when we do feature ranking. For now I want to see if there's a relationship between charges and customer service calls. "
   ]
  },
  {
   "cell_type": "markdown",
   "metadata": {},
   "source": [
    "#### Charges vs. Customer Service Calls"
   ]
  },
  {
   "cell_type": "code",
   "execution_count": 6,
   "metadata": {},
   "outputs": [
    {
     "data": {
      "image/png": "[encoded data removed]",
      "text/plain": [
       "<Figure size 432x288 with 1 Axes>"
      ]
     },
     "metadata": {
      "needs_background": "light"
     },
     "output_type": "display_data"
    }
   ],
   "source": [
    "# Create new feature 'total charges' \n",
    "df['total charges'] = df['total day charge'] + df['total eve charge'] + df['total intl charge']\n",
    "\n",
    "# Plot\n",
    "sns.regplot(df['customer service calls'], df['total charges']);"
   ]
  },
  {
   "cell_type": "markdown",
   "metadata": {},
   "source": [
    "It doesn't look like there's any direct relationship between charges and customer service calls. "
   ]
  },
  {
   "cell_type": "markdown",
   "metadata": {},
   "source": [
    "### Normality Check"
   ]
  },
  {
   "cell_type": "code",
   "execution_count": 7,
   "metadata": {},
   "outputs": [
    {
     "data": {
      "image/png": "[encoded data removed]",
      "text/plain": [
       "<Figure size 1440x1152 with 16 Axes>"
      ]
     },
     "metadata": {
      "needs_background": "light"
     },
     "output_type": "display_data"
    }
   ],
   "source": [
    "# Define which features are intergers/floats for histograms\n",
    "hist_cols = ['account length',\n",
    "             'area code',\n",
    "             'number vmail messages',\n",
    "             'total day minutes',\n",
    "             'total day calls',\n",
    "             'total day charge',\n",
    "             'total eve minutes',\n",
    "             'total eve calls',\n",
    "             'total eve charge',\n",
    "             'total night minutes',\n",
    "             'total night calls',\n",
    "             'total night charge',\n",
    "             'total intl minutes',\n",
    "             'total intl calls',\n",
    "             'total intl charge',\n",
    "             'customer service calls']\n",
    "\n",
    "# Define figure size & axis\n",
    "fig,ax = plt.subplots(figsize = (20,16))\n",
    "\n",
    "# Plot histograms\n",
    "df.hist(column=hist_cols,ax=ax);"
   ]
  },
  {
   "cell_type": "markdown",
   "metadata": {},
   "source": [
    "Some of these features are skewed, e.g. customer service calls, international calls and international charges. \n",
    "\n",
    "We can see some of these appear to be directly correlated, which makes sense such as calls, charges and minutes. E.g. total day calls, charges, and minutes, international calls, charges and minutes, and night calls, charges and minutes. \n",
    "\n",
    "Since ensemble methods work best when predictors are as independent as possible, we will probably just keep one of each of the three when creating our ensemble.\n",
    "\n",
    "Number of voicemail messages appears to be bimodal. We could bin them, but we'll see how the classifier goes and do so if necessary. "
   ]
  },
  {
   "cell_type": "markdown",
   "metadata": {},
   "source": [
    "### Correlation Matrix\n",
    "\n",
    "We want to see which features are correlated so we can remove redundant predictors."
   ]
  },
  {
   "cell_type": "code",
   "execution_count": 8,
   "metadata": {},
   "outputs": [
    {
     "data": {
      "text/html": [
       "<div>\n",
       "<style scoped>\n",
       "    .dataframe tbody tr th:only-of-type {\n",
       "        vertical-align: middle;\n",
       "    }\n",
       "\n",
       "    .dataframe tbody tr th {\n",
       "        vertical-align: top;\n",
       "    }\n",
       "\n",
       "    .dataframe thead th {\n",
       "        text-align: right;\n",
       "    }\n",
       "</style>\n",
       "<table border=\"1\" class=\"dataframe\">\n",
       "  <thead>\n",
       "    <tr style=\"text-align: right;\">\n",
       "      <th></th>\n",
       "      <th>account length</th>\n",
       "      <th>area code</th>\n",
       "      <th>number vmail messages</th>\n",
       "      <th>total day minutes</th>\n",
       "      <th>total day calls</th>\n",
       "      <th>total day charge</th>\n",
       "      <th>total eve minutes</th>\n",
       "      <th>total eve calls</th>\n",
       "      <th>total eve charge</th>\n",
       "      <th>total night minutes</th>\n",
       "      <th>total night calls</th>\n",
       "      <th>total night charge</th>\n",
       "      <th>total intl minutes</th>\n",
       "      <th>total intl calls</th>\n",
       "      <th>total intl charge</th>\n",
       "      <th>customer service calls</th>\n",
       "      <th>churn</th>\n",
       "      <th>total charges</th>\n",
       "    </tr>\n",
       "  </thead>\n",
       "  <tbody>\n",
       "    <tr>\n",
       "      <td>account length</td>\n",
       "      <td>True</td>\n",
       "      <td>False</td>\n",
       "      <td>False</td>\n",
       "      <td>False</td>\n",
       "      <td>False</td>\n",
       "      <td>False</td>\n",
       "      <td>False</td>\n",
       "      <td>False</td>\n",
       "      <td>False</td>\n",
       "      <td>False</td>\n",
       "      <td>False</td>\n",
       "      <td>False</td>\n",
       "      <td>False</td>\n",
       "      <td>False</td>\n",
       "      <td>False</td>\n",
       "      <td>False</td>\n",
       "      <td>False</td>\n",
       "      <td>False</td>\n",
       "    </tr>\n",
       "    <tr>\n",
       "      <td>area code</td>\n",
       "      <td>False</td>\n",
       "      <td>True</td>\n",
       "      <td>False</td>\n",
       "      <td>False</td>\n",
       "      <td>False</td>\n",
       "      <td>False</td>\n",
       "      <td>False</td>\n",
       "      <td>False</td>\n",
       "      <td>False</td>\n",
       "      <td>False</td>\n",
       "      <td>False</td>\n",
       "      <td>False</td>\n",
       "      <td>False</td>\n",
       "      <td>False</td>\n",
       "      <td>False</td>\n",
       "      <td>False</td>\n",
       "      <td>False</td>\n",
       "      <td>False</td>\n",
       "    </tr>\n",
       "    <tr>\n",
       "      <td>number vmail messages</td>\n",
       "      <td>False</td>\n",
       "      <td>False</td>\n",
       "      <td>True</td>\n",
       "      <td>False</td>\n",
       "      <td>False</td>\n",
       "      <td>False</td>\n",
       "      <td>False</td>\n",
       "      <td>False</td>\n",
       "      <td>False</td>\n",
       "      <td>False</td>\n",
       "      <td>False</td>\n",
       "      <td>False</td>\n",
       "      <td>False</td>\n",
       "      <td>False</td>\n",
       "      <td>False</td>\n",
       "      <td>False</td>\n",
       "      <td>False</td>\n",
       "      <td>False</td>\n",
       "    </tr>\n",
       "    <tr>\n",
       "      <td>total day minutes</td>\n",
       "      <td>False</td>\n",
       "      <td>False</td>\n",
       "      <td>False</td>\n",
       "      <td>True</td>\n",
       "      <td>False</td>\n",
       "      <td>True</td>\n",
       "      <td>False</td>\n",
       "      <td>False</td>\n",
       "      <td>False</td>\n",
       "      <td>False</td>\n",
       "      <td>False</td>\n",
       "      <td>False</td>\n",
       "      <td>False</td>\n",
       "      <td>False</td>\n",
       "      <td>False</td>\n",
       "      <td>False</td>\n",
       "      <td>False</td>\n",
       "      <td>True</td>\n",
       "    </tr>\n",
       "    <tr>\n",
       "      <td>total day calls</td>\n",
       "      <td>False</td>\n",
       "      <td>False</td>\n",
       "      <td>False</td>\n",
       "      <td>False</td>\n",
       "      <td>True</td>\n",
       "      <td>False</td>\n",
       "      <td>False</td>\n",
       "      <td>False</td>\n",
       "      <td>False</td>\n",
       "      <td>False</td>\n",
       "      <td>False</td>\n",
       "      <td>False</td>\n",
       "      <td>False</td>\n",
       "      <td>False</td>\n",
       "      <td>False</td>\n",
       "      <td>False</td>\n",
       "      <td>False</td>\n",
       "      <td>False</td>\n",
       "    </tr>\n",
       "    <tr>\n",
       "      <td>total day charge</td>\n",
       "      <td>False</td>\n",
       "      <td>False</td>\n",
       "      <td>False</td>\n",
       "      <td>True</td>\n",
       "      <td>False</td>\n",
       "      <td>True</td>\n",
       "      <td>False</td>\n",
       "      <td>False</td>\n",
       "      <td>False</td>\n",
       "      <td>False</td>\n",
       "      <td>False</td>\n",
       "      <td>False</td>\n",
       "      <td>False</td>\n",
       "      <td>False</td>\n",
       "      <td>False</td>\n",
       "      <td>False</td>\n",
       "      <td>False</td>\n",
       "      <td>True</td>\n",
       "    </tr>\n",
       "    <tr>\n",
       "      <td>total eve minutes</td>\n",
       "      <td>False</td>\n",
       "      <td>False</td>\n",
       "      <td>False</td>\n",
       "      <td>False</td>\n",
       "      <td>False</td>\n",
       "      <td>False</td>\n",
       "      <td>True</td>\n",
       "      <td>False</td>\n",
       "      <td>True</td>\n",
       "      <td>False</td>\n",
       "      <td>False</td>\n",
       "      <td>False</td>\n",
       "      <td>False</td>\n",
       "      <td>False</td>\n",
       "      <td>False</td>\n",
       "      <td>False</td>\n",
       "      <td>False</td>\n",
       "      <td>False</td>\n",
       "    </tr>\n",
       "    <tr>\n",
       "      <td>total eve calls</td>\n",
       "      <td>False</td>\n",
       "      <td>False</td>\n",
       "      <td>False</td>\n",
       "      <td>False</td>\n",
       "      <td>False</td>\n",
       "      <td>False</td>\n",
       "      <td>False</td>\n",
       "      <td>True</td>\n",
       "      <td>False</td>\n",
       "      <td>False</td>\n",
       "      <td>False</td>\n",
       "      <td>False</td>\n",
       "      <td>False</td>\n",
       "      <td>False</td>\n",
       "      <td>False</td>\n",
       "      <td>False</td>\n",
       "      <td>False</td>\n",
       "      <td>False</td>\n",
       "    </tr>\n",
       "    <tr>\n",
       "      <td>total eve charge</td>\n",
       "      <td>False</td>\n",
       "      <td>False</td>\n",
       "      <td>False</td>\n",
       "      <td>False</td>\n",
       "      <td>False</td>\n",
       "      <td>False</td>\n",
       "      <td>True</td>\n",
       "      <td>False</td>\n",
       "      <td>True</td>\n",
       "      <td>False</td>\n",
       "      <td>False</td>\n",
       "      <td>False</td>\n",
       "      <td>False</td>\n",
       "      <td>False</td>\n",
       "      <td>False</td>\n",
       "      <td>False</td>\n",
       "      <td>False</td>\n",
       "      <td>False</td>\n",
       "    </tr>\n",
       "    <tr>\n",
       "      <td>total night minutes</td>\n",
       "      <td>False</td>\n",
       "      <td>False</td>\n",
       "      <td>False</td>\n",
       "      <td>False</td>\n",
       "      <td>False</td>\n",
       "      <td>False</td>\n",
       "      <td>False</td>\n",
       "      <td>False</td>\n",
       "      <td>False</td>\n",
       "      <td>True</td>\n",
       "      <td>False</td>\n",
       "      <td>True</td>\n",
       "      <td>False</td>\n",
       "      <td>False</td>\n",
       "      <td>False</td>\n",
       "      <td>False</td>\n",
       "      <td>False</td>\n",
       "      <td>False</td>\n",
       "    </tr>\n",
       "    <tr>\n",
       "      <td>total night calls</td>\n",
       "      <td>False</td>\n",
       "      <td>False</td>\n",
       "      <td>False</td>\n",
       "      <td>False</td>\n",
       "      <td>False</td>\n",
       "      <td>False</td>\n",
       "      <td>False</td>\n",
       "      <td>False</td>\n",
       "      <td>False</td>\n",
       "      <td>False</td>\n",
       "      <td>True</td>\n",
       "      <td>False</td>\n",
       "      <td>False</td>\n",
       "      <td>False</td>\n",
       "      <td>False</td>\n",
       "      <td>False</td>\n",
       "      <td>False</td>\n",
       "      <td>False</td>\n",
       "    </tr>\n",
       "    <tr>\n",
       "      <td>total night charge</td>\n",
       "      <td>False</td>\n",
       "      <td>False</td>\n",
       "      <td>False</td>\n",
       "      <td>False</td>\n",
       "      <td>False</td>\n",
       "      <td>False</td>\n",
       "      <td>False</td>\n",
       "      <td>False</td>\n",
       "      <td>False</td>\n",
       "      <td>True</td>\n",
       "      <td>False</td>\n",
       "      <td>True</td>\n",
       "      <td>False</td>\n",
       "      <td>False</td>\n",
       "      <td>False</td>\n",
       "      <td>False</td>\n",
       "      <td>False</td>\n",
       "      <td>False</td>\n",
       "    </tr>\n",
       "    <tr>\n",
       "      <td>total intl minutes</td>\n",
       "      <td>False</td>\n",
       "      <td>False</td>\n",
       "      <td>False</td>\n",
       "      <td>False</td>\n",
       "      <td>False</td>\n",
       "      <td>False</td>\n",
       "      <td>False</td>\n",
       "      <td>False</td>\n",
       "      <td>False</td>\n",
       "      <td>False</td>\n",
       "      <td>False</td>\n",
       "      <td>False</td>\n",
       "      <td>True</td>\n",
       "      <td>False</td>\n",
       "      <td>True</td>\n",
       "      <td>False</td>\n",
       "      <td>False</td>\n",
       "      <td>False</td>\n",
       "    </tr>\n",
       "    <tr>\n",
       "      <td>total intl calls</td>\n",
       "      <td>False</td>\n",
       "      <td>False</td>\n",
       "      <td>False</td>\n",
       "      <td>False</td>\n",
       "      <td>False</td>\n",
       "      <td>False</td>\n",
       "      <td>False</td>\n",
       "      <td>False</td>\n",
       "      <td>False</td>\n",
       "      <td>False</td>\n",
       "      <td>False</td>\n",
       "      <td>False</td>\n",
       "      <td>False</td>\n",
       "      <td>True</td>\n",
       "      <td>False</td>\n",
       "      <td>False</td>\n",
       "      <td>False</td>\n",
       "      <td>False</td>\n",
       "    </tr>\n",
       "    <tr>\n",
       "      <td>total intl charge</td>\n",
       "      <td>False</td>\n",
       "      <td>False</td>\n",
       "      <td>False</td>\n",
       "      <td>False</td>\n",
       "      <td>False</td>\n",
       "      <td>False</td>\n",
       "      <td>False</td>\n",
       "      <td>False</td>\n",
       "      <td>False</td>\n",
       "      <td>False</td>\n",
       "      <td>False</td>\n",
       "      <td>False</td>\n",
       "      <td>True</td>\n",
       "      <td>False</td>\n",
       "      <td>True</td>\n",
       "      <td>False</td>\n",
       "      <td>False</td>\n",
       "      <td>False</td>\n",
       "    </tr>\n",
       "    <tr>\n",
       "      <td>customer service calls</td>\n",
       "      <td>False</td>\n",
       "      <td>False</td>\n",
       "      <td>False</td>\n",
       "      <td>False</td>\n",
       "      <td>False</td>\n",
       "      <td>False</td>\n",
       "      <td>False</td>\n",
       "      <td>False</td>\n",
       "      <td>False</td>\n",
       "      <td>False</td>\n",
       "      <td>False</td>\n",
       "      <td>False</td>\n",
       "      <td>False</td>\n",
       "      <td>False</td>\n",
       "      <td>False</td>\n",
       "      <td>True</td>\n",
       "      <td>False</td>\n",
       "      <td>False</td>\n",
       "    </tr>\n",
       "    <tr>\n",
       "      <td>churn</td>\n",
       "      <td>False</td>\n",
       "      <td>False</td>\n",
       "      <td>False</td>\n",
       "      <td>False</td>\n",
       "      <td>False</td>\n",
       "      <td>False</td>\n",
       "      <td>False</td>\n",
       "      <td>False</td>\n",
       "      <td>False</td>\n",
       "      <td>False</td>\n",
       "      <td>False</td>\n",
       "      <td>False</td>\n",
       "      <td>False</td>\n",
       "      <td>False</td>\n",
       "      <td>False</td>\n",
       "      <td>False</td>\n",
       "      <td>True</td>\n",
       "      <td>False</td>\n",
       "    </tr>\n",
       "    <tr>\n",
       "      <td>total charges</td>\n",
       "      <td>False</td>\n",
       "      <td>False</td>\n",
       "      <td>False</td>\n",
       "      <td>True</td>\n",
       "      <td>False</td>\n",
       "      <td>True</td>\n",
       "      <td>False</td>\n",
       "      <td>False</td>\n",
       "      <td>False</td>\n",
       "      <td>False</td>\n",
       "      <td>False</td>\n",
       "      <td>False</td>\n",
       "      <td>False</td>\n",
       "      <td>False</td>\n",
       "      <td>False</td>\n",
       "      <td>False</td>\n",
       "      <td>False</td>\n",
       "      <td>True</td>\n",
       "    </tr>\n",
       "  </tbody>\n",
       "</table>\n",
       "</div>"
      ],
      "text/plain": [
       "                        account length  area code  number vmail messages  \\\n",
       "account length                    True      False                  False   \n",
       "area code                        False       True                  False   \n",
       "number vmail messages            False      False                   True   \n",
       "total day minutes                False      False                  False   \n",
       "total day calls                  False      False                  False   \n",
       "total day charge                 False      False                  False   \n",
       "total eve minutes                False      False                  False   \n",
       "total eve calls                  False      False                  False   \n",
       "total eve charge                 False      False                  False   \n",
       "total night minutes              False      False                  False   \n",
       "total night calls                False      False                  False   \n",
       "total night charge               False      False                  False   \n",
       "total intl minutes               False      False                  False   \n",
       "total intl calls                 False      False                  False   \n",
       "total intl charge                False      False                  False   \n",
       "customer service calls           False      False                  False   \n",
       "churn                            False      False                  False   \n",
       "total charges                    False      False                  False   \n",
       "\n",
       "                        total day minutes  total day calls  total day charge  \\\n",
       "account length                      False            False             False   \n",
       "area code                           False            False             False   \n",
       "number vmail messages               False            False             False   \n",
       "total day minutes                    True            False              True   \n",
       "total day calls                     False             True             False   \n",
       "total day charge                     True            False              True   \n",
       "total eve minutes                   False            False             False   \n",
       "total eve calls                     False            False             False   \n",
       "total eve charge                    False            False             False   \n",
       "total night minutes                 False            False             False   \n",
       "total night calls                   False            False             False   \n",
       "total night charge                  False            False             False   \n",
       "total intl minutes                  False            False             False   \n",
       "total intl calls                    False            False             False   \n",
       "total intl charge                   False            False             False   \n",
       "customer service calls              False            False             False   \n",
       "churn                               False            False             False   \n",
       "total charges                        True            False              True   \n",
       "\n",
       "                        total eve minutes  total eve calls  total eve charge  \\\n",
       "account length                      False            False             False   \n",
       "area code                           False            False             False   \n",
       "number vmail messages               False            False             False   \n",
       "total day minutes                   False            False             False   \n",
       "total day calls                     False            False             False   \n",
       "total day charge                    False            False             False   \n",
       "total eve minutes                    True            False              True   \n",
       "total eve calls                     False             True             False   \n",
       "total eve charge                     True            False              True   \n",
       "total night minutes                 False            False             False   \n",
       "total night calls                   False            False             False   \n",
       "total night charge                  False            False             False   \n",
       "total intl minutes                  False            False             False   \n",
       "total intl calls                    False            False             False   \n",
       "total intl charge                   False            False             False   \n",
       "customer service calls              False            False             False   \n",
       "churn                               False            False             False   \n",
       "total charges                       False            False             False   \n",
       "\n",
       "                        total night minutes  total night calls  \\\n",
       "account length                        False              False   \n",
       "area code                             False              False   \n",
       "number vmail messages                 False              False   \n",
       "total day minutes                     False              False   \n",
       "total day calls                       False              False   \n",
       "total day charge                      False              False   \n",
       "total eve minutes                     False              False   \n",
       "total eve calls                       False              False   \n",
       "total eve charge                      False              False   \n",
       "total night minutes                    True              False   \n",
       "total night calls                     False               True   \n",
       "total night charge                     True              False   \n",
       "total intl minutes                    False              False   \n",
       "total intl calls                      False              False   \n",
       "total intl charge                     False              False   \n",
       "customer service calls                False              False   \n",
       "churn                                 False              False   \n",
       "total charges                         False              False   \n",
       "\n",
       "                        total night charge  total intl minutes  \\\n",
       "account length                       False               False   \n",
       "area code                            False               False   \n",
       "number vmail messages                False               False   \n",
       "total day minutes                    False               False   \n",
       "total day calls                      False               False   \n",
       "total day charge                     False               False   \n",
       "total eve minutes                    False               False   \n",
       "total eve calls                      False               False   \n",
       "total eve charge                     False               False   \n",
       "total night minutes                   True               False   \n",
       "total night calls                    False               False   \n",
       "total night charge                    True               False   \n",
       "total intl minutes                   False                True   \n",
       "total intl calls                     False               False   \n",
       "total intl charge                    False                True   \n",
       "customer service calls               False               False   \n",
       "churn                                False               False   \n",
       "total charges                        False               False   \n",
       "\n",
       "                        total intl calls  total intl charge  \\\n",
       "account length                     False              False   \n",
       "area code                          False              False   \n",
       "number vmail messages              False              False   \n",
       "total day minutes                  False              False   \n",
       "total day calls                    False              False   \n",
       "total day charge                   False              False   \n",
       "total eve minutes                  False              False   \n",
       "total eve calls                    False              False   \n",
       "total eve charge                   False              False   \n",
       "total night minutes                False              False   \n",
       "total night calls                  False              False   \n",
       "total night charge                 False              False   \n",
       "total intl minutes                 False               True   \n",
       "total intl calls                    True              False   \n",
       "total intl charge                  False               True   \n",
       "customer service calls             False              False   \n",
       "churn                              False              False   \n",
       "total charges                      False              False   \n",
       "\n",
       "                        customer service calls  churn  total charges  \n",
       "account length                           False  False          False  \n",
       "area code                                False  False          False  \n",
       "number vmail messages                    False  False          False  \n",
       "total day minutes                        False  False           True  \n",
       "total day calls                          False  False          False  \n",
       "total day charge                         False  False           True  \n",
       "total eve minutes                        False  False          False  \n",
       "total eve calls                          False  False          False  \n",
       "total eve charge                         False  False          False  \n",
       "total night minutes                      False  False          False  \n",
       "total night calls                        False  False          False  \n",
       "total night charge                       False  False          False  \n",
       "total intl minutes                       False  False          False  \n",
       "total intl calls                         False  False          False  \n",
       "total intl charge                        False  False          False  \n",
       "customer service calls                    True  False          False  \n",
       "churn                                    False   True          False  \n",
       "total charges                            False  False           True  "
      ]
     },
     "execution_count": 8,
     "metadata": {},
     "output_type": "execute_result"
    }
   ],
   "source": [
    "abs(df.corr())>0.75"
   ]
  },
  {
   "cell_type": "markdown",
   "metadata": {},
   "source": [
    "It seems the 'charge' categories are highly correlated with their respective 'minutes' categories, so let's go ahead and drop those.\n",
    "\n",
    "I'll print out the regression plots to make sure.\n",
    "\n",
    "#### Minutes vs. Charges"
   ]
  },
  {
   "cell_type": "code",
   "execution_count": 9,
   "metadata": {
    "scrolled": true
   },
   "outputs": [
    {
     "data": {
      "image/png": "[encoded data removed]",
      "text/plain": [
       "<Figure size 432x288 with 1 Axes>"
      ]
     },
     "metadata": {
      "needs_background": "light"
     },
     "output_type": "display_data"
    },
    {
     "data": {
      "image/png": "[encoded data removed]",
      "text/plain": [
       "<Figure size 432x288 with 1 Axes>"
      ]
     },
     "metadata": {
      "needs_background": "light"
     },
     "output_type": "display_data"
    },
    {
     "data": {
      "image/png": "[encoded data removed]",
      "text/plain": [
       "<Figure size 432x288 with 1 Axes>"
      ]
     },
     "metadata": {
      "needs_background": "light"
     },
     "output_type": "display_data"
    }
   ],
   "source": [
    "# Day\n",
    "sns.regplot(df['total day minutes'], df['total day charge'])\n",
    "plt.title('Day Minutes vs. Charges')\n",
    "plt.show()\n",
    "\n",
    "# Evening\n",
    "sns.regplot(df['total eve minutes'], df['total eve charge'])\n",
    "plt.title('Evening Minutes vs. Charges')\n",
    "plt.show()\n",
    "\n",
    "# International\n",
    "sns.regplot(df['total intl minutes'], df['total intl charge'])\n",
    "plt.title('Day Minutes vs. Charges')\n",
    "plt.show()"
   ]
  },
  {
   "cell_type": "markdown",
   "metadata": {},
   "source": [
    "It's pretty clear how strongly correlated these are, which makes sense. Let's go ahead and remove them. \n",
    "\n",
    "I'm also going to remove the column we added totaling the charges, as that would be correlated as well. "
   ]
  },
  {
   "cell_type": "code",
   "execution_count": 10,
   "metadata": {},
   "outputs": [],
   "source": [
    "# drop = ['total day charge','total eve charge','total intl charge', 'total charges']\n",
    "# df = df.drop(drop, axis=1)"
   ]
  },
  {
   "cell_type": "markdown",
   "metadata": {},
   "source": [
    "Testing w/ keeping charges instead of minutes. I want to see if feature importance ranking changes at all. "
   ]
  },
  {
   "cell_type": "code",
   "execution_count": 11,
   "metadata": {},
   "outputs": [],
   "source": [
    "drop = ['total day minutes','total eve minutes','total intl minutes'] #, 'total charges']\n",
    "df = df.drop(drop, axis=1)"
   ]
  },
  {
   "cell_type": "markdown",
   "metadata": {},
   "source": [
    "Let's take a look at the features that are categorical. "
   ]
  },
  {
   "cell_type": "markdown",
   "metadata": {},
   "source": [
    "### Categorical Features"
   ]
  },
  {
   "cell_type": "markdown",
   "metadata": {},
   "source": [
    "#### States"
   ]
  },
  {
   "cell_type": "code",
   "execution_count": 12,
   "metadata": {},
   "outputs": [
    {
     "data": {
      "text/plain": [
       "count     3333\n",
       "unique      51\n",
       "top         WV\n",
       "freq       106\n",
       "Name: state, dtype: object"
      ]
     },
     "execution_count": 12,
     "metadata": {},
     "output_type": "execute_result"
    }
   ],
   "source": [
    "# Summary Stastics\n",
    "df.state.describe()"
   ]
  },
  {
   "cell_type": "code",
   "execution_count": 13,
   "metadata": {},
   "outputs": [
    {
     "data": {
      "image/png": "[encoded data removed]",
      "text/plain": [
       "<Figure size 432x288 with 1 Axes>"
      ]
     },
     "metadata": {
      "needs_background": "light"
     },
     "output_type": "display_data"
    }
   ],
   "source": [
    "# Distribution Plot of State Value Counts\n",
    "sns.distplot(df.state.value_counts());"
   ]
  },
  {
   "cell_type": "markdown",
   "metadata": {},
   "source": [
    "It looks like all states are represented, some more than others with West Virginia being the max at 106 out of 3333. "
   ]
  },
  {
   "cell_type": "markdown",
   "metadata": {},
   "source": [
    "#### Area Code"
   ]
  },
  {
   "cell_type": "code",
   "execution_count": 14,
   "metadata": {},
   "outputs": [
    {
     "name": "stdout",
     "output_type": "stream",
     "text": [
      "415    1655\n",
      "510     840\n",
      "408     838\n",
      "Name: area code, dtype: int64\n"
     ]
    },
    {
     "data": {
      "image/png": "[encoded data removed]",
      "text/plain": [
       "<Figure size 432x288 with 1 Axes>"
      ]
     },
     "metadata": {
      "needs_background": "light"
     },
     "output_type": "display_data"
    }
   ],
   "source": [
    "# Print area code value counts\n",
    "print(df['area code'].value_counts())\n",
    "\n",
    "# Plot bar plot of area code value counts\n",
    "df['area code'].value_counts().plot(kind='bar', width=.75)\n",
    "plt.title('Customers per Area Code')\n",
    "plt.xlabel('Area Code')\n",
    "plt.ylabel('Counts in Dataset')\n",
    "plt.show()"
   ]
  },
  {
   "cell_type": "markdown",
   "metadata": {},
   "source": [
    "It seems strange that with 51 states represented there are only 3 area codes. I did a little research as well as reading the dataset description and other kernels on kaggle, however this issue did not seem to be addressed anywhere. It could be that people had gotten a cell phone number in one state and then moved to another state. I'm not sure how likely that is, however this does seem like a relatively small data set at 3333, so it could be possible. \n",
    "\n",
    "These area codes are all from Northern California in the San Francisco Bay Area:\n",
    "- 415: Greater San Francisco Bay area, San Francisco City & County, the majority of Marin County and a small portion of San Mateo County\n",
    "- 510: East Bay cities in Northern California including some cities in west Contra Costa and Alameda counties like Hayward and Fremont\n",
    "- 408: City of San Jose, as well as the Cities of Campbell, Cupertino, Gilroy, Los Gatos, Milpitas, Monte Sereno, Morgan Hill, Santa Clara, Saratoga, Sunnyvale, and a portion of Palo Alto\n",
    "\n",
    "Resources: \n",
    "- www.cpuc.ca.gov\n",
    "- www.ringcentral.com"
   ]
  },
  {
   "cell_type": "markdown",
   "metadata": {},
   "source": [
    "#### Account Length"
   ]
  },
  {
   "cell_type": "markdown",
   "metadata": {},
   "source": [
    "I'm curious to see if account length is related to churn."
   ]
  },
  {
   "cell_type": "code",
   "execution_count": 15,
   "metadata": {},
   "outputs": [
    {
     "name": "stdout",
     "output_type": "stream",
     "text": [
      "Summary Statistics for Account Length: \n",
      "\n",
      "count    3333.0\n",
      "mean      101.0\n",
      "std        40.0\n",
      "min         1.0\n",
      "25%        74.0\n",
      "50%       101.0\n",
      "75%       127.0\n",
      "max       243.0\n",
      "Name: account length, dtype: float64\n",
      "\n",
      "\n"
     ]
    },
    {
     "data": {
      "image/png": "[encoded data removed]",
      "text/plain": [
       "<Figure size 432x288 with 1 Axes>"
      ]
     },
     "metadata": {
      "needs_background": "light"
     },
     "output_type": "display_data"
    }
   ],
   "source": [
    "# Print account length summary statistics\n",
    "print(f\"Summary Statistics for Account Length: \\n\")\n",
    "print(df['account length'].describe().round())\n",
    "print(\"\\n\")\n",
    "\n",
    "# Separate churned from didn't churn\n",
    "churn_df_true = df[df['churn'] == True] \n",
    "churn_df_false = df[df['churn'] == False]\n",
    "\n",
    "# Plot distribution plot of account length\n",
    "sns.distplot(churn_df_true['account length'], label='churned')\n",
    "sns.distplot(churn_df_false['account length'], label=f\"didn't churn\")\n",
    "plt.title('Account Length')\n",
    "plt.xlabel('Account Length')\n",
    "plt.ylabel('Frequency')\n",
    "plt.legend();"
   ]
  },
  {
   "cell_type": "markdown",
   "metadata": {},
   "source": [
    "There appears to be no relationship between churn and account length, as we can see by the overlapping frequency distribusions. \n",
    "\n",
    "I'm not sure if account length is in weeks or months. It seems too long to be years and too short to be days. It could also be some other metric. I did research this as well, and it seemed another person had asked what the units were in kaggle on the dataset page, however the question has yet to be answered. It was not addressed in any of the kernels either. \n",
    "\n",
    "I did some web research as well and did not find what the unit of length is on account length."
   ]
  },
  {
   "cell_type": "markdown",
   "metadata": {},
   "source": [
    "#### Churn: Target Variable\n",
    "\n",
    "Let's explore our target variable, churn. "
   ]
  },
  {
   "cell_type": "code",
   "execution_count": 16,
   "metadata": {},
   "outputs": [
    {
     "name": "stdout",
     "output_type": "stream",
     "text": [
      "Counts: \n",
      "False    2850\n",
      "True      483\n",
      "Name: churn, dtype: int64 \n",
      "\n",
      "Normalized: \n",
      "False    0.86\n",
      "True     0.14\n",
      "Name: churn, dtype: float64 \n",
      "\n"
     ]
    },
    {
     "data": {
      "image/png": "[encoded data removed]",
      "text/plain": [
       "<Figure size 432x288 with 1 Axes>"
      ]
     },
     "metadata": {
      "needs_background": "light"
     },
     "output_type": "display_data"
    }
   ],
   "source": [
    "# Print Value Counts\n",
    "print(f\"Counts: \\n{df.churn.value_counts()} \\n\")\n",
    "\n",
    "# Print Normalized Value Counts\n",
    "print(f\"Normalized: \\n{df.churn.value_counts(normalize=True).round(2)} \\n\")\n",
    "\n",
    "# Plot Value Counts\n",
    "sns.countplot(df['churn'])\n",
    "plt.title('Churn vs. Non-Churn Counts')\n",
    "plt.xlabel('Churn')\n",
    "plt.ylabel('Counts')\n",
    "plt.show()"
   ]
  },
  {
   "cell_type": "markdown",
   "metadata": {},
   "source": [
    "We can see there is a class imbalance here, so we'll want to address that by balancing the classes. We'll use SMOTE further down to accomplish this. "
   ]
  },
  {
   "cell_type": "markdown",
   "metadata": {},
   "source": [
    "## Pre-processing"
   ]
  },
  {
   "cell_type": "markdown",
   "metadata": {},
   "source": [
    "### One-Hot-Encode Categorical Data\n",
    "\n",
    "I'm using pd.get_dummies to one-hot-encode the categorical data. An alternative would be to use sklearn's OneHotEncoder or LabelEncoder.\n",
    "\n",
    "I previously ran the models with all 51 states one-hot-encoded. I then dropped them and re-ran the models. They performed much better without the state data. So we're going to leave them dropped here, right we one-hot-encode our categorical data."
   ]
  },
  {
   "cell_type": "code",
   "execution_count": 17,
   "metadata": {},
   "outputs": [
    {
     "data": {
      "text/html": [
       "<div>\n",
       "<style scoped>\n",
       "    .dataframe tbody tr th:only-of-type {\n",
       "        vertical-align: middle;\n",
       "    }\n",
       "\n",
       "    .dataframe tbody tr th {\n",
       "        vertical-align: top;\n",
       "    }\n",
       "\n",
       "    .dataframe thead th {\n",
       "        text-align: right;\n",
       "    }\n",
       "</style>\n",
       "<table border=\"1\" class=\"dataframe\">\n",
       "  <thead>\n",
       "    <tr style=\"text-align: right;\">\n",
       "      <th></th>\n",
       "      <th>account length</th>\n",
       "      <th>area code</th>\n",
       "      <th>number vmail messages</th>\n",
       "      <th>total day calls</th>\n",
       "      <th>total day charge</th>\n",
       "      <th>total eve calls</th>\n",
       "      <th>total eve charge</th>\n",
       "      <th>total night minutes</th>\n",
       "      <th>total night calls</th>\n",
       "      <th>total night charge</th>\n",
       "      <th>total intl calls</th>\n",
       "      <th>total intl charge</th>\n",
       "      <th>customer service calls</th>\n",
       "      <th>churn</th>\n",
       "      <th>total charges</th>\n",
       "      <th>international plan_yes</th>\n",
       "      <th>voice mail plan_yes</th>\n",
       "    </tr>\n",
       "  </thead>\n",
       "  <tbody>\n",
       "    <tr>\n",
       "      <td>0</td>\n",
       "      <td>128</td>\n",
       "      <td>415</td>\n",
       "      <td>25</td>\n",
       "      <td>110</td>\n",
       "      <td>45.07</td>\n",
       "      <td>99</td>\n",
       "      <td>16.78</td>\n",
       "      <td>244.7</td>\n",
       "      <td>91</td>\n",
       "      <td>11.01</td>\n",
       "      <td>3</td>\n",
       "      <td>2.70</td>\n",
       "      <td>1</td>\n",
       "      <td>False</td>\n",
       "      <td>64.55</td>\n",
       "      <td>0</td>\n",
       "      <td>1</td>\n",
       "    </tr>\n",
       "    <tr>\n",
       "      <td>1</td>\n",
       "      <td>107</td>\n",
       "      <td>415</td>\n",
       "      <td>26</td>\n",
       "      <td>123</td>\n",
       "      <td>27.47</td>\n",
       "      <td>103</td>\n",
       "      <td>16.62</td>\n",
       "      <td>254.4</td>\n",
       "      <td>103</td>\n",
       "      <td>11.45</td>\n",
       "      <td>3</td>\n",
       "      <td>3.70</td>\n",
       "      <td>1</td>\n",
       "      <td>False</td>\n",
       "      <td>47.79</td>\n",
       "      <td>0</td>\n",
       "      <td>1</td>\n",
       "    </tr>\n",
       "    <tr>\n",
       "      <td>2</td>\n",
       "      <td>137</td>\n",
       "      <td>415</td>\n",
       "      <td>0</td>\n",
       "      <td>114</td>\n",
       "      <td>41.38</td>\n",
       "      <td>110</td>\n",
       "      <td>10.30</td>\n",
       "      <td>162.6</td>\n",
       "      <td>104</td>\n",
       "      <td>7.32</td>\n",
       "      <td>5</td>\n",
       "      <td>3.29</td>\n",
       "      <td>0</td>\n",
       "      <td>False</td>\n",
       "      <td>54.97</td>\n",
       "      <td>0</td>\n",
       "      <td>0</td>\n",
       "    </tr>\n",
       "    <tr>\n",
       "      <td>3</td>\n",
       "      <td>84</td>\n",
       "      <td>408</td>\n",
       "      <td>0</td>\n",
       "      <td>71</td>\n",
       "      <td>50.90</td>\n",
       "      <td>88</td>\n",
       "      <td>5.26</td>\n",
       "      <td>196.9</td>\n",
       "      <td>89</td>\n",
       "      <td>8.86</td>\n",
       "      <td>7</td>\n",
       "      <td>1.78</td>\n",
       "      <td>2</td>\n",
       "      <td>False</td>\n",
       "      <td>57.94</td>\n",
       "      <td>1</td>\n",
       "      <td>0</td>\n",
       "    </tr>\n",
       "    <tr>\n",
       "      <td>4</td>\n",
       "      <td>75</td>\n",
       "      <td>415</td>\n",
       "      <td>0</td>\n",
       "      <td>113</td>\n",
       "      <td>28.34</td>\n",
       "      <td>122</td>\n",
       "      <td>12.61</td>\n",
       "      <td>186.9</td>\n",
       "      <td>121</td>\n",
       "      <td>8.41</td>\n",
       "      <td>3</td>\n",
       "      <td>2.73</td>\n",
       "      <td>3</td>\n",
       "      <td>False</td>\n",
       "      <td>43.68</td>\n",
       "      <td>1</td>\n",
       "      <td>0</td>\n",
       "    </tr>\n",
       "  </tbody>\n",
       "</table>\n",
       "</div>"
      ],
      "text/plain": [
       "   account length  area code  number vmail messages  total day calls  \\\n",
       "0             128        415                     25              110   \n",
       "1             107        415                     26              123   \n",
       "2             137        415                      0              114   \n",
       "3              84        408                      0               71   \n",
       "4              75        415                      0              113   \n",
       "\n",
       "   total day charge  total eve calls  total eve charge  total night minutes  \\\n",
       "0             45.07               99             16.78                244.7   \n",
       "1             27.47              103             16.62                254.4   \n",
       "2             41.38              110             10.30                162.6   \n",
       "3             50.90               88              5.26                196.9   \n",
       "4             28.34              122             12.61                186.9   \n",
       "\n",
       "   total night calls  total night charge  total intl calls  total intl charge  \\\n",
       "0                 91               11.01                 3               2.70   \n",
       "1                103               11.45                 3               3.70   \n",
       "2                104                7.32                 5               3.29   \n",
       "3                 89                8.86                 7               1.78   \n",
       "4                121                8.41                 3               2.73   \n",
       "\n",
       "   customer service calls  churn  total charges  international plan_yes  \\\n",
       "0                       1  False          64.55                       0   \n",
       "1                       1  False          47.79                       0   \n",
       "2                       0  False          54.97                       0   \n",
       "3                       2  False          57.94                       1   \n",
       "4                       3  False          43.68                       1   \n",
       "\n",
       "   voice mail plan_yes  \n",
       "0                    1  \n",
       "1                    1  \n",
       "2                    0  \n",
       "3                    0  \n",
       "4                    0  "
      ]
     },
     "execution_count": 17,
     "metadata": {},
     "output_type": "execute_result"
    }
   ],
   "source": [
    "# Drop states\n",
    "drop = ['state']\n",
    "df = df.drop(drop, axis=1)\n",
    "\n",
    "# One-hot-encode with pd.get_dumies\n",
    "df = pd.get_dummies(df,drop_first=True)\n",
    "\n",
    "# Take a look\n",
    "df.head()"
   ]
  },
  {
   "cell_type": "markdown",
   "metadata": {},
   "source": [
    "Looks good. "
   ]
  },
  {
   "cell_type": "markdown",
   "metadata": {},
   "source": [
    "### Separate Target & Predictor Variables\n",
    "\n",
    "Now we're going to separate out the target variable from the predictor variables and train-test split."
   ]
  },
  {
   "cell_type": "code",
   "execution_count": 18,
   "metadata": {},
   "outputs": [],
   "source": [
    "# Define X and y variables\n",
    "y = df['churn']\n",
    "X = df.drop(['churn'], axis=1)\n",
    "\n",
    "# Define Random State\n",
    "seed = 20\n",
    "\n",
    "# Split the data into training and test sets\n",
    "X_train, X_test, y_train, y_test = train_test_split(X, y, test_size=0.25, random_state=seed)"
   ]
  },
  {
   "cell_type": "markdown",
   "metadata": {},
   "source": [
    "### Address Class Imbalance\n",
    "\n",
    "Address the class imbalance using SMOTE to synthetically oversample the minority class."
   ]
  },
  {
   "cell_type": "code",
   "execution_count": 19,
   "metadata": {},
   "outputs": [
    {
     "name": "stdout",
     "output_type": "stream",
     "text": [
      "False    2136\n",
      "True      363\n",
      "Name: churn, dtype: int64\n",
      "\n",
      "True     2136\n",
      "False    2136\n",
      "dtype: int64\n"
     ]
    }
   ],
   "source": [
    "# Previous original class distribution\n",
    "print(y_train.value_counts())\n",
    "\n",
    "# Fit SMOTE to training data\n",
    "smote = SMOTE()\n",
    "X_train_resampled, y_train_resampled = smote.fit_sample(X_train, y_train)\n",
    "\n",
    "# Preview synthetic sample class distribution\n",
    "print(f\"\\n{pd.Series(y_train_resampled).value_counts()}\") "
   ]
  },
  {
   "cell_type": "markdown",
   "metadata": {},
   "source": [
    "We can see the classes are now balanced. Looks good. Now let's go ahead and start modeling...\n",
    "\n",
    "## Modeling\n",
    "\n",
    "We'll build our baseline models first and then tune the top 3 performing models.\n",
    "\n",
    "Since some classifiers require different processing, I'm going to process each classifier separately. For example:\n",
    "- XGBoost doesn't take data that has been processed by the class balancing technique we used, SMOTE, and requires values only to be used. \n",
    "- Some of our classifiers calculate our y_score using 'predict_proba', while others use 'decision_function'. \n",
    "- While our data does not require normalization or scaling, our KNN classifier does. \n",
    "\n",
    "For these reasons I chose to run each classifier separately.\n",
    "\n",
    "We will store the relevant metrics from each classifier in a list together for later use."
   ]
  },
  {
   "cell_type": "code",
   "execution_count": 53,
   "metadata": {},
   "outputs": [],
   "source": [
    "# Empty list to store classifier data\n",
    "clf_df = []"
   ]
  },
  {
   "cell_type": "markdown",
   "metadata": {},
   "source": [
    "### Logistic Regression Classifier\n",
    "\n",
    "#### Fit Model & Predict"
   ]
  },
  {
   "cell_type": "code",
   "execution_count": 54,
   "metadata": {},
   "outputs": [],
   "source": [
    "# Instantiate and fit model\n",
    "logreg = LogisticRegression(random_state=seed) \n",
    "logreg.fit(X_train_resampled, y_train_resampled)\n",
    "\n",
    "# Predict on the test set\n",
    "y_pred_logreg = logreg.predict(X_test)\n",
    "\n",
    "# Check false positive and true positive rates\n",
    "y_score_logreg = logreg.decision_function(X_test)\n",
    "fpr_logreg, tpr_logreg, thresholds_logreg = roc_curve(y_test, y_score_logreg)\n",
    "\n",
    "lrc = ['Logistic Regression',\n",
    "       y_score_logreg,\n",
    "       accuracy_score(y_test, y_pred_logreg),\n",
    "       roc_auc_score(y_test, y_pred_logreg),\n",
    "       recall_score(y_test, y_pred_logreg),\n",
    "       fpr_logreg,\n",
    "       tpr_logreg]\n",
    "\n",
    "clf_df.append(lrc)"
   ]
  },
  {
   "cell_type": "markdown",
   "metadata": {},
   "source": [
    "### KNN Classifier\n",
    "\n",
    "#### Fit Model & Predict\n",
    "\n",
    "Although we don't need to for the other models, we're going to normalize the data for KNN so that all data are on the same scale. "
   ]
  },
  {
   "cell_type": "code",
   "execution_count": 55,
   "metadata": {},
   "outputs": [],
   "source": [
    "# Instantiate and fit model\n",
    "knn_pipe = Pipeline([('mms', MinMaxScaler()), \n",
    "                 ('knn', KNeighborsClassifier())])\n",
    "knn_pipe.fit(X_train_resampled, y_train_resampled)\n",
    "\n",
    "# Predict on the test set\n",
    "y_pred_knn = knn_pipe.predict(X_test)\n",
    "\n",
    "# Check false positive and true positive rates\n",
    "y_score_knn = knn_pipe.predict_proba(X_test)\n",
    "fpr_knn, tpr_knn, thresholds_knn = roc_curve(y_test, y_score_knn[:, 1])\n",
    "\n",
    "knnc = ['K-Nearest Neighbors',\n",
    "       y_score_knn,\n",
    "       accuracy_score(y_test, y_pred_knn),\n",
    "       roc_auc_score(y_test, y_pred_knn),\n",
    "       recall_score(y_test, y_pred_knn),\n",
    "       fpr_knn,\n",
    "       tpr_knn]\n",
    "\n",
    "clf_df.append(knnc)"
   ]
  },
  {
   "cell_type": "markdown",
   "metadata": {},
   "source": [
    "### Bagging Tree Classifier\n",
    "\n",
    "#### Fit Model & Predict"
   ]
  },
  {
   "cell_type": "code",
   "execution_count": 57,
   "metadata": {},
   "outputs": [],
   "source": [
    "# Instantiate Classifier\n",
    "bag_clf = BaggingClassifier(\n",
    "    DecisionTreeClassifier(),\n",
    "    random_state=seed)\n",
    "\n",
    "# Build Model\n",
    "bag_clf.fit(X_train_resampled, y_train_resampled)\n",
    "\n",
    "# Predict on the Test Set\n",
    "y_pred_bag = bag_clf.predict(X_test)\n",
    "\n",
    "# Check false positive and true positive rates\n",
    "y_score_bag = bag_clf.predict_proba(X_test)\n",
    "fpr_bag, tpr_bag, thresholds_bag = roc_curve(y_test, y_score_bag[:, 1])\n",
    "\n",
    "bagc = ['Bagging Decision Tree',\n",
    "       y_score_bag,\n",
    "       accuracy_score(y_test, y_pred_bag),\n",
    "       roc_auc_score(y_test, y_pred_bag),\n",
    "       recall_score(y_test, y_pred_bag),\n",
    "       fpr_bag,\n",
    "       tpr_bag]\n",
    "\n",
    "clf_df.append(bagc)"
   ]
  },
  {
   "cell_type": "markdown",
   "metadata": {},
   "source": [
    "### Random Forest Classifier"
   ]
  },
  {
   "cell_type": "markdown",
   "metadata": {},
   "source": [
    "#### Cross-validation\n",
    "\n",
    "I'm curious to test different values of crossvalidation k-folds to see if a higher value results in a higher accuracy score."
   ]
  },
  {
   "cell_type": "code",
   "execution_count": 29,
   "metadata": {},
   "outputs": [
    {
     "name": "stdout",
     "output_type": "stream",
     "text": [
      "Mean Cross Validation Score for cv=3: 95.29%\n",
      "Mean Cross Validation Score for cv=6: 95.97%\n",
      "Mean Cross Validation Score for cv=10: 96.26%\n"
     ]
    }
   ],
   "source": [
    "cv_vals = [3,6,10]\n",
    "\n",
    "for cv_val in cv_vals:\n",
    "    rf_clf = RandomForestClassifier(random_state=seed)\n",
    "    mean_rf_cv_score = np.mean(cross_val_score(rf_clf, \n",
    "                                               X_train_resampled, \n",
    "                                               y_train_resampled, \n",
    "                                               cv=cv_val))\n",
    "\n",
    "    print(f\"Mean Cross Validation Score for cv={cv_val}: {mean_rf_cv_score :.2%}\")"
   ]
  },
  {
   "cell_type": "markdown",
   "metadata": {},
   "source": [
    "We can see that a higher cross-validation k-fold does result in higher accuracy. It may not be enough to warrant choosing higher cv values when we get to GridSearchCV, however it's good to know.  \n",
    "\n",
    "#### Fit Model & Predict"
   ]
  },
  {
   "cell_type": "code",
   "execution_count": 58,
   "metadata": {},
   "outputs": [],
   "source": [
    "# Instantiate Model\n",
    "rnd_clf = RandomForestClassifier(random_state=seed)\n",
    "\n",
    "# Fit Model\n",
    "rnd_clf.fit(X_train_resampled, y_train_resampled)\n",
    "\n",
    "# Predict on the test set\n",
    "y_pred_rf = rnd_clf.predict(X_test)\n",
    "\n",
    "# Check false positive and true positive rates\n",
    "y_score_rf = rnd_clf.predict_proba(X_test)\n",
    "fpr_rf, tpr_rf, thresholds_rf = roc_curve(y_test, y_score_rf[:, 1])\n",
    "\n",
    "rfc = ['Random Forest',\n",
    "       y_score_rf,\n",
    "       accuracy_score(y_test, y_pred_rf),\n",
    "       roc_auc_score(y_test, y_pred_rf),\n",
    "       recall_score(y_test, y_pred_rf),\n",
    "       fpr_rf,\n",
    "       tpr_rf]\n",
    "\n",
    "clf_df.append(rfc)"
   ]
  },
  {
   "cell_type": "markdown",
   "metadata": {},
   "source": [
    "### SVC Classifier\n",
    "\n",
    "#### Fit Model & Predict"
   ]
  },
  {
   "cell_type": "code",
   "execution_count": 59,
   "metadata": {},
   "outputs": [],
   "source": [
    "# Instatiate classifier\n",
    "svc_clf = LinearSVC(random_state=seed) \n",
    "\n",
    "# Fit model\n",
    "svc_clf.fit = svc_clf.fit(X_train_resampled, y_train_resampled)\n",
    "\n",
    "# Predict on train & test sets\n",
    "y_pred_svc = svc_clf.predict(X_test)\n",
    "\n",
    "# Check false positive and true positive rates\n",
    "y_score_svc = svc_clf.decision_function(X_test)\n",
    "fpr_svc, tpr_svc, thresholds_svc = roc_curve(y_test,y_score_svc)\n",
    "\n",
    "svcc = ['Linear SVC',\n",
    "       y_score_svc,\n",
    "       accuracy_score(y_test, y_pred_svc),\n",
    "       roc_auc_score(y_test, y_pred_svc),\n",
    "       recall_score(y_test, y_pred_svc),\n",
    "       fpr_svc,\n",
    "       tpr_svc]\n",
    "\n",
    "clf_df.append(svcc)"
   ]
  },
  {
   "cell_type": "markdown",
   "metadata": {},
   "source": [
    "### XGBoost Classifier\n",
    "\n",
    "#### Fit Model & Predict\n",
    "\n",
    "XGBoost was returning an error that the feature names did not match. In order to rectify this, I had to split just the values without headers. So I resplit the data here using the same random state number and test size. "
   ]
  },
  {
   "cell_type": "code",
   "execution_count": 60,
   "metadata": {},
   "outputs": [],
   "source": [
    "# Instatiate classifier\n",
    "xgb_clf = xgb.XGBClassifier(random_state=seed) \n",
    "\n",
    "# Splitting with X & y in np.array format for xgboost\n",
    "X_train, X_test, y_train, y_test = train_test_split(X.values, y.values, test_size=0.25, random_state=seed)\n",
    "\n",
    "# Fit SMOTE to training data\n",
    "smote = SMOTE()\n",
    "X_train_resampled, y_train_resampled = smote.fit_sample(X_train, y_train)\n",
    "\n",
    "# Fit model\n",
    "xgb_clf.fit = xgb_clf.fit(X_train_resampled, y_train_resampled)\n",
    "\n",
    "# Predict on train & test sets\n",
    "y_pred_xgb = xgb_clf.predict(X_test)\n",
    "\n",
    "# Check false positive and true positive rates\n",
    "y_score_xgb = xgb_clf.predict_proba(X_test)\n",
    "fpr_xgb, tpr_xgb, thresholds_xgb = roc_curve(y_test,y_score_xgb[:, 1])\n",
    "\n",
    "xgbc = ['XGBoost',\n",
    "       y_score_xgb,\n",
    "       accuracy_score(y_test, y_pred_xgb),\n",
    "       roc_auc_score(y_test, y_pred_xgb),\n",
    "       recall_score(y_test, y_pred_xgb),\n",
    "       fpr_xgb,\n",
    "       tpr_xgb]\n",
    "\n",
    "clf_df.append(xgbc)"
   ]
  },
  {
   "cell_type": "markdown",
   "metadata": {},
   "source": [
    "#### Feature Ranking\n",
    "\n",
    "We're going to plot the feature importance ranking, so we can see which features are most important to our classification of a customer's likelihood to churn."
   ]
  },
  {
   "cell_type": "code",
   "execution_count": 39,
   "metadata": {
    "scrolled": true
   },
   "outputs": [
    {
     "data": {
      "image/png": "[encoded data removed]",
      "text/plain": [
       "<Figure size 864x720 with 1 Axes>"
      ]
     },
     "metadata": {
      "needs_background": "light"
     },
     "output_type": "display_data"
    }
   ],
   "source": [
    "# We want to add back our column names to our feature importances\n",
    "ft_rank = pd.Series(xgb_clf.feature_importances_, index = X.columns)\n",
    "\n",
    "# Sort ascending\n",
    "ft_rank = ft_rank.sort_values(ascending = True)\n",
    "\n",
    "# Plot\n",
    "ft_rank.plot(kind='barh', width=.75, edgecolor = \"black\", figsize=(12,10), fontsize=18)\n",
    "plt.title('Feature Importance Ranking', fontsize=22)\n",
    "plt.show()"
   ]
  },
  {
   "cell_type": "markdown",
   "metadata": {},
   "source": [
    "We'll now see how well our baseline model performed by printing out our scores and then taking a look at our ROC curve.\n",
    "\n",
    "We're going to create a couple functions to expedite this process, and we will repeat for each of our models we're going to be testing."
   ]
  },
  {
   "cell_type": "markdown",
   "metadata": {},
   "source": [
    "#### Confusion Matrix & Accuracy Scores"
   ]
  },
  {
   "cell_type": "code",
   "execution_count": 21,
   "metadata": {},
   "outputs": [
    {
     "name": "stdout",
     "output_type": "stream",
     "text": [
      "Confusion Matrix - Counts: \n",
      "\n",
      " [[501 213]\n",
      " [ 29  91]] \n",
      "\n",
      "\n",
      " Confusion Matrix - Normalized: \n",
      " \n"
     ]
    },
    {
     "data": {
      "image/png": "[encoded data removed]",
      "text/plain": [
       "<Figure size 432x288 with 2 Axes>"
      ]
     },
     "metadata": {
      "needs_background": "light"
     },
     "output_type": "display_data"
    },
    {
     "name": "stdout",
     "output_type": "stream",
     "text": [
      "Classification Report: \n",
      "\n",
      "               precision    recall  f1-score   support\n",
      "\n",
      "       False       0.95      0.70      0.81       714\n",
      "        True       0.30      0.76      0.43       120\n",
      "\n",
      "    accuracy                           0.71       834\n",
      "   macro avg       0.62      0.73      0.62       834\n",
      "weighted avg       0.85      0.71      0.75       834\n",
      " \n",
      " \n"
     ]
    }
   ],
   "source": [
    "# Define function to return confusion matrix plots and classification report\n",
    "def cms_and_report(y_test,y_pred,model):\n",
    "    '''\n",
    "    Print out and plot confusion matrices and classification report\n",
    "    for model.\n",
    "    \n",
    "    Input y_test, y_pred_test & model.\n",
    "    '''\n",
    "\n",
    "    # Print confusion matrix by counts\n",
    "    print(f\"Confusion Matrix - Counts: \\n\\n {confusion_matrix(y_test, y_pred)} \\n\")\n",
    "    \n",
    "    # Plot confusion matrix & normalize the True Label for False & True\n",
    "    print(f\"\\n Confusion Matrix - Normalized: \\n \")\n",
    "    plot_confusion_matrix(model, X_test, y_test,cmap='Blues',normalize='true')\n",
    "    plt.show()\n",
    "   \n",
    "    # Print Classification Report\n",
    "    print(f\"Classification Report: \\n\\n {classification_report(y_test, y_pred)} \\n \")     \n",
    "\n",
    "# Return for Logistic Regression Classifier    \n",
    "cms_and_report(y_test,y_pred_logreg,logreg)"
   ]
  },
  {
   "cell_type": "markdown",
   "metadata": {},
   "source": [
    "#### ROC Curve"
   ]
  },
  {
   "cell_type": "code",
   "execution_count": 22,
   "metadata": {
    "scrolled": true
   },
   "outputs": [
    {
     "data": {
      "image/png": "[encoded data removed]",
      "text/plain": [
       "<Figure size 432x288 with 1 Axes>"
      ]
     },
     "metadata": {
      "needs_background": "light"
     },
     "output_type": "display_data"
    }
   ],
   "source": [
    "# Plot ROC curve\n",
    "\n",
    "# Define function to plot ROC curve for classifiers\n",
    "def ROC_curve(fpr,tpr,string):\n",
    "    '''\n",
    "    Input false positive rate, true positive rate and string\n",
    "    to describe the classifier that was used.\n",
    "    \n",
    "    Returns ROC curve with AUC in lower right hand corner.\n",
    "    \n",
    "    '''\n",
    "    \n",
    "    # ROC curve\n",
    "    plt.plot(fpr,tpr,label='ROC curve (AUC = %0.2f)' % auc(fpr, tpr))\n",
    "    \n",
    "    # Threshold\n",
    "    plt.plot([0, 1], [0, 1], color='green', lw=1.0, linestyle='--')\n",
    "    plt.xlim([-0.01, 1.0])\n",
    "    plt.ylim([0.0, 1.01])\n",
    "    \n",
    "    # Labels & Title\n",
    "    plt.xlabel('False Positive Rate')\n",
    "    plt.ylabel('True Positive Rate')\n",
    "    plt.title(f'{string} - ROC Curve')\n",
    "    plt.legend(loc=\"lower right\");\n",
    "    \n",
    "ROC_curve(fpr_logreg,tpr_logreg,'Logistic Regression Classifier')"
   ]
  },
  {
   "cell_type": "markdown",
   "metadata": {},
   "source": [
    "#### Confusion Matrix & Accuracy Scores"
   ]
  },
  {
   "cell_type": "code",
   "execution_count": 56,
   "metadata": {},
   "outputs": [
    {
     "name": "stdout",
     "output_type": "stream",
     "text": [
      "Confusion Matrix - Counts: \n",
      "\n",
      " [[590 124]\n",
      " [ 26  94]] \n",
      "\n",
      "\n",
      " Confusion Matrix - Normalized: \n",
      " \n"
     ]
    },
    {
     "data": {
      "image/png": "[encoded data removed]",
      "text/plain": [
       "<Figure size 576x396 with 2 Axes>"
      ]
     },
     "metadata": {},
     "output_type": "display_data"
    },
    {
     "name": "stdout",
     "output_type": "stream",
     "text": [
      "Classification Report: \n",
      "\n",
      "               precision    recall  f1-score   support\n",
      "\n",
      "       False       0.96      0.83      0.89       714\n",
      "        True       0.43      0.78      0.56       120\n",
      "\n",
      "    accuracy                           0.82       834\n",
      "   macro avg       0.69      0.80      0.72       834\n",
      "weighted avg       0.88      0.82      0.84       834\n",
      " \n",
      " \n"
     ]
    }
   ],
   "source": [
    "# Print confusion matrices and classification report\n",
    "cms_and_report(y_test,y_pred_knn,knn_pipe)"
   ]
  },
  {
   "cell_type": "markdown",
   "metadata": {},
   "source": [
    "KNN has good accuracy, however the recall score is less than if we were guessing. So we'll probably drop this model as it doesn't appear to be optimal for our uses. "
   ]
  },
  {
   "cell_type": "markdown",
   "metadata": {},
   "source": [
    "#### ROC Curve"
   ]
  },
  {
   "cell_type": "code",
   "execution_count": 25,
   "metadata": {},
   "outputs": [
    {
     "data": {
      "image/png": "[encoded data removed]",
      "text/plain": [
       "<Figure size 432x288 with 1 Axes>"
      ]
     },
     "metadata": {
      "needs_background": "light"
     },
     "output_type": "display_data"
    }
   ],
   "source": [
    "# Plot ROC curve for KNN Classifier\n",
    "ROC_curve(fpr_knn,tpr_knn,'KNN Classifier')"
   ]
  },
  {
   "cell_type": "markdown",
   "metadata": {},
   "source": [
    "#### Confusion Matrix & Accuracy Scores"
   ]
  },
  {
   "cell_type": "code",
   "execution_count": 27,
   "metadata": {
    "scrolled": true
   },
   "outputs": [
    {
     "name": "stdout",
     "output_type": "stream",
     "text": [
      "Confusion Matrix - Counts: \n",
      "\n",
      " [[696  18]\n",
      " [ 21  99]] \n",
      "\n",
      "\n",
      " Confusion Matrix - Normalized: \n",
      " \n"
     ]
    },
    {
     "data": {
      "image/png": "[encoded data removed]",
      "text/plain": [
       "<Figure size 432x288 with 2 Axes>"
      ]
     },
     "metadata": {
      "needs_background": "light"
     },
     "output_type": "display_data"
    },
    {
     "name": "stdout",
     "output_type": "stream",
     "text": [
      "Classification Report: \n",
      "\n",
      "               precision    recall  f1-score   support\n",
      "\n",
      "       False       0.97      0.97      0.97       714\n",
      "        True       0.85      0.82      0.84       120\n",
      "\n",
      "    accuracy                           0.95       834\n",
      "   macro avg       0.91      0.90      0.90       834\n",
      "weighted avg       0.95      0.95      0.95       834\n",
      " \n",
      " \n"
     ]
    }
   ],
   "source": [
    "# Print confusion matrices and classification report\n",
    "cms_and_report(y_test,y_pred_bag,bag_clf)"
   ]
  },
  {
   "cell_type": "markdown",
   "metadata": {},
   "source": [
    "#### ROC Curve"
   ]
  },
  {
   "cell_type": "code",
   "execution_count": 28,
   "metadata": {},
   "outputs": [
    {
     "data": {
      "image/png": "[encoded data removed]",
      "text/plain": [
       "<Figure size 432x288 with 1 Axes>"
      ]
     },
     "metadata": {
      "needs_background": "light"
     },
     "output_type": "display_data"
    }
   ],
   "source": [
    "# Plot ROC curve for Bagging Tree Classifier\n",
    "ROC_curve(fpr_bag,tpr_bag,'Bagging Tree Classifier')"
   ]
  },
  {
   "cell_type": "markdown",
   "metadata": {},
   "source": [
    "This one performed pretty well. We'll tune it for recall when we get to the hyperparameter tuning stage. "
   ]
  },
  {
   "cell_type": "markdown",
   "metadata": {},
   "source": [
    "#### Confusion Matrix & Accuracy Scores"
   ]
  },
  {
   "cell_type": "code",
   "execution_count": 31,
   "metadata": {},
   "outputs": [
    {
     "name": "stdout",
     "output_type": "stream",
     "text": [
      "Confusion Matrix - Counts: \n",
      "\n",
      " [[700  14]\n",
      " [ 19 101]] \n",
      "\n",
      "\n",
      " Confusion Matrix - Normalized: \n",
      " \n"
     ]
    },
    {
     "data": {
      "image/png": "[encoded data removed]",
      "text/plain": [
       "<Figure size 432x288 with 2 Axes>"
      ]
     },
     "metadata": {
      "needs_background": "light"
     },
     "output_type": "display_data"
    },
    {
     "name": "stdout",
     "output_type": "stream",
     "text": [
      "Classification Report: \n",
      "\n",
      "               precision    recall  f1-score   support\n",
      "\n",
      "       False       0.97      0.98      0.98       714\n",
      "        True       0.88      0.84      0.86       120\n",
      "\n",
      "    accuracy                           0.96       834\n",
      "   macro avg       0.93      0.91      0.92       834\n",
      "weighted avg       0.96      0.96      0.96       834\n",
      " \n",
      " \n"
     ]
    }
   ],
   "source": [
    "# Print out confusion matrix & classification report\n",
    "cms_and_report(y_test,y_pred_rf,rnd_clf)"
   ]
  },
  {
   "cell_type": "markdown",
   "metadata": {},
   "source": [
    "This model performed very well as far as accuracy, however we'll want to tune it for recall and see if we can increase that value. We'll do that when we get to the hyperparameter tuning stage, after we evaluate all of our baseline classifiers."
   ]
  },
  {
   "cell_type": "markdown",
   "metadata": {},
   "source": [
    "#### ROC Curve"
   ]
  },
  {
   "cell_type": "code",
   "execution_count": 32,
   "metadata": {},
   "outputs": [
    {
     "data": {
      "image/png": "[encoded data removed]",
      "text/plain": [
       "<Figure size 432x288 with 1 Axes>"
      ]
     },
     "metadata": {
      "needs_background": "light"
     },
     "output_type": "display_data"
    }
   ],
   "source": [
    "# Plot ROC curve\n",
    "ROC_curve(fpr_rf,tpr_rf,'Random Forest Classifier')"
   ]
  },
  {
   "cell_type": "markdown",
   "metadata": {},
   "source": [
    "#### Confusion Matrix & Classification Report"
   ]
  },
  {
   "cell_type": "code",
   "execution_count": 34,
   "metadata": {
    "scrolled": true
   },
   "outputs": [
    {
     "name": "stdout",
     "output_type": "stream",
     "text": [
      "Confusion Matrix - Counts: \n",
      "\n",
      " [[618  96]\n",
      " [ 44  76]] \n",
      "\n",
      "\n",
      " Confusion Matrix - Normalized: \n",
      " \n"
     ]
    },
    {
     "data": {
      "image/png": "[encoded data removed]",
      "text/plain": [
       "<Figure size 432x288 with 2 Axes>"
      ]
     },
     "metadata": {
      "needs_background": "light"
     },
     "output_type": "display_data"
    },
    {
     "name": "stdout",
     "output_type": "stream",
     "text": [
      "Classification Report: \n",
      "\n",
      "               precision    recall  f1-score   support\n",
      "\n",
      "       False       0.93      0.87      0.90       714\n",
      "        True       0.44      0.63      0.52       120\n",
      "\n",
      "    accuracy                           0.83       834\n",
      "   macro avg       0.69      0.75      0.71       834\n",
      "weighted avg       0.86      0.83      0.84       834\n",
      " \n",
      " \n"
     ]
    }
   ],
   "source": [
    "# Print confusion matrices and classification report\n",
    "cms_and_report(y_test,y_pred_svc,svc_clf)"
   ]
  },
  {
   "cell_type": "markdown",
   "metadata": {},
   "source": [
    "#### ROC Curve"
   ]
  },
  {
   "cell_type": "code",
   "execution_count": 35,
   "metadata": {},
   "outputs": [
    {
     "data": {
      "image/png": "[encoded data removed]",
      "text/plain": [
       "<Figure size 432x288 with 1 Axes>"
      ]
     },
     "metadata": {
      "needs_background": "light"
     },
     "output_type": "display_data"
    }
   ],
   "source": [
    "# Print ROC curve for SVC Classifier\n",
    "ROC_curve(fpr_svc,tpr_svc,'SVC Classifier')"
   ]
  },
  {
   "cell_type": "markdown",
   "metadata": {},
   "source": [
    "This classifier had decent accuracy and not the best recall. We probably won't keep this one. "
   ]
  },
  {
   "cell_type": "markdown",
   "metadata": {},
   "source": [
    "#### Confusion Matrix & Accuracy Scores"
   ]
  },
  {
   "cell_type": "code",
   "execution_count": 37,
   "metadata": {},
   "outputs": [
    {
     "name": "stdout",
     "output_type": "stream",
     "text": [
      "Confusion Matrix - Counts: \n",
      "\n",
      " [[695  19]\n",
      " [ 21  99]] \n",
      "\n",
      "\n",
      " Confusion Matrix - Normalized: \n",
      " \n"
     ]
    },
    {
     "data": {
      "image/png": "[encoded data removed]",
      "text/plain": [
       "<Figure size 432x288 with 2 Axes>"
      ]
     },
     "metadata": {
      "needs_background": "light"
     },
     "output_type": "display_data"
    },
    {
     "name": "stdout",
     "output_type": "stream",
     "text": [
      "Classification Report: \n",
      "\n",
      "               precision    recall  f1-score   support\n",
      "\n",
      "       False       0.97      0.97      0.97       714\n",
      "        True       0.84      0.82      0.83       120\n",
      "\n",
      "    accuracy                           0.95       834\n",
      "   macro avg       0.90      0.90      0.90       834\n",
      "weighted avg       0.95      0.95      0.95       834\n",
      " \n",
      " \n"
     ]
    }
   ],
   "source": [
    "# Print confusion matrices and classification report\n",
    "cms_and_report(y_test,y_pred_xgb,xgb_clf)"
   ]
  },
  {
   "cell_type": "markdown",
   "metadata": {},
   "source": [
    "This one performed very well with both accuracy and recall. We'll tune this one for recall when we get to hyperparameter tuning to see if we can increase this score. "
   ]
  },
  {
   "cell_type": "markdown",
   "metadata": {},
   "source": [
    "#### ROC Curve"
   ]
  },
  {
   "cell_type": "code",
   "execution_count": 38,
   "metadata": {},
   "outputs": [
    {
     "data": {
      "image/png": "[encoded data removed]",
      "text/plain": [
       "<Figure size 432x288 with 1 Axes>"
      ]
     },
     "metadata": {
      "needs_background": "light"
     },
     "output_type": "display_data"
    }
   ],
   "source": [
    "# Plot ROC curve\n",
    "ROC_curve(fpr_xgb,tpr_xgb,'XGBoost Classifier')"
   ]
  },
  {
   "cell_type": "markdown",
   "metadata": {},
   "source": [
    "### Conclusion for Baseline Classifiers"
   ]
  },
  {
   "cell_type": "markdown",
   "metadata": {},
   "source": [
    "Let's go ahead and plot all of our classifier ROC curves together, so we can see which ones seem to be performing the best."
   ]
  },
  {
   "cell_type": "code",
   "execution_count": 40,
   "metadata": {},
   "outputs": [
    {
     "data": {
      "image/png": "[encoded data removed]",
      "text/plain": [
       "<Figure size 576x396 with 1 Axes>"
      ]
     },
     "metadata": {},
     "output_type": "display_data"
    }
   ],
   "source": [
    "### Plot ROC Curves ###\n",
    "\n",
    "# Style\n",
    "plt.style.use('seaborn')\n",
    "sns.set_context('talk')\n",
    "\n",
    "# Plot ROC Curves\n",
    "\n",
    "plt.plot(fpr_logreg, tpr_logreg, linestyle='-',lw=3, color='orange', label='Logistic Regression')\n",
    "plt.plot(fpr_knn, tpr_knn, linestyle='-', lw=3, color='green', label='KNN')\n",
    "plt.plot(fpr_bag, tpr_bag, linestyle='-', lw=3, color='blue', label='Bagging Tree')\n",
    "plt.plot(fpr_rf, tpr_rf, linestyle='-', lw=3, color='magenta', label='Random Forest')\n",
    "plt.plot(fpr_svc, tpr_svc, linestyle='-', lw=3, color='cyan', label='Linear SVC')\n",
    "plt.plot(fpr_xgb, tpr_xgb, linestyle='-', lw=3, color='yellow', label='XGBoost')\n",
    "\n",
    "# Threshold\n",
    "plt.plot([0, 1], [0, 1], color='grey', lw=3, linestyle='--')\n",
    "plt.xlim([-0.01, 1.0])\n",
    "plt.ylim([0.0, 1.01])\n",
    "\n",
    "# Title & axis labels\n",
    "plt.title('ROC Curves - Test Set')\n",
    "plt.xlabel('False Positive Rate')\n",
    "plt.ylabel('True Positive rate')\n",
    "plt.legend(loc='best')\n",
    "\n",
    "# Save figure\n",
    "plt.savefig('ROC',dpi=300)\n",
    "plt.show();\n"
   ]
  },
  {
   "cell_type": "code",
   "execution_count": 41,
   "metadata": {},
   "outputs": [],
   "source": [
    "y_score_dict = {\n",
    "    'Logistic Regression': y_score_logreg,\n",
    "    'KNN': y_score_knn[:, 1],\n",
    "    'Bagging Tree': y_score_bag[:, 1],\n",
    "    'Random Forest': y_score_rf[:, 1],\n",
    "    'Linear SVC': y_score_svc,\n",
    "    'XGBoost': y_score_xgb[:, 1]\n",
    "}\n",
    "\n",
    "# Create empty DataFrame to store results\n",
    "time=[]\n",
    "accuracy=[]\n",
    "f1=[]\n",
    "precision=[]\n",
    "recall=[]\n",
    "auc=[]\n",
    "\n",
    "#     train_precision_scores = []\n",
    "#     test_precision_scores = []\n",
    "#     train_recall_scores = []\n",
    "#     test_recall_scores = []\n",
    "#     train_roc_data = []\n",
    "#     test_roc_data = []\n",
    "#     test_profit_scores = []\n",
    "\n",
    "# for classifier in y_score_dict.keys():\n",
    "#     print(y_score_dict[classifier])"
   ]
  },
  {
   "cell_type": "code",
   "execution_count": 42,
   "metadata": {},
   "outputs": [],
   "source": [
    "# y_score_dict.keys()\n",
    "# y_score_dict[classifier].values()"
   ]
  },
  {
   "cell_type": "markdown",
   "metadata": {},
   "source": [
    "- Since we want to target our marketing efforts to customers likely to churn, the most important measurement is the sensitivty, or the true positive rate.\n",
    "\n",
    "- It's okay if we have false positives, becasue the focus is on customer retention. \n",
    "\n",
    "- We want to minimize false negatives and maximize true positives.\n",
    "\n",
    "- While XGBoost and Random Forest classifiers had the best accuracy scores, our Bagging Tree Classifier performed the best for our purposes. Our Bagging Tree Classifier had the highest True Positive Rate and the lowest False Negative Rate out of all of our tested classifiers.\n",
    "\n",
    "- The recall score for true is the most important accuracy score to consider for our purposes. \n",
    "\n",
    "Let's go ahead and tune our top 3 best performing models to see if we can improve them."
   ]
  },
  {
   "cell_type": "markdown",
   "metadata": {},
   "source": [
    "## Hyperparameter Tuning\n",
    "\n",
    "We're now going to tune the hyperparameters of our top 3 performing models to see if we can improve them. I'm going to use GridSearchCV to search for the best values for our hyperparamters, and I'm going to tune for highest recall score."
   ]
  },
  {
   "cell_type": "markdown",
   "metadata": {},
   "source": [
    "### Bagging Classifier\n",
    "\n",
    "We will now create a Bagging Classifier of Decision Trees.\n",
    "\n",
    "#### Grid Search"
   ]
  },
  {
   "cell_type": "code",
   "execution_count": 44,
   "metadata": {},
   "outputs": [
    {
     "data": {
      "text/plain": [
       "GridSearchCV(cv=3, error_score=nan,\n",
       "             estimator=BaggingClassifier(base_estimator=RandomForestClassifier(bootstrap=True,\n",
       "                                                                               ccp_alpha=0.0,\n",
       "                                                                               class_weight=None,\n",
       "                                                                               criterion='gini',\n",
       "                                                                               max_depth=None,\n",
       "                                                                               max_features='auto',\n",
       "                                                                               max_leaf_nodes=None,\n",
       "                                                                               max_samples=None,\n",
       "                                                                               min_impurity_decrease=0.0,\n",
       "                                                                               min_impurity_split=None,\n",
       "                                                                               min_samples_leaf=1,\n",
       "                                                                               min_samples_split=2,\n",
       "                                                                               min_weight_fraction_leaf=...\n",
       "                                         n_estimators=10, n_jobs=None,\n",
       "                                         oob_score=False, random_state=None,\n",
       "                                         verbose=0, warm_start=False),\n",
       "             iid='deprecated', n_jobs=None,\n",
       "             param_grid={'base_estimator__bootstrap': [True, False],\n",
       "                         'base_estimator__n_estimators': [10, 50, 100],\n",
       "                         'max_samples': [10, 100],\n",
       "                         'n_estimators': [10, 50, 100]},\n",
       "             pre_dispatch='2*n_jobs', refit=True, return_train_score=False,\n",
       "             scoring='recall', verbose=0)"
      ]
     },
     "execution_count": 44,
     "metadata": {},
     "output_type": "execute_result"
    }
   ],
   "source": [
    "param_grid = {\n",
    "'n_estimators': [10, 50, 100],\n",
    "'max_samples' : [10, 100],\n",
    "'base_estimator__bootstrap': [True, False],\n",
    "'base_estimator__n_estimators': [10, 50, 100],\n",
    "}\n",
    "\n",
    "b_clf_grid_search=GridSearchCV(BaggingClassifier(base_estimator=RandomForestClassifier()), \n",
    "                               param_grid=param_grid, \n",
    "                               cv=3,\n",
    "                               scoring = 'recall')\n",
    "\n",
    "b_clf_grid_search.fit(X_train_resampled, y_train_resampled)"
   ]
  },
  {
   "cell_type": "code",
   "execution_count": 45,
   "metadata": {},
   "outputs": [
    {
     "name": "stdout",
     "output_type": "stream",
     "text": [
      "Training Accuracy: 86.70%\n",
      "\n",
      "Optimal Parameters: {'base_estimator__bootstrap': False, 'base_estimator__n_estimators': 100, 'max_samples': 100, 'n_estimators': 100}\n"
     ]
    }
   ],
   "source": [
    "print(f\"Training Accuracy: {b_clf_grid_search.best_score_ :.2%}\")\n",
    "print(\"\")\n",
    "print(f\"Optimal Parameters: {b_clf_grid_search.best_params_}\")"
   ]
  },
  {
   "cell_type": "markdown",
   "metadata": {},
   "source": [
    "### Random Forest Classifier\n",
    "\n",
    "#### Grid Search"
   ]
  },
  {
   "cell_type": "code",
   "execution_count": 46,
   "metadata": {},
   "outputs": [],
   "source": [
    "rf_param_grid = {'n_estimators': [10, 100, 500],\n",
    "                 'criterion': ['gini', 'entropy'],\n",
    "                 'max_leaf_nodes': [10, 65],}"
   ]
  },
  {
   "cell_type": "code",
   "execution_count": 47,
   "metadata": {},
   "outputs": [
    {
     "name": "stdout",
     "output_type": "stream",
     "text": [
      "Training Accuracy: 91.48%\n",
      "\n",
      "Optimal Parameters: {'criterion': 'entropy', 'max_leaf_nodes': 65, 'n_estimators': 500}\n"
     ]
    }
   ],
   "source": [
    "rf_grid_search = GridSearchCV(rf_clf, rf_param_grid, cv=3, scoring = 'recall')\n",
    "rf_grid_search.fit(X_train_resampled, y_train_resampled)\n",
    "\n",
    "print(f\"Training Accuracy: {rf_grid_search.best_score_ :.2%}\")\n",
    "print(\"\")\n",
    "print(f\"Optimal Parameters: {rf_grid_search.best_params_}\")"
   ]
  },
  {
   "cell_type": "code",
   "execution_count": 48,
   "metadata": {},
   "outputs": [],
   "source": [
    "# Instantiate model w/optimal parameters\n",
    "rnd_clf_best = RandomForestClassifier(criterion='gini',\n",
    "                                 min_samples_leaf=1,\n",
    "                                 min_samples_split=2,\n",
    "                                 n_estimators=100,\n",
    "                                 random_state=seed)\n",
    "\n",
    "# Fit model\n",
    "rnd_clf_best.fit(X_train_resampled, y_train_resampled)\n",
    "\n",
    "# Predict on the test set\n",
    "y_pred_rf_best = rnd_clf_best.predict(X_test)\n",
    "\n",
    "# Check false positive and true positive rates\n",
    "y_score_best = rnd_clf.fit(X_train_resampled, y_train_resampled).predict_proba(X_test)\n",
    "fpr, tpr, thresholds = roc_curve(y_test, y_score_best[:, 1])"
   ]
  },
  {
   "cell_type": "code",
   "execution_count": 49,
   "metadata": {},
   "outputs": [
    {
     "ename": "TypeError",
     "evalue": "'list' object is not callable",
     "output_type": "error",
     "traceback": [
      "\u001b[0;31m---------------------------------------------------------------------------\u001b[0m",
      "\u001b[0;31mTypeError\u001b[0m                                 Traceback (most recent call last)",
      "\u001b[0;32m<ipython-input-49-62f250ef1a3e>\u001b[0m in \u001b[0;36m<module>\u001b[0;34m\u001b[0m\n\u001b[1;32m      1\u001b[0m \u001b[0;31m# Plot ROC curve\u001b[0m\u001b[0;34m\u001b[0m\u001b[0;34m\u001b[0m\u001b[0;34m\u001b[0m\u001b[0m\n\u001b[0;32m----> 2\u001b[0;31m \u001b[0mROC_curve\u001b[0m\u001b[0;34m(\u001b[0m\u001b[0mfpr\u001b[0m\u001b[0;34m,\u001b[0m\u001b[0mtpr\u001b[0m\u001b[0;34m,\u001b[0m\u001b[0;34m'Random Forest Classifier'\u001b[0m\u001b[0;34m)\u001b[0m\u001b[0;34m\u001b[0m\u001b[0;34m\u001b[0m\u001b[0m\n\u001b[0m",
      "\u001b[0;32m<ipython-input-22-19847f370182>\u001b[0m in \u001b[0;36mROC_curve\u001b[0;34m(fpr, tpr, string)\u001b[0m\n\u001b[1;32m     12\u001b[0m \u001b[0;34m\u001b[0m\u001b[0m\n\u001b[1;32m     13\u001b[0m     \u001b[0;31m# ROC curve\u001b[0m\u001b[0;34m\u001b[0m\u001b[0;34m\u001b[0m\u001b[0;34m\u001b[0m\u001b[0m\n\u001b[0;32m---> 14\u001b[0;31m     \u001b[0mplt\u001b[0m\u001b[0;34m.\u001b[0m\u001b[0mplot\u001b[0m\u001b[0;34m(\u001b[0m\u001b[0mfpr\u001b[0m\u001b[0;34m,\u001b[0m\u001b[0mtpr\u001b[0m\u001b[0;34m,\u001b[0m\u001b[0mlabel\u001b[0m\u001b[0;34m=\u001b[0m\u001b[0;34m'ROC curve (AUC = %0.2f)'\u001b[0m \u001b[0;34m%\u001b[0m \u001b[0mauc\u001b[0m\u001b[0;34m(\u001b[0m\u001b[0mfpr\u001b[0m\u001b[0;34m,\u001b[0m \u001b[0mtpr\u001b[0m\u001b[0;34m)\u001b[0m\u001b[0;34m)\u001b[0m\u001b[0;34m\u001b[0m\u001b[0;34m\u001b[0m\u001b[0m\n\u001b[0m\u001b[1;32m     15\u001b[0m \u001b[0;34m\u001b[0m\u001b[0m\n\u001b[1;32m     16\u001b[0m     \u001b[0;31m# Threshold\u001b[0m\u001b[0;34m\u001b[0m\u001b[0;34m\u001b[0m\u001b[0;34m\u001b[0m\u001b[0m\n",
      "\u001b[0;31mTypeError\u001b[0m: 'list' object is not callable"
     ]
    }
   ],
   "source": [
    "# Plot ROC curve\n",
    "ROC_curve(fpr,tpr,'Random Forest Classifier')"
   ]
  },
  {
   "cell_type": "code",
   "execution_count": null,
   "metadata": {},
   "outputs": [],
   "source": [
    "# Print out confusion matrix & classification report\n",
    "cms_and_report(y_test,y_pred_rf_best,rnd_clf_best)"
   ]
  },
  {
   "cell_type": "markdown",
   "metadata": {},
   "source": [
    "### XGBoost Classifier"
   ]
  },
  {
   "cell_type": "code",
   "execution_count": null,
   "metadata": {},
   "outputs": [],
   "source": []
  },
  {
   "cell_type": "markdown",
   "metadata": {},
   "source": [
    "## Conclusion"
   ]
  },
  {
   "cell_type": "markdown",
   "metadata": {},
   "source": [
    "## Recommendations"
   ]
  },
  {
   "cell_type": "markdown",
   "metadata": {},
   "source": [
    "## Future Work"
   ]
  },
  {
   "cell_type": "code",
   "execution_count": null,
   "metadata": {},
   "outputs": [],
   "source": []
  }
 ],
 "metadata": {
  "kernelspec": {
   "display_name": "Python [conda env:learn-env] *",
   "language": "python",
   "name": "conda-env-learn-env-py"
  },
  "language_info": {
   "codemirror_mode": {
    "name": "ipython",
    "version": 3
   },
   "file_extension": ".py",
   "mimetype": "text/x-python",
   "name": "python",
   "nbconvert_exporter": "python",
   "pygments_lexer": "ipython3",
   "version": "3.6.9"
  },
  "toc": {
   "base_numbering": 1,
   "nav_menu": {},
   "number_sections": true,
   "sideBar": true,
   "skip_h1_title": false,
   "title_cell": "Table of Contents",
   "title_sidebar": "Contents",
   "toc_cell": true,
   "toc_position": {},
   "toc_section_display": true,
   "toc_window_display": true
  }
 },
 "nbformat": 4,
 "nbformat_minor": 2
}
