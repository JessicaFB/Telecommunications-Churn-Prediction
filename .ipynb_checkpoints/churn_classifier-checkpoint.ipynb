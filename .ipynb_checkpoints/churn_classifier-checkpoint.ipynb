{
 "cells": [
  {
   "cell_type": "markdown",
   "metadata": {
    "toc": true
   },
   "source": [
    "<h1>Table of Contents<span class=\"tocSkip\"></span></h1>\n",
    "<div class=\"toc\"><ul class=\"toc-item\"><li><span><a href=\"#Intro\" data-toc-modified-id=\"Intro-1\"><span class=\"toc-item-num\">1&nbsp;&nbsp;</span>Intro</a></span><ul class=\"toc-item\"><li><span><a href=\"#Problem-Statement\" data-toc-modified-id=\"Problem-Statement-1.1\"><span class=\"toc-item-num\">1.1&nbsp;&nbsp;</span>Problem Statement</a></span></li><li><span><a href=\"#Business-Value\" data-toc-modified-id=\"Business-Value-1.2\"><span class=\"toc-item-num\">1.2&nbsp;&nbsp;</span>Business Value</a></span></li><li><span><a href=\"#Customer-Churn\" data-toc-modified-id=\"Customer-Churn-1.3\"><span class=\"toc-item-num\">1.3&nbsp;&nbsp;</span>Customer Churn</a></span></li><li><span><a href=\"#Strategy\" data-toc-modified-id=\"Strategy-1.4\"><span class=\"toc-item-num\">1.4&nbsp;&nbsp;</span>Strategy</a></span></li></ul></li><li><span><a href=\"#Import-Packages-&amp;-Data\" data-toc-modified-id=\"Import-Packages-&amp;-Data-2\"><span class=\"toc-item-num\">2&nbsp;&nbsp;</span>Import Packages &amp; Data</a></span><ul class=\"toc-item\"><li><span><a href=\"#Import-Packages\" data-toc-modified-id=\"Import-Packages-2.1\"><span class=\"toc-item-num\">2.1&nbsp;&nbsp;</span>Import Packages</a></span></li><li><span><a href=\"#Import-Data\" data-toc-modified-id=\"Import-Data-2.2\"><span class=\"toc-item-num\">2.2&nbsp;&nbsp;</span>Import Data</a></span></li></ul></li><li><span><a href=\"#EDA-&amp;-Cleaning\" data-toc-modified-id=\"EDA-&amp;-Cleaning-3\"><span class=\"toc-item-num\">3&nbsp;&nbsp;</span>EDA &amp; Cleaning</a></span><ul class=\"toc-item\"><li><span><a href=\"#Summary-Statistics\" data-toc-modified-id=\"Summary-Statistics-3.1\"><span class=\"toc-item-num\">3.1&nbsp;&nbsp;</span>Summary Statistics</a></span></li><li><span><a href=\"#Normality-Check\" data-toc-modified-id=\"Normality-Check-3.2\"><span class=\"toc-item-num\">3.2&nbsp;&nbsp;</span>Normality Check</a></span></li><li><span><a href=\"#Correlation-Matrix\" data-toc-modified-id=\"Correlation-Matrix-3.3\"><span class=\"toc-item-num\">3.3&nbsp;&nbsp;</span>Correlation Matrix</a></span><ul class=\"toc-item\"><li><span><a href=\"#Minutes-vs.-Charges\" data-toc-modified-id=\"Minutes-vs.-Charges-3.3.1\"><span class=\"toc-item-num\">3.3.1&nbsp;&nbsp;</span>Minutes vs. Charges</a></span></li></ul></li><li><span><a href=\"#Feature-Exploration\" data-toc-modified-id=\"Feature-Exploration-3.4\"><span class=\"toc-item-num\">3.4&nbsp;&nbsp;</span>Feature Exploration</a></span><ul class=\"toc-item\"><li><span><a href=\"#Charges-vs.-Customer-Service-Calls\" data-toc-modified-id=\"Charges-vs.-Customer-Service-Calls-3.4.1\"><span class=\"toc-item-num\">3.4.1&nbsp;&nbsp;</span>Charges vs. Customer Service Calls</a></span></li><li><span><a href=\"#Churn-Rate\" data-toc-modified-id=\"Churn-Rate-3.4.2\"><span class=\"toc-item-num\">3.4.2&nbsp;&nbsp;</span>Churn Rate</a></span></li><li><span><a href=\"#Account-Length\" data-toc-modified-id=\"Account-Length-3.4.3\"><span class=\"toc-item-num\">3.4.3&nbsp;&nbsp;</span>Account Length</a></span></li><li><span><a href=\"#Churn:-Target-Variable\" data-toc-modified-id=\"Churn:-Target-Variable-3.4.4\"><span class=\"toc-item-num\">3.4.4&nbsp;&nbsp;</span>Churn: Target Variable</a></span></li></ul></li></ul></li><li><span><a href=\"#Pre-processing\" data-toc-modified-id=\"Pre-processing-4\"><span class=\"toc-item-num\">4&nbsp;&nbsp;</span>Pre-processing</a></span><ul class=\"toc-item\"><li><span><a href=\"#One-Hot-Encode-Categorical-Data\" data-toc-modified-id=\"One-Hot-Encode-Categorical-Data-4.1\"><span class=\"toc-item-num\">4.1&nbsp;&nbsp;</span>One-Hot-Encode Categorical Data</a></span></li><li><span><a href=\"#Separate-Target-&amp;-Predictor-Variables\" data-toc-modified-id=\"Separate-Target-&amp;-Predictor-Variables-4.2\"><span class=\"toc-item-num\">4.2&nbsp;&nbsp;</span>Separate Target &amp; Predictor Variables</a></span></li><li><span><a href=\"#Address-Class-Imbalance\" data-toc-modified-id=\"Address-Class-Imbalance-4.3\"><span class=\"toc-item-num\">4.3&nbsp;&nbsp;</span>Address Class Imbalance</a></span></li></ul></li><li><span><a href=\"#Baseline-Models\" data-toc-modified-id=\"Baseline-Models-5\"><span class=\"toc-item-num\">5&nbsp;&nbsp;</span>Baseline Models</a></span><ul class=\"toc-item\"><li><span><a href=\"#Instantiate-Classifiers\" data-toc-modified-id=\"Instantiate-Classifiers-5.1\"><span class=\"toc-item-num\">5.1&nbsp;&nbsp;</span>Instantiate Classifiers</a></span></li><li><span><a href=\"#Fit-&amp;-Predict\" data-toc-modified-id=\"Fit-&amp;-Predict-5.2\"><span class=\"toc-item-num\">5.2&nbsp;&nbsp;</span>Fit &amp; Predict</a></span></li><li><span><a href=\"#Confusion-Matrices\" data-toc-modified-id=\"Confusion-Matrices-5.3\"><span class=\"toc-item-num\">5.3&nbsp;&nbsp;</span>Confusion Matrices</a></span></li><li><span><a href=\"#Classification-Reports\" data-toc-modified-id=\"Classification-Reports-5.4\"><span class=\"toc-item-num\">5.4&nbsp;&nbsp;</span>Classification Reports</a></span></li><li><span><a href=\"#ROC-Curves\" data-toc-modified-id=\"ROC-Curves-5.5\"><span class=\"toc-item-num\">5.5&nbsp;&nbsp;</span>ROC Curves</a></span></li><li><span><a href=\"#Accuracy-Scores\" data-toc-modified-id=\"Accuracy-Scores-5.6\"><span class=\"toc-item-num\">5.6&nbsp;&nbsp;</span>Accuracy Scores</a></span></li><li><span><a href=\"#Feature-Importance\" data-toc-modified-id=\"Feature-Importance-5.7\"><span class=\"toc-item-num\">5.7&nbsp;&nbsp;</span>Feature Importance</a></span></li><li><span><a href=\"#Cross-validation\" data-toc-modified-id=\"Cross-validation-5.8\"><span class=\"toc-item-num\">5.8&nbsp;&nbsp;</span>Cross-validation</a></span></li></ul></li><li><span><a href=\"#Hyperparameter-Tuning\" data-toc-modified-id=\"Hyperparameter-Tuning-6\"><span class=\"toc-item-num\">6&nbsp;&nbsp;</span>Hyperparameter Tuning</a></span><ul class=\"toc-item\"><li><span><a href=\"#Grid-Search\" data-toc-modified-id=\"Grid-Search-6.1\"><span class=\"toc-item-num\">6.1&nbsp;&nbsp;</span>Grid Search</a></span></li><li><span><a href=\"#Best-Parameters\" data-toc-modified-id=\"Best-Parameters-6.2\"><span class=\"toc-item-num\">6.2&nbsp;&nbsp;</span>Best Parameters</a></span></li></ul></li><li><span><a href=\"#Tuned-Models\" data-toc-modified-id=\"Tuned-Models-7\"><span class=\"toc-item-num\">7&nbsp;&nbsp;</span>Tuned Models</a></span><ul class=\"toc-item\"><li><span><a href=\"#Instantiate-Classifiers\" data-toc-modified-id=\"Instantiate-Classifiers-7.1\"><span class=\"toc-item-num\">7.1&nbsp;&nbsp;</span>Instantiate Classifiers</a></span></li><li><span><a href=\"#Fit-&amp;-Predict\" data-toc-modified-id=\"Fit-&amp;-Predict-7.2\"><span class=\"toc-item-num\">7.2&nbsp;&nbsp;</span>Fit &amp; Predict</a></span></li><li><span><a href=\"#Feature-Importance\" data-toc-modified-id=\"Feature-Importance-7.3\"><span class=\"toc-item-num\">7.3&nbsp;&nbsp;</span>Feature Importance</a></span></li><li><span><a href=\"#Confusion-Matrices\" data-toc-modified-id=\"Confusion-Matrices-7.4\"><span class=\"toc-item-num\">7.4&nbsp;&nbsp;</span>Confusion Matrices</a></span></li><li><span><a href=\"#Classification-Reports\" data-toc-modified-id=\"Classification-Reports-7.5\"><span class=\"toc-item-num\">7.5&nbsp;&nbsp;</span>Classification Reports</a></span></li><li><span><a href=\"#ROC-Curves\" data-toc-modified-id=\"ROC-Curves-7.6\"><span class=\"toc-item-num\">7.6&nbsp;&nbsp;</span>ROC Curves</a></span></li><li><span><a href=\"#Accuracy-Scores\" data-toc-modified-id=\"Accuracy-Scores-7.7\"><span class=\"toc-item-num\">7.7&nbsp;&nbsp;</span>Accuracy Scores</a></span></li></ul></li><li><span><a href=\"#Conclusion\" data-toc-modified-id=\"Conclusion-8\"><span class=\"toc-item-num\">8&nbsp;&nbsp;</span>Conclusion</a></span></li><li><span><a href=\"#Recommendations\" data-toc-modified-id=\"Recommendations-9\"><span class=\"toc-item-num\">9&nbsp;&nbsp;</span>Recommendations</a></span></li><li><span><a href=\"#Future-Work\" data-toc-modified-id=\"Future-Work-10\"><span class=\"toc-item-num\">10&nbsp;&nbsp;</span>Future Work</a></span></li></ul></div>"
   ]
  },
  {
   "cell_type": "markdown",
   "metadata": {},
   "source": [
    "## Intro\n",
    "\n",
    "### Problem Statement\n",
    "\n",
    "\n",
    "\n",
    "### Business Value\n",
    "\n",
    "\n",
    "\n",
    "### Customer Churn\n",
    "\n",
    "\n",
    "\n",
    "### Strategy\n",
    "\n",
    "We will create baseline models for 6 different classifiers and then tune the top 3 using GridSearchCV.\n",
    "\n",
    "We care mostly about the true positive rate. Since the cost of acquiring a customer is higher than the cost of retaining a customer, it is okay if we have some false positives. We also want to minimize false negatives. Therefore we will be optimizing for recall.\n",
    "\n",
    "The models we will be testing are:\n",
    "- Logistic Regression Classifier\n",
    "- k-Nearest Neighbors Classifier (KNN)\n",
    "- Bagging Tree Classifier (with Decision Trees)\n",
    "- Random Forest Classifier\n",
    "- Support Vector Classification Classifier (SVC)\n",
    "- XGBoost Classifier"
   ]
  },
  {
   "cell_type": "markdown",
   "metadata": {},
   "source": [
    "## Import Packages & Data\n",
    "\n",
    "### Import Packages"
   ]
  },
  {
   "cell_type": "code",
   "execution_count": 1,
   "metadata": {},
   "outputs": [
    {
     "name": "stderr",
     "output_type": "stream",
     "text": [
      "/opt/anaconda3/envs/learn-env/lib/python3.6/site-packages/sklearn/externals/six.py:31: FutureWarning: The module is deprecated in version 0.21 and will be removed in version 0.23 since we've dropped support for Python 2.7. Please rely on the official version of six (https://pypi.org/project/six/).\n",
      "  \"(https://pypi.org/project/six/).\", FutureWarning)\n",
      "/opt/anaconda3/envs/learn-env/lib/python3.6/site-packages/sklearn/utils/deprecation.py:144: FutureWarning: The sklearn.neighbors.base module is  deprecated in version 0.22 and will be removed in version 0.24. The corresponding classes / functions should instead be imported from sklearn.neighbors. Anything that cannot be imported from sklearn.neighbors is now part of the private API.\n",
      "  warnings.warn(message, FutureWarning)\n"
     ]
    }
   ],
   "source": [
    "### Import necessary libraries & packages ###\n",
    "\n",
    "import numpy as np\n",
    "import pandas as pd\n",
    "import seaborn as sns\n",
    "import time\n",
    "import matplotlib.pyplot as plt\n",
    "%matplotlib inline  \n",
    "\n",
    "from sklearn.model_selection import train_test_split, cross_val_score, GridSearchCV\n",
    "\n",
    "from sklearn.linear_model import LogisticRegression\n",
    "from sklearn.tree import DecisionTreeClassifier\n",
    "from sklearn.ensemble import BaggingClassifier, RandomForestClassifier\n",
    "from sklearn.neighbors import KNeighborsClassifier\n",
    "from sklearn.svm import LinearSVC\n",
    "import xgboost as xgb\n",
    "\n",
    "from sklearn.pipeline import Pipeline\n",
    "from sklearn.preprocessing import MinMaxScaler, StandardScaler\n",
    "from imblearn.over_sampling import SMOTE\n",
    "\n",
    "from sklearn.metrics import roc_curve, roc_auc_score, accuracy_score, recall_score, precision_score, f1_score, confusion_matrix, plot_confusion_matrix, classification_report\n",
    "\n",
    "# Our custom functions #\n",
    "%run clf_functions.ipynb\n",
    "\n",
    "import warnings\n",
    "warnings.filterwarnings(\"ignore\")"
   ]
  },
  {
   "cell_type": "markdown",
   "metadata": {},
   "source": [
    "### Import Data\n",
    "\n",
    "Import data and convert to DataFrame."
   ]
  },
  {
   "cell_type": "code",
   "execution_count": 2,
   "metadata": {},
   "outputs": [
    {
     "data": {
      "text/html": [
       "<div>\n",
       "<style scoped>\n",
       "    .dataframe tbody tr th:only-of-type {\n",
       "        vertical-align: middle;\n",
       "    }\n",
       "\n",
       "    .dataframe tbody tr th {\n",
       "        vertical-align: top;\n",
       "    }\n",
       "\n",
       "    .dataframe thead th {\n",
       "        text-align: right;\n",
       "    }\n",
       "</style>\n",
       "<table border=\"1\" class=\"dataframe\">\n",
       "  <thead>\n",
       "    <tr style=\"text-align: right;\">\n",
       "      <th></th>\n",
       "      <th>state</th>\n",
       "      <th>account length</th>\n",
       "      <th>area code</th>\n",
       "      <th>phone number</th>\n",
       "      <th>international plan</th>\n",
       "      <th>voice mail plan</th>\n",
       "      <th>number vmail messages</th>\n",
       "      <th>total day minutes</th>\n",
       "      <th>total day calls</th>\n",
       "      <th>total day charge</th>\n",
       "      <th>...</th>\n",
       "      <th>total eve calls</th>\n",
       "      <th>total eve charge</th>\n",
       "      <th>total night minutes</th>\n",
       "      <th>total night calls</th>\n",
       "      <th>total night charge</th>\n",
       "      <th>total intl minutes</th>\n",
       "      <th>total intl calls</th>\n",
       "      <th>total intl charge</th>\n",
       "      <th>customer service calls</th>\n",
       "      <th>churn</th>\n",
       "    </tr>\n",
       "  </thead>\n",
       "  <tbody>\n",
       "    <tr>\n",
       "      <td>0</td>\n",
       "      <td>KS</td>\n",
       "      <td>128</td>\n",
       "      <td>415</td>\n",
       "      <td>382-4657</td>\n",
       "      <td>no</td>\n",
       "      <td>yes</td>\n",
       "      <td>25</td>\n",
       "      <td>265.1</td>\n",
       "      <td>110</td>\n",
       "      <td>45.07</td>\n",
       "      <td>...</td>\n",
       "      <td>99</td>\n",
       "      <td>16.78</td>\n",
       "      <td>244.7</td>\n",
       "      <td>91</td>\n",
       "      <td>11.01</td>\n",
       "      <td>10.0</td>\n",
       "      <td>3</td>\n",
       "      <td>2.70</td>\n",
       "      <td>1</td>\n",
       "      <td>False</td>\n",
       "    </tr>\n",
       "    <tr>\n",
       "      <td>1</td>\n",
       "      <td>OH</td>\n",
       "      <td>107</td>\n",
       "      <td>415</td>\n",
       "      <td>371-7191</td>\n",
       "      <td>no</td>\n",
       "      <td>yes</td>\n",
       "      <td>26</td>\n",
       "      <td>161.6</td>\n",
       "      <td>123</td>\n",
       "      <td>27.47</td>\n",
       "      <td>...</td>\n",
       "      <td>103</td>\n",
       "      <td>16.62</td>\n",
       "      <td>254.4</td>\n",
       "      <td>103</td>\n",
       "      <td>11.45</td>\n",
       "      <td>13.7</td>\n",
       "      <td>3</td>\n",
       "      <td>3.70</td>\n",
       "      <td>1</td>\n",
       "      <td>False</td>\n",
       "    </tr>\n",
       "    <tr>\n",
       "      <td>2</td>\n",
       "      <td>NJ</td>\n",
       "      <td>137</td>\n",
       "      <td>415</td>\n",
       "      <td>358-1921</td>\n",
       "      <td>no</td>\n",
       "      <td>no</td>\n",
       "      <td>0</td>\n",
       "      <td>243.4</td>\n",
       "      <td>114</td>\n",
       "      <td>41.38</td>\n",
       "      <td>...</td>\n",
       "      <td>110</td>\n",
       "      <td>10.30</td>\n",
       "      <td>162.6</td>\n",
       "      <td>104</td>\n",
       "      <td>7.32</td>\n",
       "      <td>12.2</td>\n",
       "      <td>5</td>\n",
       "      <td>3.29</td>\n",
       "      <td>0</td>\n",
       "      <td>False</td>\n",
       "    </tr>\n",
       "    <tr>\n",
       "      <td>3</td>\n",
       "      <td>OH</td>\n",
       "      <td>84</td>\n",
       "      <td>408</td>\n",
       "      <td>375-9999</td>\n",
       "      <td>yes</td>\n",
       "      <td>no</td>\n",
       "      <td>0</td>\n",
       "      <td>299.4</td>\n",
       "      <td>71</td>\n",
       "      <td>50.90</td>\n",
       "      <td>...</td>\n",
       "      <td>88</td>\n",
       "      <td>5.26</td>\n",
       "      <td>196.9</td>\n",
       "      <td>89</td>\n",
       "      <td>8.86</td>\n",
       "      <td>6.6</td>\n",
       "      <td>7</td>\n",
       "      <td>1.78</td>\n",
       "      <td>2</td>\n",
       "      <td>False</td>\n",
       "    </tr>\n",
       "    <tr>\n",
       "      <td>4</td>\n",
       "      <td>OK</td>\n",
       "      <td>75</td>\n",
       "      <td>415</td>\n",
       "      <td>330-6626</td>\n",
       "      <td>yes</td>\n",
       "      <td>no</td>\n",
       "      <td>0</td>\n",
       "      <td>166.7</td>\n",
       "      <td>113</td>\n",
       "      <td>28.34</td>\n",
       "      <td>...</td>\n",
       "      <td>122</td>\n",
       "      <td>12.61</td>\n",
       "      <td>186.9</td>\n",
       "      <td>121</td>\n",
       "      <td>8.41</td>\n",
       "      <td>10.1</td>\n",
       "      <td>3</td>\n",
       "      <td>2.73</td>\n",
       "      <td>3</td>\n",
       "      <td>False</td>\n",
       "    </tr>\n",
       "  </tbody>\n",
       "</table>\n",
       "<p>5 rows × 21 columns</p>\n",
       "</div>"
      ],
      "text/plain": [
       "  state  account length  area code phone number international plan  \\\n",
       "0    KS             128        415     382-4657                 no   \n",
       "1    OH             107        415     371-7191                 no   \n",
       "2    NJ             137        415     358-1921                 no   \n",
       "3    OH              84        408     375-9999                yes   \n",
       "4    OK              75        415     330-6626                yes   \n",
       "\n",
       "  voice mail plan  number vmail messages  total day minutes  total day calls  \\\n",
       "0             yes                     25              265.1              110   \n",
       "1             yes                     26              161.6              123   \n",
       "2              no                      0              243.4              114   \n",
       "3              no                      0              299.4               71   \n",
       "4              no                      0              166.7              113   \n",
       "\n",
       "   total day charge  ...  total eve calls  total eve charge  \\\n",
       "0             45.07  ...               99             16.78   \n",
       "1             27.47  ...              103             16.62   \n",
       "2             41.38  ...              110             10.30   \n",
       "3             50.90  ...               88              5.26   \n",
       "4             28.34  ...              122             12.61   \n",
       "\n",
       "   total night minutes  total night calls  total night charge  \\\n",
       "0                244.7                 91               11.01   \n",
       "1                254.4                103               11.45   \n",
       "2                162.6                104                7.32   \n",
       "3                196.9                 89                8.86   \n",
       "4                186.9                121                8.41   \n",
       "\n",
       "   total intl minutes  total intl calls  total intl charge  \\\n",
       "0                10.0                 3               2.70   \n",
       "1                13.7                 3               3.70   \n",
       "2                12.2                 5               3.29   \n",
       "3                 6.6                 7               1.78   \n",
       "4                10.1                 3               2.73   \n",
       "\n",
       "   customer service calls  churn  \n",
       "0                       1  False  \n",
       "1                       1  False  \n",
       "2                       0  False  \n",
       "3                       2  False  \n",
       "4                       3  False  \n",
       "\n",
       "[5 rows x 21 columns]"
      ]
     },
     "execution_count": 2,
     "metadata": {},
     "output_type": "execute_result"
    }
   ],
   "source": [
    "### Import Data ###\n",
    "\n",
    "data = pd.read_csv('telecom_churn_data.csv')\n",
    "df = pd.DataFrame(data)\n",
    "\n",
    "# Take a look at df\n",
    "df.head()"
   ]
  },
  {
   "cell_type": "markdown",
   "metadata": {},
   "source": [
    "## EDA & Cleaning\n",
    "\n",
    "Let's take a look at what we're working with."
   ]
  },
  {
   "cell_type": "code",
   "execution_count": 3,
   "metadata": {},
   "outputs": [
    {
     "name": "stdout",
     "output_type": "stream",
     "text": [
      "<class 'pandas.core.frame.DataFrame'>\n",
      "RangeIndex: 3333 entries, 0 to 3332\n",
      "Data columns (total 21 columns):\n",
      "state                     3333 non-null object\n",
      "account length            3333 non-null int64\n",
      "area code                 3333 non-null int64\n",
      "phone number              3333 non-null object\n",
      "international plan        3333 non-null object\n",
      "voice mail plan           3333 non-null object\n",
      "number vmail messages     3333 non-null int64\n",
      "total day minutes         3333 non-null float64\n",
      "total day calls           3333 non-null int64\n",
      "total day charge          3333 non-null float64\n",
      "total eve minutes         3333 non-null float64\n",
      "total eve calls           3333 non-null int64\n",
      "total eve charge          3333 non-null float64\n",
      "total night minutes       3333 non-null float64\n",
      "total night calls         3333 non-null int64\n",
      "total night charge        3333 non-null float64\n",
      "total intl minutes        3333 non-null float64\n",
      "total intl calls          3333 non-null int64\n",
      "total intl charge         3333 non-null float64\n",
      "customer service calls    3333 non-null int64\n",
      "churn                     3333 non-null bool\n",
      "dtypes: bool(1), float64(8), int64(8), object(4)\n",
      "memory usage: 524.2+ KB\n"
     ]
    }
   ],
   "source": [
    "df.info()"
   ]
  },
  {
   "cell_type": "markdown",
   "metadata": {},
   "source": [
    "Let's keep area code and drop phone number. We can one-hot encode area code, however the phone numbers are high cardinality data and for our purposes they give a lot more detail (and require a lot more bandwidth) than we would like to work with.\n",
    "\n",
    "Those are the only objects other than state. We'll explore state closer before we decide to keep it or not.\n",
    "\n",
    "Our target is churn, which is in boolean format.\n",
    "\n",
    "Looks great. Next we'll explore and clean the data if need be. "
   ]
  },
  {
   "cell_type": "code",
   "execution_count": 4,
   "metadata": {},
   "outputs": [
    {
     "data": {
      "text/plain": [
       "False"
      ]
     },
     "execution_count": 4,
     "metadata": {},
     "output_type": "execute_result"
    }
   ],
   "source": [
    "# Check for null values\n",
    "df.isnull().values.any()"
   ]
  },
  {
   "cell_type": "markdown",
   "metadata": {},
   "source": [
    "Great! Looks like there aren't any null values."
   ]
  },
  {
   "cell_type": "markdown",
   "metadata": {},
   "source": [
    "Let's go ahead and drop the rows we aren't going to be using for this analysis."
   ]
  },
  {
   "cell_type": "code",
   "execution_count": 5,
   "metadata": {},
   "outputs": [],
   "source": [
    "# Feature to drop\n",
    "drop = ['phone number']\n",
    "\n",
    "# Drop feature\n",
    "df = df.drop(drop,axis=1)"
   ]
  },
  {
   "cell_type": "markdown",
   "metadata": {},
   "source": [
    "### Summary Statistics"
   ]
  },
  {
   "cell_type": "code",
   "execution_count": 6,
   "metadata": {
    "scrolled": true
   },
   "outputs": [
    {
     "data": {
      "text/html": [
       "<div>\n",
       "<style scoped>\n",
       "    .dataframe tbody tr th:only-of-type {\n",
       "        vertical-align: middle;\n",
       "    }\n",
       "\n",
       "    .dataframe tbody tr th {\n",
       "        vertical-align: top;\n",
       "    }\n",
       "\n",
       "    .dataframe thead th {\n",
       "        text-align: right;\n",
       "    }\n",
       "</style>\n",
       "<table border=\"1\" class=\"dataframe\">\n",
       "  <thead>\n",
       "    <tr style=\"text-align: right;\">\n",
       "      <th></th>\n",
       "      <th>account length</th>\n",
       "      <th>area code</th>\n",
       "      <th>number vmail messages</th>\n",
       "      <th>total day minutes</th>\n",
       "      <th>total day calls</th>\n",
       "      <th>total day charge</th>\n",
       "      <th>total eve minutes</th>\n",
       "      <th>total eve calls</th>\n",
       "      <th>total eve charge</th>\n",
       "      <th>total night minutes</th>\n",
       "      <th>total night calls</th>\n",
       "      <th>total night charge</th>\n",
       "      <th>total intl minutes</th>\n",
       "      <th>total intl calls</th>\n",
       "      <th>total intl charge</th>\n",
       "      <th>customer service calls</th>\n",
       "    </tr>\n",
       "  </thead>\n",
       "  <tbody>\n",
       "    <tr>\n",
       "      <td>count</td>\n",
       "      <td>3333.0</td>\n",
       "      <td>3333.0</td>\n",
       "      <td>3333.0</td>\n",
       "      <td>3333.0</td>\n",
       "      <td>3333.0</td>\n",
       "      <td>3333.0</td>\n",
       "      <td>3333.0</td>\n",
       "      <td>3333.0</td>\n",
       "      <td>3333.0</td>\n",
       "      <td>3333.0</td>\n",
       "      <td>3333.0</td>\n",
       "      <td>3333.0</td>\n",
       "      <td>3333.0</td>\n",
       "      <td>3333.0</td>\n",
       "      <td>3333.0</td>\n",
       "      <td>3333.0</td>\n",
       "    </tr>\n",
       "    <tr>\n",
       "      <td>mean</td>\n",
       "      <td>101.0</td>\n",
       "      <td>437.0</td>\n",
       "      <td>8.0</td>\n",
       "      <td>180.0</td>\n",
       "      <td>100.0</td>\n",
       "      <td>31.0</td>\n",
       "      <td>201.0</td>\n",
       "      <td>100.0</td>\n",
       "      <td>17.0</td>\n",
       "      <td>201.0</td>\n",
       "      <td>100.0</td>\n",
       "      <td>9.0</td>\n",
       "      <td>10.0</td>\n",
       "      <td>4.0</td>\n",
       "      <td>3.0</td>\n",
       "      <td>2.0</td>\n",
       "    </tr>\n",
       "    <tr>\n",
       "      <td>std</td>\n",
       "      <td>40.0</td>\n",
       "      <td>42.0</td>\n",
       "      <td>14.0</td>\n",
       "      <td>54.0</td>\n",
       "      <td>20.0</td>\n",
       "      <td>9.0</td>\n",
       "      <td>51.0</td>\n",
       "      <td>20.0</td>\n",
       "      <td>4.0</td>\n",
       "      <td>51.0</td>\n",
       "      <td>20.0</td>\n",
       "      <td>2.0</td>\n",
       "      <td>3.0</td>\n",
       "      <td>2.0</td>\n",
       "      <td>1.0</td>\n",
       "      <td>1.0</td>\n",
       "    </tr>\n",
       "    <tr>\n",
       "      <td>min</td>\n",
       "      <td>1.0</td>\n",
       "      <td>408.0</td>\n",
       "      <td>0.0</td>\n",
       "      <td>0.0</td>\n",
       "      <td>0.0</td>\n",
       "      <td>0.0</td>\n",
       "      <td>0.0</td>\n",
       "      <td>0.0</td>\n",
       "      <td>0.0</td>\n",
       "      <td>23.0</td>\n",
       "      <td>33.0</td>\n",
       "      <td>1.0</td>\n",
       "      <td>0.0</td>\n",
       "      <td>0.0</td>\n",
       "      <td>0.0</td>\n",
       "      <td>0.0</td>\n",
       "    </tr>\n",
       "    <tr>\n",
       "      <td>25%</td>\n",
       "      <td>74.0</td>\n",
       "      <td>408.0</td>\n",
       "      <td>0.0</td>\n",
       "      <td>144.0</td>\n",
       "      <td>87.0</td>\n",
       "      <td>24.0</td>\n",
       "      <td>167.0</td>\n",
       "      <td>87.0</td>\n",
       "      <td>14.0</td>\n",
       "      <td>167.0</td>\n",
       "      <td>87.0</td>\n",
       "      <td>8.0</td>\n",
       "      <td>8.0</td>\n",
       "      <td>3.0</td>\n",
       "      <td>2.0</td>\n",
       "      <td>1.0</td>\n",
       "    </tr>\n",
       "    <tr>\n",
       "      <td>50%</td>\n",
       "      <td>101.0</td>\n",
       "      <td>415.0</td>\n",
       "      <td>0.0</td>\n",
       "      <td>179.0</td>\n",
       "      <td>101.0</td>\n",
       "      <td>30.0</td>\n",
       "      <td>201.0</td>\n",
       "      <td>100.0</td>\n",
       "      <td>17.0</td>\n",
       "      <td>201.0</td>\n",
       "      <td>100.0</td>\n",
       "      <td>9.0</td>\n",
       "      <td>10.0</td>\n",
       "      <td>4.0</td>\n",
       "      <td>3.0</td>\n",
       "      <td>1.0</td>\n",
       "    </tr>\n",
       "    <tr>\n",
       "      <td>75%</td>\n",
       "      <td>127.0</td>\n",
       "      <td>510.0</td>\n",
       "      <td>20.0</td>\n",
       "      <td>216.0</td>\n",
       "      <td>114.0</td>\n",
       "      <td>37.0</td>\n",
       "      <td>235.0</td>\n",
       "      <td>114.0</td>\n",
       "      <td>20.0</td>\n",
       "      <td>235.0</td>\n",
       "      <td>113.0</td>\n",
       "      <td>11.0</td>\n",
       "      <td>12.0</td>\n",
       "      <td>6.0</td>\n",
       "      <td>3.0</td>\n",
       "      <td>2.0</td>\n",
       "    </tr>\n",
       "    <tr>\n",
       "      <td>max</td>\n",
       "      <td>243.0</td>\n",
       "      <td>510.0</td>\n",
       "      <td>51.0</td>\n",
       "      <td>351.0</td>\n",
       "      <td>165.0</td>\n",
       "      <td>60.0</td>\n",
       "      <td>364.0</td>\n",
       "      <td>170.0</td>\n",
       "      <td>31.0</td>\n",
       "      <td>395.0</td>\n",
       "      <td>175.0</td>\n",
       "      <td>18.0</td>\n",
       "      <td>20.0</td>\n",
       "      <td>20.0</td>\n",
       "      <td>5.0</td>\n",
       "      <td>9.0</td>\n",
       "    </tr>\n",
       "  </tbody>\n",
       "</table>\n",
       "</div>"
      ],
      "text/plain": [
       "       account length  area code  number vmail messages  total day minutes  \\\n",
       "count          3333.0     3333.0                 3333.0             3333.0   \n",
       "mean            101.0      437.0                    8.0              180.0   \n",
       "std              40.0       42.0                   14.0               54.0   \n",
       "min               1.0      408.0                    0.0                0.0   \n",
       "25%              74.0      408.0                    0.0              144.0   \n",
       "50%             101.0      415.0                    0.0              179.0   \n",
       "75%             127.0      510.0                   20.0              216.0   \n",
       "max             243.0      510.0                   51.0              351.0   \n",
       "\n",
       "       total day calls  total day charge  total eve minutes  total eve calls  \\\n",
       "count           3333.0            3333.0             3333.0           3333.0   \n",
       "mean             100.0              31.0              201.0            100.0   \n",
       "std               20.0               9.0               51.0             20.0   \n",
       "min                0.0               0.0                0.0              0.0   \n",
       "25%               87.0              24.0              167.0             87.0   \n",
       "50%              101.0              30.0              201.0            100.0   \n",
       "75%              114.0              37.0              235.0            114.0   \n",
       "max              165.0              60.0              364.0            170.0   \n",
       "\n",
       "       total eve charge  total night minutes  total night calls  \\\n",
       "count            3333.0               3333.0             3333.0   \n",
       "mean               17.0                201.0              100.0   \n",
       "std                 4.0                 51.0               20.0   \n",
       "min                 0.0                 23.0               33.0   \n",
       "25%                14.0                167.0               87.0   \n",
       "50%                17.0                201.0              100.0   \n",
       "75%                20.0                235.0              113.0   \n",
       "max                31.0                395.0              175.0   \n",
       "\n",
       "       total night charge  total intl minutes  total intl calls  \\\n",
       "count              3333.0              3333.0            3333.0   \n",
       "mean                  9.0                10.0               4.0   \n",
       "std                   2.0                 3.0               2.0   \n",
       "min                   1.0                 0.0               0.0   \n",
       "25%                   8.0                 8.0               3.0   \n",
       "50%                   9.0                10.0               4.0   \n",
       "75%                  11.0                12.0               6.0   \n",
       "max                  18.0                20.0              20.0   \n",
       "\n",
       "       total intl charge  customer service calls  \n",
       "count             3333.0                  3333.0  \n",
       "mean                 3.0                     2.0  \n",
       "std                  1.0                     1.0  \n",
       "min                  0.0                     0.0  \n",
       "25%                  2.0                     1.0  \n",
       "50%                  3.0                     1.0  \n",
       "75%                  3.0                     2.0  \n",
       "max                  5.0                     9.0  "
      ]
     },
     "execution_count": 6,
     "metadata": {},
     "output_type": "execute_result"
    }
   ],
   "source": [
    "# Summary Statistics\n",
    "df.describe().round()"
   ]
  },
  {
   "cell_type": "markdown",
   "metadata": {},
   "source": [
    "I'm curious to see if there's any relationship between customer service calls, charges, and churn. \n",
    "\n",
    "We'll explore this when we get to the Feature Exploration section. "
   ]
  },
  {
   "cell_type": "markdown",
   "metadata": {},
   "source": [
    "### Normality Check"
   ]
  },
  {
   "cell_type": "code",
   "execution_count": 7,
   "metadata": {},
   "outputs": [
    {
     "data": {
      "image/png": "[encoded data removed]",
      "text/plain": [
       "<Figure size 1440x1152 with 16 Axes>"
      ]
     },
     "metadata": {
      "needs_background": "light"
     },
     "output_type": "display_data"
    }
   ],
   "source": [
    "# Define which features are intergers/floats for histograms\n",
    "hist_cols = ['account length',\n",
    "             'area code',\n",
    "             'number vmail messages',\n",
    "             'total day minutes',\n",
    "             'total day calls',\n",
    "             'total day charge',\n",
    "             'total eve minutes',\n",
    "             'total eve calls',\n",
    "             'total eve charge',\n",
    "             'total night minutes',\n",
    "             'total night calls',\n",
    "             'total night charge',\n",
    "             'total intl minutes',\n",
    "             'total intl calls',\n",
    "             'total intl charge',\n",
    "             'customer service calls']\n",
    "\n",
    "# Define figure size & axis\n",
    "fig,ax = plt.subplots(figsize = (20,16))\n",
    "\n",
    "# Plot histograms\n",
    "df.hist(column=hist_cols,ax=ax);"
   ]
  },
  {
   "cell_type": "markdown",
   "metadata": {},
   "source": [
    "Some of these features are skewed, e.g. customer service calls, international calls and international charges. \n",
    "\n",
    "We can see some of these appear to be directly correlated, which makes sense such as calls, charges and minutes. E.g. total day calls, charges, and minutes, international calls, charges and minutes, and night calls, charges and minutes. \n",
    "\n",
    "Since ensemble methods work best when predictors are as independent as possible, we will probably just keep one of each of the three when creating our ensemble.\n",
    "\n",
    "Number of voicemail messages appears to be bimodal. We could bin them, but we'll see how the classifier goes and do so if necessary. "
   ]
  },
  {
   "cell_type": "markdown",
   "metadata": {},
   "source": [
    "### Correlation Matrix\n",
    "\n",
    "We want to see which features are correlated so we can remove features that are highly correlated with another feature. I prefer this table over a heatmap; we can easily scan for rows with multiple Trues and look at those features. "
   ]
  },
  {
   "cell_type": "code",
   "execution_count": 8,
   "metadata": {
    "scrolled": true
   },
   "outputs": [
    {
     "data": {
      "text/html": [
       "<div>\n",
       "<style scoped>\n",
       "    .dataframe tbody tr th:only-of-type {\n",
       "        vertical-align: middle;\n",
       "    }\n",
       "\n",
       "    .dataframe tbody tr th {\n",
       "        vertical-align: top;\n",
       "    }\n",
       "\n",
       "    .dataframe thead th {\n",
       "        text-align: right;\n",
       "    }\n",
       "</style>\n",
       "<table border=\"1\" class=\"dataframe\">\n",
       "  <thead>\n",
       "    <tr style=\"text-align: right;\">\n",
       "      <th></th>\n",
       "      <th>account length</th>\n",
       "      <th>area code</th>\n",
       "      <th>number vmail messages</th>\n",
       "      <th>total day minutes</th>\n",
       "      <th>total day calls</th>\n",
       "      <th>total day charge</th>\n",
       "      <th>total eve minutes</th>\n",
       "      <th>total eve calls</th>\n",
       "      <th>total eve charge</th>\n",
       "      <th>total night minutes</th>\n",
       "      <th>total night calls</th>\n",
       "      <th>total night charge</th>\n",
       "      <th>total intl minutes</th>\n",
       "      <th>total intl calls</th>\n",
       "      <th>total intl charge</th>\n",
       "      <th>customer service calls</th>\n",
       "      <th>churn</th>\n",
       "    </tr>\n",
       "  </thead>\n",
       "  <tbody>\n",
       "    <tr>\n",
       "      <td>account length</td>\n",
       "      <td>True</td>\n",
       "      <td>False</td>\n",
       "      <td>False</td>\n",
       "      <td>False</td>\n",
       "      <td>False</td>\n",
       "      <td>False</td>\n",
       "      <td>False</td>\n",
       "      <td>False</td>\n",
       "      <td>False</td>\n",
       "      <td>False</td>\n",
       "      <td>False</td>\n",
       "      <td>False</td>\n",
       "      <td>False</td>\n",
       "      <td>False</td>\n",
       "      <td>False</td>\n",
       "      <td>False</td>\n",
       "      <td>False</td>\n",
       "    </tr>\n",
       "    <tr>\n",
       "      <td>area code</td>\n",
       "      <td>False</td>\n",
       "      <td>True</td>\n",
       "      <td>False</td>\n",
       "      <td>False</td>\n",
       "      <td>False</td>\n",
       "      <td>False</td>\n",
       "      <td>False</td>\n",
       "      <td>False</td>\n",
       "      <td>False</td>\n",
       "      <td>False</td>\n",
       "      <td>False</td>\n",
       "      <td>False</td>\n",
       "      <td>False</td>\n",
       "      <td>False</td>\n",
       "      <td>False</td>\n",
       "      <td>False</td>\n",
       "      <td>False</td>\n",
       "    </tr>\n",
       "    <tr>\n",
       "      <td>number vmail messages</td>\n",
       "      <td>False</td>\n",
       "      <td>False</td>\n",
       "      <td>True</td>\n",
       "      <td>False</td>\n",
       "      <td>False</td>\n",
       "      <td>False</td>\n",
       "      <td>False</td>\n",
       "      <td>False</td>\n",
       "      <td>False</td>\n",
       "      <td>False</td>\n",
       "      <td>False</td>\n",
       "      <td>False</td>\n",
       "      <td>False</td>\n",
       "      <td>False</td>\n",
       "      <td>False</td>\n",
       "      <td>False</td>\n",
       "      <td>False</td>\n",
       "    </tr>\n",
       "    <tr>\n",
       "      <td>total day minutes</td>\n",
       "      <td>False</td>\n",
       "      <td>False</td>\n",
       "      <td>False</td>\n",
       "      <td>True</td>\n",
       "      <td>False</td>\n",
       "      <td>True</td>\n",
       "      <td>False</td>\n",
       "      <td>False</td>\n",
       "      <td>False</td>\n",
       "      <td>False</td>\n",
       "      <td>False</td>\n",
       "      <td>False</td>\n",
       "      <td>False</td>\n",
       "      <td>False</td>\n",
       "      <td>False</td>\n",
       "      <td>False</td>\n",
       "      <td>False</td>\n",
       "    </tr>\n",
       "    <tr>\n",
       "      <td>total day calls</td>\n",
       "      <td>False</td>\n",
       "      <td>False</td>\n",
       "      <td>False</td>\n",
       "      <td>False</td>\n",
       "      <td>True</td>\n",
       "      <td>False</td>\n",
       "      <td>False</td>\n",
       "      <td>False</td>\n",
       "      <td>False</td>\n",
       "      <td>False</td>\n",
       "      <td>False</td>\n",
       "      <td>False</td>\n",
       "      <td>False</td>\n",
       "      <td>False</td>\n",
       "      <td>False</td>\n",
       "      <td>False</td>\n",
       "      <td>False</td>\n",
       "    </tr>\n",
       "    <tr>\n",
       "      <td>total day charge</td>\n",
       "      <td>False</td>\n",
       "      <td>False</td>\n",
       "      <td>False</td>\n",
       "      <td>True</td>\n",
       "      <td>False</td>\n",
       "      <td>True</td>\n",
       "      <td>False</td>\n",
       "      <td>False</td>\n",
       "      <td>False</td>\n",
       "      <td>False</td>\n",
       "      <td>False</td>\n",
       "      <td>False</td>\n",
       "      <td>False</td>\n",
       "      <td>False</td>\n",
       "      <td>False</td>\n",
       "      <td>False</td>\n",
       "      <td>False</td>\n",
       "    </tr>\n",
       "    <tr>\n",
       "      <td>total eve minutes</td>\n",
       "      <td>False</td>\n",
       "      <td>False</td>\n",
       "      <td>False</td>\n",
       "      <td>False</td>\n",
       "      <td>False</td>\n",
       "      <td>False</td>\n",
       "      <td>True</td>\n",
       "      <td>False</td>\n",
       "      <td>True</td>\n",
       "      <td>False</td>\n",
       "      <td>False</td>\n",
       "      <td>False</td>\n",
       "      <td>False</td>\n",
       "      <td>False</td>\n",
       "      <td>False</td>\n",
       "      <td>False</td>\n",
       "      <td>False</td>\n",
       "    </tr>\n",
       "    <tr>\n",
       "      <td>total eve calls</td>\n",
       "      <td>False</td>\n",
       "      <td>False</td>\n",
       "      <td>False</td>\n",
       "      <td>False</td>\n",
       "      <td>False</td>\n",
       "      <td>False</td>\n",
       "      <td>False</td>\n",
       "      <td>True</td>\n",
       "      <td>False</td>\n",
       "      <td>False</td>\n",
       "      <td>False</td>\n",
       "      <td>False</td>\n",
       "      <td>False</td>\n",
       "      <td>False</td>\n",
       "      <td>False</td>\n",
       "      <td>False</td>\n",
       "      <td>False</td>\n",
       "    </tr>\n",
       "    <tr>\n",
       "      <td>total eve charge</td>\n",
       "      <td>False</td>\n",
       "      <td>False</td>\n",
       "      <td>False</td>\n",
       "      <td>False</td>\n",
       "      <td>False</td>\n",
       "      <td>False</td>\n",
       "      <td>True</td>\n",
       "      <td>False</td>\n",
       "      <td>True</td>\n",
       "      <td>False</td>\n",
       "      <td>False</td>\n",
       "      <td>False</td>\n",
       "      <td>False</td>\n",
       "      <td>False</td>\n",
       "      <td>False</td>\n",
       "      <td>False</td>\n",
       "      <td>False</td>\n",
       "    </tr>\n",
       "    <tr>\n",
       "      <td>total night minutes</td>\n",
       "      <td>False</td>\n",
       "      <td>False</td>\n",
       "      <td>False</td>\n",
       "      <td>False</td>\n",
       "      <td>False</td>\n",
       "      <td>False</td>\n",
       "      <td>False</td>\n",
       "      <td>False</td>\n",
       "      <td>False</td>\n",
       "      <td>True</td>\n",
       "      <td>False</td>\n",
       "      <td>True</td>\n",
       "      <td>False</td>\n",
       "      <td>False</td>\n",
       "      <td>False</td>\n",
       "      <td>False</td>\n",
       "      <td>False</td>\n",
       "    </tr>\n",
       "    <tr>\n",
       "      <td>total night calls</td>\n",
       "      <td>False</td>\n",
       "      <td>False</td>\n",
       "      <td>False</td>\n",
       "      <td>False</td>\n",
       "      <td>False</td>\n",
       "      <td>False</td>\n",
       "      <td>False</td>\n",
       "      <td>False</td>\n",
       "      <td>False</td>\n",
       "      <td>False</td>\n",
       "      <td>True</td>\n",
       "      <td>False</td>\n",
       "      <td>False</td>\n",
       "      <td>False</td>\n",
       "      <td>False</td>\n",
       "      <td>False</td>\n",
       "      <td>False</td>\n",
       "    </tr>\n",
       "    <tr>\n",
       "      <td>total night charge</td>\n",
       "      <td>False</td>\n",
       "      <td>False</td>\n",
       "      <td>False</td>\n",
       "      <td>False</td>\n",
       "      <td>False</td>\n",
       "      <td>False</td>\n",
       "      <td>False</td>\n",
       "      <td>False</td>\n",
       "      <td>False</td>\n",
       "      <td>True</td>\n",
       "      <td>False</td>\n",
       "      <td>True</td>\n",
       "      <td>False</td>\n",
       "      <td>False</td>\n",
       "      <td>False</td>\n",
       "      <td>False</td>\n",
       "      <td>False</td>\n",
       "    </tr>\n",
       "    <tr>\n",
       "      <td>total intl minutes</td>\n",
       "      <td>False</td>\n",
       "      <td>False</td>\n",
       "      <td>False</td>\n",
       "      <td>False</td>\n",
       "      <td>False</td>\n",
       "      <td>False</td>\n",
       "      <td>False</td>\n",
       "      <td>False</td>\n",
       "      <td>False</td>\n",
       "      <td>False</td>\n",
       "      <td>False</td>\n",
       "      <td>False</td>\n",
       "      <td>True</td>\n",
       "      <td>False</td>\n",
       "      <td>True</td>\n",
       "      <td>False</td>\n",
       "      <td>False</td>\n",
       "    </tr>\n",
       "    <tr>\n",
       "      <td>total intl calls</td>\n",
       "      <td>False</td>\n",
       "      <td>False</td>\n",
       "      <td>False</td>\n",
       "      <td>False</td>\n",
       "      <td>False</td>\n",
       "      <td>False</td>\n",
       "      <td>False</td>\n",
       "      <td>False</td>\n",
       "      <td>False</td>\n",
       "      <td>False</td>\n",
       "      <td>False</td>\n",
       "      <td>False</td>\n",
       "      <td>False</td>\n",
       "      <td>True</td>\n",
       "      <td>False</td>\n",
       "      <td>False</td>\n",
       "      <td>False</td>\n",
       "    </tr>\n",
       "    <tr>\n",
       "      <td>total intl charge</td>\n",
       "      <td>False</td>\n",
       "      <td>False</td>\n",
       "      <td>False</td>\n",
       "      <td>False</td>\n",
       "      <td>False</td>\n",
       "      <td>False</td>\n",
       "      <td>False</td>\n",
       "      <td>False</td>\n",
       "      <td>False</td>\n",
       "      <td>False</td>\n",
       "      <td>False</td>\n",
       "      <td>False</td>\n",
       "      <td>True</td>\n",
       "      <td>False</td>\n",
       "      <td>True</td>\n",
       "      <td>False</td>\n",
       "      <td>False</td>\n",
       "    </tr>\n",
       "    <tr>\n",
       "      <td>customer service calls</td>\n",
       "      <td>False</td>\n",
       "      <td>False</td>\n",
       "      <td>False</td>\n",
       "      <td>False</td>\n",
       "      <td>False</td>\n",
       "      <td>False</td>\n",
       "      <td>False</td>\n",
       "      <td>False</td>\n",
       "      <td>False</td>\n",
       "      <td>False</td>\n",
       "      <td>False</td>\n",
       "      <td>False</td>\n",
       "      <td>False</td>\n",
       "      <td>False</td>\n",
       "      <td>False</td>\n",
       "      <td>True</td>\n",
       "      <td>False</td>\n",
       "    </tr>\n",
       "    <tr>\n",
       "      <td>churn</td>\n",
       "      <td>False</td>\n",
       "      <td>False</td>\n",
       "      <td>False</td>\n",
       "      <td>False</td>\n",
       "      <td>False</td>\n",
       "      <td>False</td>\n",
       "      <td>False</td>\n",
       "      <td>False</td>\n",
       "      <td>False</td>\n",
       "      <td>False</td>\n",
       "      <td>False</td>\n",
       "      <td>False</td>\n",
       "      <td>False</td>\n",
       "      <td>False</td>\n",
       "      <td>False</td>\n",
       "      <td>False</td>\n",
       "      <td>True</td>\n",
       "    </tr>\n",
       "  </tbody>\n",
       "</table>\n",
       "</div>"
      ],
      "text/plain": [
       "                        account length  area code  number vmail messages  \\\n",
       "account length                    True      False                  False   \n",
       "area code                        False       True                  False   \n",
       "number vmail messages            False      False                   True   \n",
       "total day minutes                False      False                  False   \n",
       "total day calls                  False      False                  False   \n",
       "total day charge                 False      False                  False   \n",
       "total eve minutes                False      False                  False   \n",
       "total eve calls                  False      False                  False   \n",
       "total eve charge                 False      False                  False   \n",
       "total night minutes              False      False                  False   \n",
       "total night calls                False      False                  False   \n",
       "total night charge               False      False                  False   \n",
       "total intl minutes               False      False                  False   \n",
       "total intl calls                 False      False                  False   \n",
       "total intl charge                False      False                  False   \n",
       "customer service calls           False      False                  False   \n",
       "churn                            False      False                  False   \n",
       "\n",
       "                        total day minutes  total day calls  total day charge  \\\n",
       "account length                      False            False             False   \n",
       "area code                           False            False             False   \n",
       "number vmail messages               False            False             False   \n",
       "total day minutes                    True            False              True   \n",
       "total day calls                     False             True             False   \n",
       "total day charge                     True            False              True   \n",
       "total eve minutes                   False            False             False   \n",
       "total eve calls                     False            False             False   \n",
       "total eve charge                    False            False             False   \n",
       "total night minutes                 False            False             False   \n",
       "total night calls                   False            False             False   \n",
       "total night charge                  False            False             False   \n",
       "total intl minutes                  False            False             False   \n",
       "total intl calls                    False            False             False   \n",
       "total intl charge                   False            False             False   \n",
       "customer service calls              False            False             False   \n",
       "churn                               False            False             False   \n",
       "\n",
       "                        total eve minutes  total eve calls  total eve charge  \\\n",
       "account length                      False            False             False   \n",
       "area code                           False            False             False   \n",
       "number vmail messages               False            False             False   \n",
       "total day minutes                   False            False             False   \n",
       "total day calls                     False            False             False   \n",
       "total day charge                    False            False             False   \n",
       "total eve minutes                    True            False              True   \n",
       "total eve calls                     False             True             False   \n",
       "total eve charge                     True            False              True   \n",
       "total night minutes                 False            False             False   \n",
       "total night calls                   False            False             False   \n",
       "total night charge                  False            False             False   \n",
       "total intl minutes                  False            False             False   \n",
       "total intl calls                    False            False             False   \n",
       "total intl charge                   False            False             False   \n",
       "customer service calls              False            False             False   \n",
       "churn                               False            False             False   \n",
       "\n",
       "                        total night minutes  total night calls  \\\n",
       "account length                        False              False   \n",
       "area code                             False              False   \n",
       "number vmail messages                 False              False   \n",
       "total day minutes                     False              False   \n",
       "total day calls                       False              False   \n",
       "total day charge                      False              False   \n",
       "total eve minutes                     False              False   \n",
       "total eve calls                       False              False   \n",
       "total eve charge                      False              False   \n",
       "total night minutes                    True              False   \n",
       "total night calls                     False               True   \n",
       "total night charge                     True              False   \n",
       "total intl minutes                    False              False   \n",
       "total intl calls                      False              False   \n",
       "total intl charge                     False              False   \n",
       "customer service calls                False              False   \n",
       "churn                                 False              False   \n",
       "\n",
       "                        total night charge  total intl minutes  \\\n",
       "account length                       False               False   \n",
       "area code                            False               False   \n",
       "number vmail messages                False               False   \n",
       "total day minutes                    False               False   \n",
       "total day calls                      False               False   \n",
       "total day charge                     False               False   \n",
       "total eve minutes                    False               False   \n",
       "total eve calls                      False               False   \n",
       "total eve charge                     False               False   \n",
       "total night minutes                   True               False   \n",
       "total night calls                    False               False   \n",
       "total night charge                    True               False   \n",
       "total intl minutes                   False                True   \n",
       "total intl calls                     False               False   \n",
       "total intl charge                    False                True   \n",
       "customer service calls               False               False   \n",
       "churn                                False               False   \n",
       "\n",
       "                        total intl calls  total intl charge  \\\n",
       "account length                     False              False   \n",
       "area code                          False              False   \n",
       "number vmail messages              False              False   \n",
       "total day minutes                  False              False   \n",
       "total day calls                    False              False   \n",
       "total day charge                   False              False   \n",
       "total eve minutes                  False              False   \n",
       "total eve calls                    False              False   \n",
       "total eve charge                   False              False   \n",
       "total night minutes                False              False   \n",
       "total night calls                  False              False   \n",
       "total night charge                 False              False   \n",
       "total intl minutes                 False               True   \n",
       "total intl calls                    True              False   \n",
       "total intl charge                  False               True   \n",
       "customer service calls             False              False   \n",
       "churn                              False              False   \n",
       "\n",
       "                        customer service calls  churn  \n",
       "account length                           False  False  \n",
       "area code                                False  False  \n",
       "number vmail messages                    False  False  \n",
       "total day minutes                        False  False  \n",
       "total day calls                          False  False  \n",
       "total day charge                         False  False  \n",
       "total eve minutes                        False  False  \n",
       "total eve calls                          False  False  \n",
       "total eve charge                         False  False  \n",
       "total night minutes                      False  False  \n",
       "total night calls                        False  False  \n",
       "total night charge                       False  False  \n",
       "total intl minutes                       False  False  \n",
       "total intl calls                         False  False  \n",
       "total intl charge                        False  False  \n",
       "customer service calls                    True  False  \n",
       "churn                                    False   True  "
      ]
     },
     "execution_count": 8,
     "metadata": {},
     "output_type": "execute_result"
    }
   ],
   "source": [
    "abs(df.corr())>0.75"
   ]
  },
  {
   "cell_type": "markdown",
   "metadata": {},
   "source": [
    "It seems the 'charge' categories are highly correlated with their respective 'minutes' categories, so let's go ahead and drop those.\n",
    "\n",
    "I'll print out the regression plots to make sure.\n",
    "\n",
    "#### Minutes vs. Charges\n",
    "\n",
    "Let's take a look at the minutes vs. charges for day, evening and international minutes to confirm they are highly correlated."
   ]
  },
  {
   "cell_type": "code",
   "execution_count": 9,
   "metadata": {
    "scrolled": true
   },
   "outputs": [
    {
     "data": {
      "image/png": "[encoded data removed]",
      "text/plain": [
       "<Figure size 1296x432 with 3 Axes>"
      ]
     },
     "metadata": {
      "needs_background": "light"
     },
     "output_type": "display_data"
    }
   ],
   "source": [
    "# Create Subplots\n",
    "fig, (ax1, ax2, ax3) = plt.subplots(1, 3, figsize=(18,6))\n",
    "        \n",
    "# Figure Title\n",
    "fig.suptitle('Charges vs. Minutes', fontsize=24)\n",
    "\n",
    "# Day\n",
    "sns.regplot(df['total day minutes'], df['total day charge'],ax=ax1)\n",
    "ax1.set_title('Day', fontsize=18)\n",
    "\n",
    "# Evening\n",
    "sns.regplot(df['total eve minutes'], df['total eve charge'],ax=ax2)\n",
    "ax2.set_title('Evening', fontsize=18)\n",
    "\n",
    "# International\n",
    "sns.regplot(df['total intl minutes'], df['total intl charge'],ax=ax3)\n",
    "ax3.set_title('International', fontsize=18)\n",
    "ax3.set_ylim([0.0, 6])\n",
    "ax3.set_xlim([0.0, 21])\n",
    "\n",
    "plt.show()"
   ]
  },
  {
   "cell_type": "markdown",
   "metadata": {},
   "source": [
    "It's pretty clear how strongly correlated these are, which makes sense. Let's go remove  minutes and keep charges. We know the two are highly correlated, so they're essentially both represented in the data. \n",
    "\n",
    "I'm curious to see if churners churn because of charges, so I want to keep those figures."
   ]
  },
  {
   "cell_type": "code",
   "execution_count": 10,
   "metadata": {},
   "outputs": [],
   "source": [
    "drop = ['total day minutes','total eve minutes','total intl minutes']\n",
    "df = df.drop(drop, axis=1)"
   ]
  },
  {
   "cell_type": "markdown",
   "metadata": {},
   "source": [
    "Let's take a look at the features that are categorical. "
   ]
  },
  {
   "cell_type": "markdown",
   "metadata": {},
   "source": [
    "### Feature Exploration"
   ]
  },
  {
   "cell_type": "markdown",
   "metadata": {},
   "source": [
    "#### Charges vs. Customer Service Calls"
   ]
  },
  {
   "cell_type": "markdown",
   "metadata": {},
   "source": [
    "I'm curious to see if there's a relationship between charges and customer service calls. Let's add a new feature called 'total charges' and plot the two."
   ]
  },
  {
   "cell_type": "code",
   "execution_count": 11,
   "metadata": {
    "scrolled": true
   },
   "outputs": [
    {
     "data": {
      "image/png": "[encoded data removed]",
      "text/plain": [
       "<Figure size 432x288 with 1 Axes>"
      ]
     },
     "metadata": {
      "needs_background": "light"
     },
     "output_type": "display_data"
    }
   ],
   "source": [
    "# Create new feature 'total charges' \n",
    "df['total charges'] = df['total day charge'] + df['total eve charge'] + df['total intl charge']\n",
    "\n",
    "# Plot\n",
    "sns.regplot(df['customer service calls'], df['total charges'])\n",
    "plt.title('Total Charges vs. Customer Service Calls')\n",
    "plt.xlabel('Customer Service Calls')\n",
    "plt.ylabel('Total Charges')\n",
    "plt.show()"
   ]
  },
  {
   "cell_type": "markdown",
   "metadata": {},
   "source": [
    "It doesn't look like there's any direct relationship between charges and customer service calls. "
   ]
  },
  {
   "cell_type": "markdown",
   "metadata": {},
   "source": [
    "#### Churn Rate\n",
    "Let's take a look at the relationships between customer service calls, voice mail plan, international plan and churn and see if there are any patterns between these features and churn."
   ]
  },
  {
   "cell_type": "code",
   "execution_count": 12,
   "metadata": {},
   "outputs": [
    {
     "data": {
      "image/png": "[encoded data removed]",
      "text/plain": [
       "<Figure size 432x288 with 1 Axes>"
      ]
     },
     "metadata": {
      "needs_background": "light"
     },
     "output_type": "display_data"
    },
    {
     "data": {
      "image/png": "[encoded data removed]",
      "text/plain": [
       "<Figure size 432x288 with 1 Axes>"
      ]
     },
     "metadata": {
      "needs_background": "light"
     },
     "output_type": "display_data"
    },
    {
     "data": {
      "image/png": "[encoded data removed]",
      "text/plain": [
       "<Figure size 432x288 with 1 Axes>"
      ]
     },
     "metadata": {
      "needs_background": "light"
     },
     "output_type": "display_data"
    },
    {
     "data": {
      "image/png": "[encoded data removed]",
      "text/plain": [
       "<Figure size 432x288 with 1 Axes>"
      ]
     },
     "metadata": {
      "needs_background": "light"
     },
     "output_type": "display_data"
    },
    {
     "data": {
      "image/png": "[encoded data removed]",
      "text/plain": [
       "<Figure size 1080x360 with 1 Axes>"
      ]
     },
     "metadata": {
      "needs_background": "light"
     },
     "output_type": "display_data"
    }
   ],
   "source": [
    "# Identify features we will be looking at\n",
    "features = ['customer service calls', \n",
    "            'voice mail plan', \n",
    "            'international plan',\n",
    "            'area code', \n",
    "            'state'\n",
    "           ]\n",
    "\n",
    "### Normalized Stacked Bar Plots ### \n",
    "\n",
    "# Loop to create normalized stacked bar plots\n",
    "for feature in features:\n",
    "    \n",
    "    # Groupby feature for churners & non-churners\n",
    "    counts = df.groupby([feature, \"churn\"]).size().unstack()\n",
    "    \n",
    "    # Count n observations for each category\n",
    "    feature_counts = counts.sum(axis = 'columns')\n",
    "\n",
    "    # Normalize by dividing by counts\n",
    "    feature_props = counts.div(feature_counts, axis = 'index')\n",
    "    if feature != 'state':\n",
    "        # Plot stacked bar chart\n",
    "        feature_props.plot.barh(stacked = True)\n",
    "    elif feature == 'state':\n",
    "        feature_props.plot.bar(stacked = True, figsize=(15,5))\n",
    "    \n",
    "    # Legend\n",
    "    plt.legend(loc = 'top right',\n",
    "               bbox_to_anchor = (1.05,0.5),\n",
    "               title = 'Churned')\n",
    "    \n",
    "    # Title, labels & axis limit\n",
    "    plt.title(f'{feature.title()} & Churn')\n",
    "    plt.ylabel(f'{feature.title()}')\n",
    "\n",
    "    plt.show()"
   ]
  },
  {
   "cell_type": "markdown",
   "metadata": {},
   "source": [
    "Wow, we can definitely see a relationship where it appears <b>customers with international plans are more likely to churn</b>. \n",
    "\n",
    "\n",
    "It also appears that customers who made more customer service calls are more likely to churn, however I'm curious to see how many data points or observations we have for the higher number of customer service calls. We'll take a closer look at counts in our next step. \n",
    "\n",
    "\n",
    "Area code and state don't seem to show much of a pattern. Something that's interesting too is that we only have 3 area codes, which are all from the San Francisco area, yet we have all 51 states represented.\n",
    "\n",
    "\n",
    "Since there's not much of a relationship here and there's an apparent discrepancy, I'm going to remove these features. I did look into this, but it didn't seem anyone who's used this dataset, nor the owner of it on kaggle, identified this issue. It could be that these are cell phone accounts who then moved out of state, but kept their same phone number.\n",
    "\n",
    "Let's take a look at the counts for customer service calls."
   ]
  },
  {
   "cell_type": "code",
   "execution_count": 13,
   "metadata": {},
   "outputs": [
    {
     "data": {
      "text/html": [
       "<div>\n",
       "<style scoped>\n",
       "    .dataframe tbody tr th:only-of-type {\n",
       "        vertical-align: middle;\n",
       "    }\n",
       "\n",
       "    .dataframe tbody tr th {\n",
       "        vertical-align: top;\n",
       "    }\n",
       "\n",
       "    .dataframe thead th {\n",
       "        text-align: right;\n",
       "    }\n",
       "</style>\n",
       "<table border=\"1\" class=\"dataframe\">\n",
       "  <thead>\n",
       "    <tr style=\"text-align: right;\">\n",
       "      <th>churn</th>\n",
       "      <th>False</th>\n",
       "      <th>True</th>\n",
       "    </tr>\n",
       "    <tr>\n",
       "      <th>customer service calls</th>\n",
       "      <th></th>\n",
       "      <th></th>\n",
       "    </tr>\n",
       "  </thead>\n",
       "  <tbody>\n",
       "    <tr>\n",
       "      <td>0</td>\n",
       "      <td>605.0</td>\n",
       "      <td>92.0</td>\n",
       "    </tr>\n",
       "    <tr>\n",
       "      <td>1</td>\n",
       "      <td>1059.0</td>\n",
       "      <td>122.0</td>\n",
       "    </tr>\n",
       "    <tr>\n",
       "      <td>2</td>\n",
       "      <td>672.0</td>\n",
       "      <td>87.0</td>\n",
       "    </tr>\n",
       "    <tr>\n",
       "      <td>3</td>\n",
       "      <td>385.0</td>\n",
       "      <td>44.0</td>\n",
       "    </tr>\n",
       "    <tr>\n",
       "      <td>4</td>\n",
       "      <td>90.0</td>\n",
       "      <td>76.0</td>\n",
       "    </tr>\n",
       "    <tr>\n",
       "      <td>5</td>\n",
       "      <td>26.0</td>\n",
       "      <td>40.0</td>\n",
       "    </tr>\n",
       "    <tr>\n",
       "      <td>6</td>\n",
       "      <td>8.0</td>\n",
       "      <td>14.0</td>\n",
       "    </tr>\n",
       "    <tr>\n",
       "      <td>7</td>\n",
       "      <td>4.0</td>\n",
       "      <td>5.0</td>\n",
       "    </tr>\n",
       "    <tr>\n",
       "      <td>8</td>\n",
       "      <td>1.0</td>\n",
       "      <td>1.0</td>\n",
       "    </tr>\n",
       "    <tr>\n",
       "      <td>9</td>\n",
       "      <td>NaN</td>\n",
       "      <td>2.0</td>\n",
       "    </tr>\n",
       "  </tbody>\n",
       "</table>\n",
       "</div>"
      ],
      "text/plain": [
       "churn                    False  True \n",
       "customer service calls               \n",
       "0                        605.0   92.0\n",
       "1                       1059.0  122.0\n",
       "2                        672.0   87.0\n",
       "3                        385.0   44.0\n",
       "4                         90.0   76.0\n",
       "5                         26.0   40.0\n",
       "6                          8.0   14.0\n",
       "7                          4.0    5.0\n",
       "8                          1.0    1.0\n",
       "9                          NaN    2.0"
      ]
     },
     "execution_count": 13,
     "metadata": {},
     "output_type": "execute_result"
    }
   ],
   "source": [
    "df.groupby(['customer service calls', 'churn']).size().unstack()"
   ]
  },
  {
   "cell_type": "markdown",
   "metadata": {},
   "source": [
    "We can see as we get to the higher numbers of customer service calls there are fewer datapoints. This could lead to overfitting. We could either remove them, bin the feature or normalize our data. "
   ]
  },
  {
   "cell_type": "code",
   "execution_count": 14,
   "metadata": {},
   "outputs": [
    {
     "data": {
      "image/png": "[encoded data removed]",
      "text/plain": [
       "<Figure size 432x288 with 1 Axes>"
      ]
     },
     "metadata": {
      "needs_background": "light"
     },
     "output_type": "display_data"
    }
   ],
   "source": [
    "# Boxplot to look at quartiles and \n",
    "# range of customer service calls\n",
    "sns.boxplot(df['customer service calls']);"
   ]
  },
  {
   "cell_type": "markdown",
   "metadata": {},
   "source": [
    "#### Account Length"
   ]
  },
  {
   "cell_type": "markdown",
   "metadata": {},
   "source": [
    "I'm curious to see if account length is related to churn. As customers who have been with a company longer are known to be more loyal. Let's see."
   ]
  },
  {
   "cell_type": "code",
   "execution_count": 15,
   "metadata": {},
   "outputs": [
    {
     "data": {
      "image/png": "[encoded data removed]",
      "text/plain": [
       "<Figure size 432x288 with 1 Axes>"
      ]
     },
     "metadata": {
      "needs_background": "light"
     },
     "output_type": "display_data"
    }
   ],
   "source": [
    "# Separate churned from didn't churn\n",
    "churn_df_true = df[df['churn'] == True] \n",
    "churn_df_false = df[df['churn'] == False]\n",
    "\n",
    "# Plot distribution plot of account length\n",
    "sns.distplot(churn_df_true['account length'], label='churned')\n",
    "sns.distplot(churn_df_false['account length'], label=f\"didn't churn\")\n",
    "plt.title('Account Length')\n",
    "plt.xlabel('Account Length')\n",
    "plt.ylabel('Frequency')\n",
    "plt.legend();"
   ]
  },
  {
   "cell_type": "markdown",
   "metadata": {},
   "source": [
    "There does not appear to be a relationship between churn and account length, as we can see by the overlapping frequency distribusions. \n",
    "\n",
    "The dataset did not provide a unit description for account length. No other kernels addressed it either. I did a little research online and did not find further information about this unit length. "
   ]
  },
  {
   "cell_type": "markdown",
   "metadata": {},
   "source": [
    "#### Churn: Target Variable\n",
    "\n",
    "Let's explore our target variable, churn. "
   ]
  },
  {
   "cell_type": "code",
   "execution_count": 16,
   "metadata": {},
   "outputs": [
    {
     "name": "stdout",
     "output_type": "stream",
     "text": [
      "Counts: \n",
      "False    2850\n",
      "True      483\n",
      "Name: churn, dtype: int64 \n",
      "\n",
      "Normalized: \n",
      "False    0.86\n",
      "True     0.14\n",
      "Name: churn, dtype: float64 \n",
      "\n"
     ]
    },
    {
     "data": {
      "image/png": "[encoded data removed]",
      "text/plain": [
       "<Figure size 432x288 with 1 Axes>"
      ]
     },
     "metadata": {
      "needs_background": "light"
     },
     "output_type": "display_data"
    }
   ],
   "source": [
    "# Print Value Counts\n",
    "print(f\"Counts: \\n{df.churn.value_counts()} \\n\")\n",
    "\n",
    "# Print Normalized Value Counts\n",
    "print(f\"Normalized: \\n{df.churn.value_counts(normalize=True).round(2)} \\n\")\n",
    "\n",
    "# Plot Value Counts\n",
    "sns.countplot(df['churn'])\n",
    "plt.title('Churn vs. Non-Churn Counts')\n",
    "plt.xlabel('Churn')\n",
    "plt.ylabel('Counts')\n",
    "plt.show()"
   ]
  },
  {
   "cell_type": "markdown",
   "metadata": {},
   "source": [
    "We can see there is a class imbalance here, so we'll want to address that by balancing the classes. We'll use SMOTE further down to accomplish this. "
   ]
  },
  {
   "cell_type": "markdown",
   "metadata": {},
   "source": [
    "## Pre-processing"
   ]
  },
  {
   "cell_type": "markdown",
   "metadata": {},
   "source": [
    "### One-Hot-Encode Categorical Data\n",
    "\n",
    "I'm using pd.get_dummies to one-hot-encode the categorical data. An alternative would be to use sklearn's OneHotEncoder or LabelEncoder.\n",
    "\n",
    "I previously ran the models with all 51 states one-hot-encoded. I then dropped them and re-ran the models. They performed much better without the state data. So we're going to leave them dropped here, right we one-hot-encode our categorical data."
   ]
  },
  {
   "cell_type": "code",
   "execution_count": 17,
   "metadata": {},
   "outputs": [
    {
     "data": {
      "text/html": [
       "<div>\n",
       "<style scoped>\n",
       "    .dataframe tbody tr th:only-of-type {\n",
       "        vertical-align: middle;\n",
       "    }\n",
       "\n",
       "    .dataframe tbody tr th {\n",
       "        vertical-align: top;\n",
       "    }\n",
       "\n",
       "    .dataframe thead th {\n",
       "        text-align: right;\n",
       "    }\n",
       "</style>\n",
       "<table border=\"1\" class=\"dataframe\">\n",
       "  <thead>\n",
       "    <tr style=\"text-align: right;\">\n",
       "      <th></th>\n",
       "      <th>account length</th>\n",
       "      <th>number vmail messages</th>\n",
       "      <th>total day calls</th>\n",
       "      <th>total day charge</th>\n",
       "      <th>total eve calls</th>\n",
       "      <th>total eve charge</th>\n",
       "      <th>total night minutes</th>\n",
       "      <th>total night calls</th>\n",
       "      <th>total night charge</th>\n",
       "      <th>total intl calls</th>\n",
       "      <th>total intl charge</th>\n",
       "      <th>customer service calls</th>\n",
       "      <th>churn</th>\n",
       "      <th>total charges</th>\n",
       "      <th>international plan_yes</th>\n",
       "      <th>voice mail plan_yes</th>\n",
       "    </tr>\n",
       "  </thead>\n",
       "  <tbody>\n",
       "    <tr>\n",
       "      <td>0</td>\n",
       "      <td>128</td>\n",
       "      <td>25</td>\n",
       "      <td>110</td>\n",
       "      <td>45.07</td>\n",
       "      <td>99</td>\n",
       "      <td>16.78</td>\n",
       "      <td>244.7</td>\n",
       "      <td>91</td>\n",
       "      <td>11.01</td>\n",
       "      <td>3</td>\n",
       "      <td>2.70</td>\n",
       "      <td>1</td>\n",
       "      <td>False</td>\n",
       "      <td>64.55</td>\n",
       "      <td>0</td>\n",
       "      <td>1</td>\n",
       "    </tr>\n",
       "    <tr>\n",
       "      <td>1</td>\n",
       "      <td>107</td>\n",
       "      <td>26</td>\n",
       "      <td>123</td>\n",
       "      <td>27.47</td>\n",
       "      <td>103</td>\n",
       "      <td>16.62</td>\n",
       "      <td>254.4</td>\n",
       "      <td>103</td>\n",
       "      <td>11.45</td>\n",
       "      <td>3</td>\n",
       "      <td>3.70</td>\n",
       "      <td>1</td>\n",
       "      <td>False</td>\n",
       "      <td>47.79</td>\n",
       "      <td>0</td>\n",
       "      <td>1</td>\n",
       "    </tr>\n",
       "    <tr>\n",
       "      <td>2</td>\n",
       "      <td>137</td>\n",
       "      <td>0</td>\n",
       "      <td>114</td>\n",
       "      <td>41.38</td>\n",
       "      <td>110</td>\n",
       "      <td>10.30</td>\n",
       "      <td>162.6</td>\n",
       "      <td>104</td>\n",
       "      <td>7.32</td>\n",
       "      <td>5</td>\n",
       "      <td>3.29</td>\n",
       "      <td>0</td>\n",
       "      <td>False</td>\n",
       "      <td>54.97</td>\n",
       "      <td>0</td>\n",
       "      <td>0</td>\n",
       "    </tr>\n",
       "    <tr>\n",
       "      <td>3</td>\n",
       "      <td>84</td>\n",
       "      <td>0</td>\n",
       "      <td>71</td>\n",
       "      <td>50.90</td>\n",
       "      <td>88</td>\n",
       "      <td>5.26</td>\n",
       "      <td>196.9</td>\n",
       "      <td>89</td>\n",
       "      <td>8.86</td>\n",
       "      <td>7</td>\n",
       "      <td>1.78</td>\n",
       "      <td>2</td>\n",
       "      <td>False</td>\n",
       "      <td>57.94</td>\n",
       "      <td>1</td>\n",
       "      <td>0</td>\n",
       "    </tr>\n",
       "    <tr>\n",
       "      <td>4</td>\n",
       "      <td>75</td>\n",
       "      <td>0</td>\n",
       "      <td>113</td>\n",
       "      <td>28.34</td>\n",
       "      <td>122</td>\n",
       "      <td>12.61</td>\n",
       "      <td>186.9</td>\n",
       "      <td>121</td>\n",
       "      <td>8.41</td>\n",
       "      <td>3</td>\n",
       "      <td>2.73</td>\n",
       "      <td>3</td>\n",
       "      <td>False</td>\n",
       "      <td>43.68</td>\n",
       "      <td>1</td>\n",
       "      <td>0</td>\n",
       "    </tr>\n",
       "  </tbody>\n",
       "</table>\n",
       "</div>"
      ],
      "text/plain": [
       "   account length  number vmail messages  total day calls  total day charge  \\\n",
       "0             128                     25              110             45.07   \n",
       "1             107                     26              123             27.47   \n",
       "2             137                      0              114             41.38   \n",
       "3              84                      0               71             50.90   \n",
       "4              75                      0              113             28.34   \n",
       "\n",
       "   total eve calls  total eve charge  total night minutes  total night calls  \\\n",
       "0               99             16.78                244.7                 91   \n",
       "1              103             16.62                254.4                103   \n",
       "2              110             10.30                162.6                104   \n",
       "3               88              5.26                196.9                 89   \n",
       "4              122             12.61                186.9                121   \n",
       "\n",
       "   total night charge  total intl calls  total intl charge  \\\n",
       "0               11.01                 3               2.70   \n",
       "1               11.45                 3               3.70   \n",
       "2                7.32                 5               3.29   \n",
       "3                8.86                 7               1.78   \n",
       "4                8.41                 3               2.73   \n",
       "\n",
       "   customer service calls  churn  total charges  international plan_yes  \\\n",
       "0                       1  False          64.55                       0   \n",
       "1                       1  False          47.79                       0   \n",
       "2                       0  False          54.97                       0   \n",
       "3                       2  False          57.94                       1   \n",
       "4                       3  False          43.68                       1   \n",
       "\n",
       "   voice mail plan_yes  \n",
       "0                    1  \n",
       "1                    1  \n",
       "2                    0  \n",
       "3                    0  \n",
       "4                    0  "
      ]
     },
     "execution_count": 17,
     "metadata": {},
     "output_type": "execute_result"
    }
   ],
   "source": [
    "# Drop states & area code\n",
    "drop = ['state', 'area code']\n",
    "df = df.drop(drop, axis=1)\n",
    "\n",
    "# One-hot-encode with pd.get_dumies\n",
    "df = pd.get_dummies(df,drop_first=True)\n",
    "\n",
    "# Take a look\n",
    "df.head()"
   ]
  },
  {
   "cell_type": "markdown",
   "metadata": {},
   "source": [
    "Looks good. "
   ]
  },
  {
   "cell_type": "markdown",
   "metadata": {},
   "source": [
    "### Separate Target & Predictor Variables\n",
    "\n",
    "Now we're going to separate out the target variable from the predictor variables and train-test split."
   ]
  },
  {
   "cell_type": "code",
   "execution_count": 18,
   "metadata": {},
   "outputs": [],
   "source": [
    "# Define X and y variables\n",
    "y = df['churn']\n",
    "X = df.drop(['churn'], axis=1)\n",
    "\n",
    "# Define Random State\n",
    "seed = 20\n",
    "\n",
    "# Split the data into training and test sets\n",
    "X_train, X_test, y_train, y_test = train_test_split(X, \n",
    "                                                    y, \n",
    "                                                    test_size=0.25, \n",
    "                                                    random_state=seed)\n",
    "\n",
    "# Splitting with X & y in np.array format for XGBoost\n",
    "X_train_xgb, X_test_xgb, y_train_xgb, y_test_xgb = train_test_split(X.values, \n",
    "                                                                    y.values, \n",
    "                                                                    test_size=0.25, \n",
    "                                                                    random_state=seed)"
   ]
  },
  {
   "cell_type": "markdown",
   "metadata": {},
   "source": [
    "### Address Class Imbalance\n",
    "\n",
    "Address the class imbalance using SMOTE to synthetically oversample the minority class.\n",
    "\n",
    "We process XGBoost separately as it uses values only. This will make it easier to batch process when we get to our function that does so."
   ]
  },
  {
   "cell_type": "code",
   "execution_count": 19,
   "metadata": {},
   "outputs": [
    {
     "name": "stdout",
     "output_type": "stream",
     "text": [
      "Before:\n",
      "\n",
      "False    2136\n",
      "True      363\n",
      "Name: churn, dtype: int64\n",
      "\n",
      "False    2136\n",
      "True      363\n",
      "dtype: int64\n",
      "\n",
      "After:\n",
      "\n",
      "True     2136\n",
      "False    2136\n",
      "dtype: int64\n",
      "\n",
      "True     2136\n",
      "False    2136\n",
      "dtype: int64\n"
     ]
    }
   ],
   "source": [
    "# Previous original class distribution\n",
    "print(\"Before:\")\n",
    "print(f\"\\n{y_train.value_counts()}\")\n",
    "print(f\"\\n{pd.Series(y_train_xgb).value_counts()}\")\n",
    "\n",
    "# Fit SMOTE to training data\n",
    "smote = SMOTE()\n",
    "X_train_resampled, y_train_resampled = smote.fit_sample(X_train, y_train)\n",
    "# np.values format for XGBoost\n",
    "X_train_resampled_xgb, y_train_resampled_xgb = smote.fit_sample(X_train_xgb, y_train_xgb)\n",
    "\n",
    "# Preview synthetic sample class distribution\n",
    "print(\"\\nAfter:\\n\")\n",
    "print(f\"{pd.Series(y_train_resampled).value_counts()}\") \n",
    "print(f\"\\n{pd.Series(y_train_resampled_xgb).value_counts()}\") "
   ]
  },
  {
   "cell_type": "markdown",
   "metadata": {},
   "source": [
    "We can see the classes are now balanced. Looks good. Now let's go ahead and start modeling...\n",
    "\n",
    "## Baseline Models\n",
    "\n",
    "Create a DataFrame that contains:\n",
    "- Our 3 initial classifiers\n",
    "- Class balanced training data (X & y)\n",
    "- Test data (X & y)\n",
    "\n",
    "Then create a function to fit our models, make predictions, calculate the\n",
    "accuracy scores, and return everything in a DataFrame. \n",
    "\n",
    "### Instantiate Classifiers"
   ]
  },
  {
   "cell_type": "code",
   "execution_count": 38,
   "metadata": {
    "code_folding": []
   },
   "outputs": [],
   "source": [
    "### Instantiate Classifiers ###\n",
    "\n",
    "# Bagging Tree\n",
    "bag_clf = BaggingClassifier(\n",
    "    DecisionTreeClassifier(),\n",
    "    random_state=seed)\n",
    "\n",
    "# Random Forest\n",
    "rnd_clf = RandomForestClassifier(random_state=seed)\n",
    "\n",
    "# XGBoost \n",
    "xgb_clf = xgb.XGBClassifier(random_state=seed)\n",
    "\n",
    "### Create Dictionary of Classifiers ###\n",
    "\n",
    "clf_dict = {0:\n",
    "    {'clf_name': 'Bagging Tree',\n",
    "     'clfs': bag_clf,\n",
    "     'X_train': X_train_resampled,\n",
    "     'X_test': X_test,\n",
    "     'y_train': y_train_resampled,\n",
    "     'y_test': y_test},\n",
    "            1:\n",
    "    {'clf_name': 'Random Forest',\n",
    "     'clfs': rnd_clf,\n",
    "     'X_train': X_train_resampled,\n",
    "     'X_test': X_test,\n",
    "     'y_train': y_train_resampled,\n",
    "     'y_test': y_test},\n",
    "            2:\n",
    "    {'clf_name': 'XGBoost',\n",
    "     'clfs': xgb_clf,\n",
    "     'X_train': X_train_resampled_xgb,\n",
    "     'X_test': X_test_xgb,\n",
    "     'y_train': y_train_resampled_xgb,\n",
    "     'y_test': y_test_xgb}}\n",
    "\n",
    "### Convert into DataFrame ##\n",
    "\n",
    "models_df = pd.DataFrame.from_dict(clf_dict, orient='index')"
   ]
  },
  {
   "cell_type": "markdown",
   "metadata": {},
   "source": [
    "### Fit & Predict\n",
    "\n",
    "We'll use our function from our clf_functions module. "
   ]
  },
  {
   "cell_type": "code",
   "execution_count": 21,
   "metadata": {},
   "outputs": [
    {
     "data": {
      "text/html": [
       "<div>\n",
       "<style scoped>\n",
       "    .dataframe tbody tr th:only-of-type {\n",
       "        vertical-align: middle;\n",
       "    }\n",
       "\n",
       "    .dataframe tbody tr th {\n",
       "        vertical-align: top;\n",
       "    }\n",
       "\n",
       "    .dataframe thead th {\n",
       "        text-align: right;\n",
       "    }\n",
       "</style>\n",
       "<table border=\"1\" class=\"dataframe\">\n",
       "  <thead>\n",
       "    <tr style=\"text-align: right;\">\n",
       "      <th></th>\n",
       "      <th>Classifier</th>\n",
       "      <th>Model</th>\n",
       "      <th>Fitted Model</th>\n",
       "      <th>Runtime</th>\n",
       "      <th>Train Preds</th>\n",
       "      <th>Test Preds</th>\n",
       "      <th>Train y-Score</th>\n",
       "      <th>Test y-Score</th>\n",
       "      <th>Train FPR</th>\n",
       "      <th>Train TPR</th>\n",
       "      <th>...</th>\n",
       "      <th>Train F1</th>\n",
       "      <th>Test F1</th>\n",
       "      <th>Train Accuracy</th>\n",
       "      <th>Test Accuracy</th>\n",
       "      <th>Train ROC AUC</th>\n",
       "      <th>Test ROC AUC</th>\n",
       "      <th>X_train</th>\n",
       "      <th>X_test</th>\n",
       "      <th>y_train</th>\n",
       "      <th>y_test</th>\n",
       "    </tr>\n",
       "  </thead>\n",
       "  <tbody>\n",
       "    <tr>\n",
       "      <td>0</td>\n",
       "      <td>Bagging Tree</td>\n",
       "      <td>(DecisionTreeClassifier(ccp_alpha=0.0, class_w...</td>\n",
       "      <td>(DecisionTreeClassifier(ccp_alpha=0.0, class_w...</td>\n",
       "      <td>0.27704</td>\n",
       "      <td>[False, False, True, False, False, False, Fals...</td>\n",
       "      <td>[True, False, False, False, True, False, True,...</td>\n",
       "      <td>[[1.0, 0.0], [1.0, 0.0], [0.1, 0.9], [1.0, 0.0...</td>\n",
       "      <td>[[0.2, 0.8], [0.9, 0.1], [1.0, 0.0], [1.0, 0.0...</td>\n",
       "      <td>[0.0, 0.0, 0.0, 0.0, 0.0, 0.001404494382022471...</td>\n",
       "      <td>[0.0, 0.8955992509363296, 0.9396067415730337, ...</td>\n",
       "      <td>...</td>\n",
       "      <td>0.993649</td>\n",
       "      <td>0.838174</td>\n",
       "      <td>0.99368</td>\n",
       "      <td>0.953237</td>\n",
       "      <td>0.99368</td>\n",
       "      <td>0.906828</td>\n",
       "      <td>[[42.0, 0.0, 52.0, 25.62, 96.0, 20.97, 103.8, ...</td>\n",
       "      <td>account length  number vmail messages  t...</td>\n",
       "      <td>[False, False, True, False, False, False, Fals...</td>\n",
       "      <td>2824     True\n",
       "1106    False\n",
       "972     False\n",
       "1188...</td>\n",
       "    </tr>\n",
       "    <tr>\n",
       "      <td>1</td>\n",
       "      <td>Random Forest</td>\n",
       "      <td>(DecisionTreeClassifier(ccp_alpha=0.0, class_w...</td>\n",
       "      <td>(DecisionTreeClassifier(ccp_alpha=0.0, class_w...</td>\n",
       "      <td>0.621279</td>\n",
       "      <td>[False, False, True, False, False, False, Fals...</td>\n",
       "      <td>[True, False, False, False, False, False, True...</td>\n",
       "      <td>[[0.99, 0.01], [0.95, 0.05], [0.11, 0.89], [0....</td>\n",
       "      <td>[[0.11, 0.89], [0.74, 0.26], [0.93, 0.07], [0....</td>\n",
       "      <td>[0.0, 0.0, 0.0, 0.0, 0.0, 0.0, 0.0, 0.0, 0.0, ...</td>\n",
       "      <td>[0.0, 0.2851123595505618, 0.4700374531835206, ...</td>\n",
       "      <td>...</td>\n",
       "      <td>1</td>\n",
       "      <td>0.846154</td>\n",
       "      <td>1</td>\n",
       "      <td>0.956835</td>\n",
       "      <td>1</td>\n",
       "      <td>0.901996</td>\n",
       "      <td>[[42.0, 0.0, 52.0, 25.62, 96.0, 20.97, 103.8, ...</td>\n",
       "      <td>account length  number vmail messages  t...</td>\n",
       "      <td>[False, False, True, False, False, False, Fals...</td>\n",
       "      <td>2824     True\n",
       "1106    False\n",
       "972     False\n",
       "1188...</td>\n",
       "    </tr>\n",
       "    <tr>\n",
       "      <td>2</td>\n",
       "      <td>XGBoost</td>\n",
       "      <td>XGBClassifier(base_score=0.5, booster='gbtree'...</td>\n",
       "      <td>XGBClassifier(base_score=0.5, booster='gbtree'...</td>\n",
       "      <td>0.586755</td>\n",
       "      <td>[False, False, True, False, False, False, Fals...</td>\n",
       "      <td>[True, False, False, False, True, False, True,...</td>\n",
       "      <td>[[0.94903666, 0.05096337], [0.94596756, 0.0540...</td>\n",
       "      <td>[[0.00866586, 0.99133414], [0.88725924, 0.1127...</td>\n",
       "      <td>[0.0, 0.0, 0.0, 0.0, 0.0, 0.0, 0.0, 0.0, 0.0, ...</td>\n",
       "      <td>[0.0, 0.00046816479400749064, 0.00093632958801...</td>\n",
       "      <td>...</td>\n",
       "      <td>0.968171</td>\n",
       "      <td>0.829876</td>\n",
       "      <td>0.968633</td>\n",
       "      <td>0.950839</td>\n",
       "      <td>0.968633</td>\n",
       "      <td>0.901961</td>\n",
       "      <td>[[42.0, 0.0, 52.0, 25.62, 96.0, 20.97, 103.8, ...</td>\n",
       "      <td>[[81.0, 0.0, 48.0, 55.2, 82.0, 20.09, 187.6, 7...</td>\n",
       "      <td>[False, False, True, False, False, False, Fals...</td>\n",
       "      <td>[True, False, False, False, True, False, True,...</td>\n",
       "    </tr>\n",
       "  </tbody>\n",
       "</table>\n",
       "<p>3 rows × 26 columns</p>\n",
       "</div>"
      ],
      "text/plain": [
       "      Classifier                                              Model  \\\n",
       "0   Bagging Tree  (DecisionTreeClassifier(ccp_alpha=0.0, class_w...   \n",
       "1  Random Forest  (DecisionTreeClassifier(ccp_alpha=0.0, class_w...   \n",
       "2        XGBoost  XGBClassifier(base_score=0.5, booster='gbtree'...   \n",
       "\n",
       "                                        Fitted Model   Runtime  \\\n",
       "0  (DecisionTreeClassifier(ccp_alpha=0.0, class_w...   0.27704   \n",
       "1  (DecisionTreeClassifier(ccp_alpha=0.0, class_w...  0.621279   \n",
       "2  XGBClassifier(base_score=0.5, booster='gbtree'...  0.586755   \n",
       "\n",
       "                                         Train Preds  \\\n",
       "0  [False, False, True, False, False, False, Fals...   \n",
       "1  [False, False, True, False, False, False, Fals...   \n",
       "2  [False, False, True, False, False, False, Fals...   \n",
       "\n",
       "                                          Test Preds  \\\n",
       "0  [True, False, False, False, True, False, True,...   \n",
       "1  [True, False, False, False, False, False, True...   \n",
       "2  [True, False, False, False, True, False, True,...   \n",
       "\n",
       "                                       Train y-Score  \\\n",
       "0  [[1.0, 0.0], [1.0, 0.0], [0.1, 0.9], [1.0, 0.0...   \n",
       "1  [[0.99, 0.01], [0.95, 0.05], [0.11, 0.89], [0....   \n",
       "2  [[0.94903666, 0.05096337], [0.94596756, 0.0540...   \n",
       "\n",
       "                                        Test y-Score  \\\n",
       "0  [[0.2, 0.8], [0.9, 0.1], [1.0, 0.0], [1.0, 0.0...   \n",
       "1  [[0.11, 0.89], [0.74, 0.26], [0.93, 0.07], [0....   \n",
       "2  [[0.00866586, 0.99133414], [0.88725924, 0.1127...   \n",
       "\n",
       "                                           Train FPR  \\\n",
       "0  [0.0, 0.0, 0.0, 0.0, 0.0, 0.001404494382022471...   \n",
       "1  [0.0, 0.0, 0.0, 0.0, 0.0, 0.0, 0.0, 0.0, 0.0, ...   \n",
       "2  [0.0, 0.0, 0.0, 0.0, 0.0, 0.0, 0.0, 0.0, 0.0, ...   \n",
       "\n",
       "                                           Train TPR  ...  Train F1   Test F1  \\\n",
       "0  [0.0, 0.8955992509363296, 0.9396067415730337, ...  ...  0.993649  0.838174   \n",
       "1  [0.0, 0.2851123595505618, 0.4700374531835206, ...  ...         1  0.846154   \n",
       "2  [0.0, 0.00046816479400749064, 0.00093632958801...  ...  0.968171  0.829876   \n",
       "\n",
       "  Train Accuracy Test Accuracy Train ROC AUC Test ROC AUC  \\\n",
       "0        0.99368      0.953237       0.99368     0.906828   \n",
       "1              1      0.956835             1     0.901996   \n",
       "2       0.968633      0.950839      0.968633     0.901961   \n",
       "\n",
       "                                             X_train  \\\n",
       "0  [[42.0, 0.0, 52.0, 25.62, 96.0, 20.97, 103.8, ...   \n",
       "1  [[42.0, 0.0, 52.0, 25.62, 96.0, 20.97, 103.8, ...   \n",
       "2  [[42.0, 0.0, 52.0, 25.62, 96.0, 20.97, 103.8, ...   \n",
       "\n",
       "                                              X_test  \\\n",
       "0        account length  number vmail messages  t...   \n",
       "1        account length  number vmail messages  t...   \n",
       "2  [[81.0, 0.0, 48.0, 55.2, 82.0, 20.09, 187.6, 7...   \n",
       "\n",
       "                                             y_train  \\\n",
       "0  [False, False, True, False, False, False, Fals...   \n",
       "1  [False, False, True, False, False, False, Fals...   \n",
       "2  [False, False, True, False, False, False, Fals...   \n",
       "\n",
       "                                              y_test  \n",
       "0  2824     True\n",
       "1106    False\n",
       "972     False\n",
       "1188...  \n",
       "1  2824     True\n",
       "1106    False\n",
       "972     False\n",
       "1188...  \n",
       "2  [True, False, False, False, True, False, True,...  \n",
       "\n",
       "[3 rows x 26 columns]"
      ]
     },
     "execution_count": 21,
     "metadata": {},
     "output_type": "execute_result"
    }
   ],
   "source": [
    "# Fit our models\n",
    "clf_preds = clf_pred(models_df)\n",
    "\n",
    "# Take a look at our resulting DataFrame\n",
    "clf_preds"
   ]
  },
  {
   "cell_type": "markdown",
   "metadata": {},
   "source": [
    "We can see how much faster our Bagging Tree Classifier trains than our other models. None take that long, but it is relatively significantly faster. On larger datasets this would save us time."
   ]
  },
  {
   "cell_type": "markdown",
   "metadata": {},
   "source": [
    "### Confusion Matrices\n",
    "\n",
    "Let's take a look at the confusion matrices. We've normalized them for easy interpretation. We care most about recall or the true positive rate.\n",
    "\n",
    "It's okay if we have some false positives in there, but we do want to minimize false negatives. Let's take a look.\n",
    "\n",
    "Again, using a function we created in our clf_functions module. "
   ]
  },
  {
   "cell_type": "code",
   "execution_count": 22,
   "metadata": {},
   "outputs": [
    {
     "data": {
      "image/png": "[encoded data removed]",
      "text/plain": [
       "<Figure size 864x432 with 4 Axes>"
      ]
     },
     "metadata": {
      "needs_background": "light"
     },
     "output_type": "display_data"
    },
    {
     "data": {
      "image/png": "[encoded data removed]",
      "text/plain": [
       "<Figure size 864x432 with 4 Axes>"
      ]
     },
     "metadata": {
      "needs_background": "light"
     },
     "output_type": "display_data"
    },
    {
     "data": {
      "image/png": "[encoded data removed]",
      "text/plain": [
       "<Figure size 864x432 with 4 Axes>"
      ]
     },
     "metadata": {
      "needs_background": "light"
     },
     "output_type": "display_data"
    }
   ],
   "source": [
    "# Apply to our baseline models\n",
    "norm_cm(clf_preds)"
   ]
  },
  {
   "cell_type": "markdown",
   "metadata": {},
   "source": [
    "It definitely looks like the models are overfitting. They're still performing well on the test set. We'll want to make sure we address this in GridSearchCV when we tune our models. "
   ]
  },
  {
   "cell_type": "markdown",
   "metadata": {},
   "source": [
    "### Classification Reports\n",
    "\n",
    "Let's take a look at the Classification Reports for our baseline models. We'll print out both the training and test sets. We can already see our models are all overfitting but all still performing pretty well.\n",
    "\n",
    "We'll use another function from our clf_functions module."
   ]
  },
  {
   "cell_type": "code",
   "execution_count": 23,
   "metadata": {
    "scrolled": true
   },
   "outputs": [
    {
     "name": "stdout",
     "output_type": "stream",
     "text": [
      "Bagging Tree:\n",
      "\n",
      "Train:\n",
      "              precision    recall  f1-score   support\n",
      "\n",
      "       False       0.99      1.00      0.99      2136\n",
      "        True       1.00      0.99      0.99      2136\n",
      "\n",
      "    accuracy                           0.99      4272\n",
      "   macro avg       0.99      0.99      0.99      4272\n",
      "weighted avg       0.99      0.99      0.99      4272\n",
      "\n",
      "\n",
      "Test:\n",
      "              precision    recall  f1-score   support\n",
      "\n",
      "       False       0.97      0.97      0.97       714\n",
      "        True       0.83      0.84      0.84       120\n",
      "\n",
      "    accuracy                           0.95       834\n",
      "   macro avg       0.90      0.91      0.91       834\n",
      "weighted avg       0.95      0.95      0.95       834\n",
      "\n",
      "Random Forest:\n",
      "\n",
      "Train:\n",
      "              precision    recall  f1-score   support\n",
      "\n",
      "       False       1.00      1.00      1.00      2136\n",
      "        True       1.00      1.00      1.00      2136\n",
      "\n",
      "    accuracy                           1.00      4272\n",
      "   macro avg       1.00      1.00      1.00      4272\n",
      "weighted avg       1.00      1.00      1.00      4272\n",
      "\n",
      "\n",
      "Test:\n",
      "              precision    recall  f1-score   support\n",
      "\n",
      "       False       0.97      0.98      0.97       714\n",
      "        True       0.87      0.82      0.85       120\n",
      "\n",
      "    accuracy                           0.96       834\n",
      "   macro avg       0.92      0.90      0.91       834\n",
      "weighted avg       0.96      0.96      0.96       834\n",
      "\n",
      "XGBoost:\n",
      "\n",
      "Train:\n",
      "              precision    recall  f1-score   support\n",
      "\n",
      "       False       0.96      0.98      0.97      2136\n",
      "        True       0.98      0.95      0.97      2136\n",
      "\n",
      "    accuracy                           0.97      4272\n",
      "   macro avg       0.97      0.97      0.97      4272\n",
      "weighted avg       0.97      0.97      0.97      4272\n",
      "\n",
      "\n",
      "Test:\n",
      "              precision    recall  f1-score   support\n",
      "\n",
      "       False       0.97      0.97      0.97       714\n",
      "        True       0.83      0.83      0.83       120\n",
      "\n",
      "    accuracy                           0.95       834\n",
      "   macro avg       0.90      0.90      0.90       834\n",
      "weighted avg       0.95      0.95      0.95       834\n",
      "\n"
     ]
    }
   ],
   "source": [
    "# Print out Classification Reports \n",
    "clf_reports(clf_preds)"
   ]
  },
  {
   "cell_type": "markdown",
   "metadata": {},
   "source": [
    "It's pretty apparent that our classifiers are overfitting. XGBoost seems to have performed the best in not overfitting as much as the others, but still having high accuracy."
   ]
  },
  {
   "cell_type": "markdown",
   "metadata": {},
   "source": [
    "### ROC Curves"
   ]
  },
  {
   "cell_type": "markdown",
   "metadata": {},
   "source": [
    "Let's go ahead and plot all of our classifier ROC curves together, so we can see our true positive vs. false positive rates.\n",
    "\n",
    "We'll use a function from our clf_functions module."
   ]
  },
  {
   "cell_type": "code",
   "execution_count": 24,
   "metadata": {},
   "outputs": [
    {
     "data": {
      "image/png": "[encoded data removed]",
      "text/plain": [
       "<Figure size 864x432 with 2 Axes>"
      ]
     },
     "metadata": {
      "needs_background": "light"
     },
     "output_type": "display_data"
    }
   ],
   "source": [
    "# Plot ROC curves\n",
    "\n",
    "plot_roc(clf_preds)"
   ]
  },
  {
   "cell_type": "markdown",
   "metadata": {},
   "source": [
    "We can see our models overfitting here. We'll address this when we get to the Hyperparameter Tuning step.. "
   ]
  },
  {
   "cell_type": "markdown",
   "metadata": {},
   "source": [
    "### Accuracy Scores"
   ]
  },
  {
   "cell_type": "markdown",
   "metadata": {},
   "source": [
    "Let's take a look at our accuracy scores for our 3 classifiers together. We want to maximize recall and still have good accuracy. We'll also take a look at runtime."
   ]
  },
  {
   "cell_type": "code",
   "execution_count": 71,
   "metadata": {
    "code_folding": []
   },
   "outputs": [],
   "source": [
    "# Function to return table of accuracy scores\n",
    "def acc_scores(clf_preds):\n",
    "    '''\n",
    "    Takes in our DataFrame of classifiers, predictions & metrics.\n",
    "    \n",
    "    Returns a table of accuracy scores as well as runtime of \n",
    "        training each classifier.\n",
    "    '''\n",
    "    \n",
    "    cols = ['Classifier', \n",
    "            'Runtime',\n",
    "            'Train Precision',\n",
    "            'Test Precision', \n",
    "            'Train Recall', \n",
    "            'Test Recall', \n",
    "            'Train F1',\n",
    "            'Test F1', \n",
    "            'Train Accuracy', \n",
    "            'Test Accuracy',\n",
    "            'Train ROC AUC', \n",
    "            'Test ROC AUC', \n",
    "           ]\n",
    "    \n",
    "    acc_scores = clf_preds[cols]\n",
    "    acc_scores = acc_scores.set_index('Classifier')\n",
    "    \n",
    "    return acc_scores.astype(float).round(2)"
   ]
  },
  {
   "cell_type": "code",
   "execution_count": 72,
   "metadata": {},
   "outputs": [
    {
     "data": {
      "text/html": [
       "<div>\n",
       "<style scoped>\n",
       "    .dataframe tbody tr th:only-of-type {\n",
       "        vertical-align: middle;\n",
       "    }\n",
       "\n",
       "    .dataframe tbody tr th {\n",
       "        vertical-align: top;\n",
       "    }\n",
       "\n",
       "    .dataframe thead th {\n",
       "        text-align: right;\n",
       "    }\n",
       "</style>\n",
       "<table border=\"1\" class=\"dataframe\">\n",
       "  <thead>\n",
       "    <tr style=\"text-align: right;\">\n",
       "      <th></th>\n",
       "      <th>Runtime</th>\n",
       "      <th>Train Precision</th>\n",
       "      <th>Test Precision</th>\n",
       "      <th>Train Recall</th>\n",
       "      <th>Test Recall</th>\n",
       "      <th>Train F1</th>\n",
       "      <th>Test F1</th>\n",
       "      <th>Train Accuracy</th>\n",
       "      <th>Test Accuracy</th>\n",
       "      <th>Train ROC AUC</th>\n",
       "      <th>Test ROC AUC</th>\n",
       "    </tr>\n",
       "    <tr>\n",
       "      <th>Classifier</th>\n",
       "      <th></th>\n",
       "      <th></th>\n",
       "      <th></th>\n",
       "      <th></th>\n",
       "      <th></th>\n",
       "      <th></th>\n",
       "      <th></th>\n",
       "      <th></th>\n",
       "      <th></th>\n",
       "      <th></th>\n",
       "      <th></th>\n",
       "    </tr>\n",
       "  </thead>\n",
       "  <tbody>\n",
       "    <tr>\n",
       "      <td>Bagging Tree</td>\n",
       "      <td>0.28</td>\n",
       "      <td>1.00</td>\n",
       "      <td>0.83</td>\n",
       "      <td>0.99</td>\n",
       "      <td>0.84</td>\n",
       "      <td>0.99</td>\n",
       "      <td>0.84</td>\n",
       "      <td>0.99</td>\n",
       "      <td>0.95</td>\n",
       "      <td>0.99</td>\n",
       "      <td>0.91</td>\n",
       "    </tr>\n",
       "    <tr>\n",
       "      <td>Random Forest</td>\n",
       "      <td>0.62</td>\n",
       "      <td>1.00</td>\n",
       "      <td>0.87</td>\n",
       "      <td>1.00</td>\n",
       "      <td>0.82</td>\n",
       "      <td>1.00</td>\n",
       "      <td>0.85</td>\n",
       "      <td>1.00</td>\n",
       "      <td>0.96</td>\n",
       "      <td>1.00</td>\n",
       "      <td>0.90</td>\n",
       "    </tr>\n",
       "    <tr>\n",
       "      <td>XGBoost</td>\n",
       "      <td>0.59</td>\n",
       "      <td>0.98</td>\n",
       "      <td>0.83</td>\n",
       "      <td>0.95</td>\n",
       "      <td>0.83</td>\n",
       "      <td>0.97</td>\n",
       "      <td>0.83</td>\n",
       "      <td>0.97</td>\n",
       "      <td>0.95</td>\n",
       "      <td>0.97</td>\n",
       "      <td>0.90</td>\n",
       "    </tr>\n",
       "  </tbody>\n",
       "</table>\n",
       "</div>"
      ],
      "text/plain": [
       "               Runtime  Train Precision  Test Precision  Train Recall  \\\n",
       "Classifier                                                              \n",
       "Bagging Tree      0.28             1.00            0.83          0.99   \n",
       "Random Forest     0.62             1.00            0.87          1.00   \n",
       "XGBoost           0.59             0.98            0.83          0.95   \n",
       "\n",
       "               Test Recall  Train F1  Test F1  Train Accuracy  Test Accuracy  \\\n",
       "Classifier                                                                     \n",
       "Bagging Tree          0.84      0.99     0.84            0.99           0.95   \n",
       "Random Forest         0.82      1.00     0.85            1.00           0.96   \n",
       "XGBoost               0.83      0.97     0.83            0.97           0.95   \n",
       "\n",
       "               Train ROC AUC  Test ROC AUC  \n",
       "Classifier                                  \n",
       "Bagging Tree            0.99          0.91  \n",
       "Random Forest           1.00          0.90  \n",
       "XGBoost                 0.97          0.90  "
      ]
     },
     "execution_count": 72,
     "metadata": {},
     "output_type": "execute_result"
    }
   ],
   "source": [
    "acc_scores(clf_preds)"
   ]
  },
  {
   "cell_type": "markdown",
   "metadata": {},
   "source": [
    "### Feature Importance\n",
    "\n",
    "We're going to plot the feature importance ranking, so we can see which features are most important to our classification of a customer's likelihood to churn.\n",
    "\n",
    "We'll use a function from our clf_functions module."
   ]
  },
  {
   "cell_type": "code",
   "execution_count": 26,
   "metadata": {},
   "outputs": [
    {
     "data": {
      "image/png": "[encoded data removed]",
      "text/plain": [
       "<Figure size 864x720 with 1 Axes>"
      ]
     },
     "metadata": {
      "needs_background": "light"
     },
     "output_type": "display_data"
    }
   ],
   "source": [
    "# Print feature importance plot\n",
    "xgb_classifier = xgb_clf.fit(X_train_resampled_xgb, y_train_resampled_xgb)\n",
    "feat_rank(xgb_classifier,X)"
   ]
  },
  {
   "cell_type": "markdown",
   "metadata": {},
   "source": [
    "### Cross-validation\n",
    "\n",
    "I'm curious to test different values of crossvalidation k-folds to see if a higher value results in a higher accuracy score. We're going to check for Random Forest."
   ]
  },
  {
   "cell_type": "code",
   "execution_count": 25,
   "metadata": {},
   "outputs": [
    {
     "name": "stdout",
     "output_type": "stream",
     "text": [
      "Mean Cross Validation Score for cv=3: 95.13%\n",
      "Mean Cross Validation Score for cv=6: 95.46%\n",
      "Mean Cross Validation Score for cv=10: 95.93%\n"
     ]
    }
   ],
   "source": [
    "cv_vals = [3,6,10]\n",
    "\n",
    "for cv_val in cv_vals:\n",
    "    rf_clf = RandomForestClassifier(random_state=seed)\n",
    "    mean_rf_cv_score = np.mean(cross_val_score(rf_clf, \n",
    "                                               X_train_resampled, \n",
    "                                               y_train_resampled, \n",
    "                                               cv=cv_val))\n",
    "\n",
    "    print(f\"Mean Cross Validation Score for cv={cv_val}: {mean_rf_cv_score :.2%}\")"
   ]
  },
  {
   "cell_type": "markdown",
   "metadata": {},
   "source": [
    "We can see that a higher cross-validation k-fold does result in higher accuracy. However only by a tiny bit, and the computational time for higher folds increases. When it comes time to use cv in our Grid Search section, we will use cv=3.  "
   ]
  },
  {
   "cell_type": "markdown",
   "metadata": {},
   "source": [
    "## Hyperparameter Tuning\n",
    "\n",
    "We're now going to tune the hyperparameters of our models. All of our models are performing well, however they are overfitting. We will conduct a grid search using GridSearchCV for each classifier.\n",
    "\n",
    "We want to prevent overfitting. We will also use 3 folds for crossvalidation, since we saw before that while higher folds did improve model accuracy scores, it did so at a very small rate (less than 1% from cv=3 to cv=10). Since more folds are computationally costly and therefore take significantly longer to process, we will stick with 3 folds. "
   ]
  },
  {
   "cell_type": "markdown",
   "metadata": {},
   "source": [
    "### Grid Search"
   ]
  },
  {
   "cell_type": "markdown",
   "metadata": {},
   "source": [
    "Define function to conduct grid search on our models' hyperparameters."
   ]
  },
  {
   "cell_type": "code",
   "execution_count": 100,
   "metadata": {},
   "outputs": [],
   "source": [
    "# Define Function to Conduct Grid Search\n",
    "def grid_search(params, clf_df, cv=3, scoring='recall'):\n",
    "    '''\n",
    "    Conducts gridsearch using GridSearchCV\n",
    "    \n",
    "    Inputs:\n",
    "        params: parameter grid in GridSearchCV dictionary format\n",
    "        clf: classifier \n",
    "        cv: k-folds for crossvalidation\n",
    "        scoring: scoring metric for optimization\n",
    "            'accuracy','recall','precision','f1'\n",
    "            \n",
    "    Returns:\n",
    "        Best score for training accuracy\n",
    "        Optimal parameters for model\n",
    "    '''\n",
    "    for i, clf in clf_df.iterrows():\n",
    "        clf_grid_search = GridSearchCV(clf['Model'],\n",
    "                                  param_grid=params[i],\n",
    "                                  cv=cv,\n",
    "                                  scoring=scoring)\n",
    "    clf_grid_search.fit(clf['X_train'], clf['y_train'])\n",
    "    print(f\"Training Accuracy: {clf_grid_search.best_score_ :.2%} \\n\")\n",
    "    print(f\"Optimal Parameters: {clf_grid_search.best_params_}\")"
   ]
  },
  {
   "cell_type": "markdown",
   "metadata": {},
   "source": [
    "Apply grid search function to our models."
   ]
  },
  {
   "cell_type": "code",
   "execution_count": null,
   "metadata": {},
   "outputs": [],
   "source": [
    "grid_search(params, clf_preds)"
   ]
  },
  {
   "cell_type": "markdown",
   "metadata": {},
   "source": [
    "### Best Parameters\n",
    "\n",
    "We'll start by defining our parameters and storing them in dictionary format."
   ]
  },
  {
   "cell_type": "code",
   "execution_count": 69,
   "metadata": {},
   "outputs": [],
   "source": [
    "### Best Parameters ###\n",
    "\n",
    "# Bagging Tree\n",
    "bag_params = {\n",
    "    'n_estimators': [10, 50, 100],\n",
    "    'max_samples' : [10, 100],\n",
    "    'base_estimator__bootstrap': [True, False],\n",
    "    'base_estimator__n_estimators': [10, 50, 100],\n",
    "}\n",
    "\n",
    "\n",
    "# Random Forest\n",
    "rf_params = {\n",
    "    'n_estimators': [10, 100, 500],\n",
    "    'criterion': ['gini', 'entropy'],\n",
    "    'max_leaf_nodes': [10, 65]\n",
    "}\n",
    "\n",
    "# XGBoost\n",
    "xgb_params = {\n",
    "    'min_child_weight': [1, 5, 10],\n",
    "    'gamma': [0.5, 1, 2],\n",
    "    'n_estimators': [100, 500, 1000],\n",
    "    'subsample': [0.6, 0.8, 1.0],\n",
    "    'max_depth': [3, 4, 5]\n",
    "}\n",
    "\n",
    "# Put them together in a list\n",
    "params = [bag_params, rf_params, xgb_params]"
   ]
  },
  {
   "cell_type": "markdown",
   "metadata": {},
   "source": [
    "## Tuned Models\n",
    "\n",
    "### Instantiate Classifiers\n",
    "\n",
    "We'll instantiate our classifiers with the best parameters from our grid search results."
   ]
  },
  {
   "cell_type": "code",
   "execution_count": null,
   "metadata": {},
   "outputs": [],
   "source": [
    "### Instantiate Classifiers ###\n",
    "\n",
    "# Bagging Tree\n",
    "bag_clf_best = BaggingClassifier(\n",
    "    DecisionTreeClassifier(),\n",
    "    n_estimators=100,\n",
    "    max_samples=100, \n",
    "    bootstrap=False,\n",
    "    random_state=seed)\n",
    "\n",
    "# Random Forest\n",
    "rnd_clf_best = RandomForestClassifier(\n",
    "    criterion='entropy',\n",
    "    max_leaf_nodes=65,\n",
    "    n_estimators=500,\n",
    "    n_jobs=-1,\n",
    "    random_state=seed)\n",
    "\n",
    "# XGBoost \n",
    "xgb_clf_best = xgb.XGBClassifier(\n",
    "    gamma=0.5,\n",
    "    max_depth=5,\n",
    "    min_child_weight=1,\n",
    "    n_estimators=100,\n",
    "    subsample=0.6,\n",
    "    random_state=seed) \n",
    "\n",
    "\n",
    "#Training Accuracy: 94.38% \n",
    "# XGBoost Optimal Parameters\n",
    "#Optimal Parameters: {'gamma': 0.5, 'max_depth': 5, 'min_child_weight': 1, 'n_estimators': 100, 'subsample': 0.6}\n",
    "\n",
    "### Create Dictionary of Classifiers ###\n",
    "\n",
    "clf_dict_best = {0:\n",
    "    {'clf_name': 'Bagging Tree',\n",
    "     'clfs': bag_clf_best,\n",
    "     'X_train': X_train_resampled,\n",
    "     'X_test': X_test,\n",
    "     'y_train': y_train_resampled,\n",
    "     'y_test': y_test},\n",
    "            1:\n",
    "    {'clf_name': 'Random Forest',\n",
    "     'clfs': rnd_clf_best,\n",
    "     'X_train': X_train_resampled,\n",
    "     'X_test': X_test,\n",
    "     'y_train': y_train_resampled,\n",
    "     'y_test': y_test},\n",
    "            2:\n",
    "    {'clf_name': 'XGBoost',\n",
    "     'clfs': xgb_clf_best,\n",
    "     'X_train': X_train_resampled_xgb,\n",
    "     'X_test': X_test_xgb,\n",
    "     'y_train': y_train_resampled_xgb,\n",
    "     'y_test': y_test_xgb}}\n",
    "\n",
    "### Convert into DataFrame ##\n",
    "\n",
    "models_df_best = pd.DataFrame.from_dict(clf_dict_best, orient='index')"
   ]
  },
  {
   "cell_type": "markdown",
   "metadata": {},
   "source": [
    "### Fit & Predict"
   ]
  },
  {
   "cell_type": "code",
   "execution_count": null,
   "metadata": {},
   "outputs": [],
   "source": [
    "# Fit & predict using our custom function\n",
    "clf_preds_best = clf_pred(models_df_best)\n",
    "\n",
    "# Take a look at our resulting DataFrame\n",
    "clf_preds_best"
   ]
  },
  {
   "cell_type": "markdown",
   "metadata": {},
   "source": [
    "### Confusion Matrices"
   ]
  },
  {
   "cell_type": "code",
   "execution_count": null,
   "metadata": {},
   "outputs": [],
   "source": [
    "norm_cm(clf_preds_best)"
   ]
  },
  {
   "cell_type": "markdown",
   "metadata": {},
   "source": [
    "### Classification Reports"
   ]
  },
  {
   "cell_type": "code",
   "execution_count": null,
   "metadata": {},
   "outputs": [],
   "source": [
    "clf_reports(clf_preds_best)"
   ]
  },
  {
   "cell_type": "markdown",
   "metadata": {},
   "source": [
    "### ROC Curves"
   ]
  },
  {
   "cell_type": "code",
   "execution_count": null,
   "metadata": {},
   "outputs": [],
   "source": [
    "# Plot ROC curves\n",
    "\n",
    "plot_roc(clf_preds_best)"
   ]
  },
  {
   "cell_type": "markdown",
   "metadata": {},
   "source": [
    "### Accuracy Scores"
   ]
  },
  {
   "cell_type": "code",
   "execution_count": null,
   "metadata": {},
   "outputs": [],
   "source": [
    "acc_scores(clf_preds_best)"
   ]
  },
  {
   "cell_type": "markdown",
   "metadata": {},
   "source": [
    "### Feature Importance\n",
    "\n",
    "Feature importance ranking for XGBoost."
   ]
  },
  {
   "cell_type": "code",
   "execution_count": null,
   "metadata": {},
   "outputs": [],
   "source": [
    "# Print feature importance plot\n",
    "\n",
    "xgb_classifier_best = xgb_clf_best.fit(X_train_resampled_xgb, y_train_resampled_xgb)\n",
    "feat_rank(xgb_classifier_best,X)"
   ]
  },
  {
   "cell_type": "markdown",
   "metadata": {},
   "source": [
    "## Conclusion"
   ]
  },
  {
   "cell_type": "markdown",
   "metadata": {},
   "source": [
    "## Recommendations"
   ]
  },
  {
   "cell_type": "markdown",
   "metadata": {},
   "source": [
    "## Future Work"
   ]
  },
  {
   "cell_type": "code",
   "execution_count": null,
   "metadata": {},
   "outputs": [],
   "source": []
  }
 ],
 "metadata": {
  "kernelspec": {
   "display_name": "Python [conda env:learn-env] *",
   "language": "python",
   "name": "conda-env-learn-env-py"
  },
  "language_info": {
   "codemirror_mode": {
    "name": "ipython",
    "version": 3
   },
   "file_extension": ".py",
   "mimetype": "text/x-python",
   "name": "python",
   "nbconvert_exporter": "python",
   "pygments_lexer": "ipython3",
   "version": "3.6.9"
  },
  "toc": {
   "base_numbering": 1,
   "nav_menu": {},
   "number_sections": true,
   "sideBar": true,
   "skip_h1_title": false,
   "title_cell": "Table of Contents",
   "title_sidebar": "Contents",
   "toc_cell": true,
   "toc_position": {
    "height": "calc(100% - 180px)",
    "left": "10px",
    "top": "150px",
    "width": "230.355px"
   },
   "toc_section_display": true,
   "toc_window_display": true
  }
 },
 "nbformat": 4,
 "nbformat_minor": 2
}
